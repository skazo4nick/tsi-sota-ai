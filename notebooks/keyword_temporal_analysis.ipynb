{
    "cells": [
        {
            "cell_type": "markdown",
            "metadata": {},
            "source": [
                "# Comprehensive Publication Analysis\n",
                "## OpenAlex Data: Supply Chain, Agency & Temporal Keyword Evolution\n",
                "\n",
                "**Complete Workflow:**\n",
                "1. Load and explore OpenAlex data structure\n",
                "2. Filter for supply chain relevance\n",
                "3. Identify agency-related articles\n",
                "4. **Temporal Analysis**: Track 'agent' term evolution and AI/LLM connections\n",
                "5. Generate insights and visualizations"
            ]
        },
        {
            "cell_type": "code",
            "execution_count": 1,
            "metadata": {},
            "outputs": [
                {
                    "name": "stdout",
                    "output_type": "stream",
                    "text": [
                        "=== ENVIRONMENT SETUP ===\n",
                        "Working directory: /workspaces/tsi-sota-ai/notebooks\n",
                        "Data directory: ../data\n",
                        "Available data files:\n",
                        "  abstract_embeddings.npy (6.9 MB)\n",
                        "  references_analysis.json (1.3 MB)\n",
                        "  .DS_Store (0.0 MB)\n",
                        "  agent_scm_30year_yearly.csv (71.3 MB)\n",
                        "  publications_with_clusters.json (12.8 MB)\n",
                        "  publications_with_embeddings.json (12.8 MB)\n",
                        "  clusters_df.json (6.8 MB)\n",
                        "  references_with_keywords_gemini.json (1.5 MB)\n",
                        "  references_stats.json (0.0 MB)\n",
                        "  clusters_analysis.json (0.1 MB)\n",
                        "  agent_scm_publications_combined.csv (0.0 MB)\n",
                        "  references_raw.json (1.3 MB)\n",
                        "  clusters_analysis.csv (0.1 MB)\n",
                        "  agent_scm_publications_2025.csv (0.4 MB)\n"
                    ]
                }
            ],
            "source": [
                "import pandas as pd\n",
                "import numpy as np\n",
                "import re\n",
                "import json\n",
                "from pathlib import Path\n",
                "from collections import Counter, defaultdict\n",
                "import matplotlib.pyplot as plt\n",
                "import seaborn as sns\n",
                "from datetime import datetime\n",
                "import plotly.express as px\n",
                "import plotly.graph_objects as go\n",
                "from plotly.subplots import make_subplots\n",
                "from sklearn.feature_extraction.text import TfidfVectorizer, CountVectorizer\n",
                "from sklearn.metrics.pairwise import cosine_similarity\n",
                "from wordcloud import WordCloud\n",
                "\n",
                "# Setup\n",
                "plt.style.use('default')\n",
                "plt.rcParams['figure.figsize'] = (12, 8)\n",
                "data_dir = Path('../data')\n",
                "\n",
                "print(\"=== ENVIRONMENT SETUP ===\")\n",
                "print(f\"Working directory: {Path.cwd()}\")\n",
                "print(f\"Data directory: {data_dir}\")\n",
                "print(f\"Available data files:\")\n",
                "for file in data_dir.glob('*'):\n",
                "    if file.is_file():\n",
                "        size_mb = file.stat().st_size / 1024 / 1024\n",
                "        print(f\"  {file.name} ({size_mb:.1f} MB)\")"
            ]
        },
        {
            "cell_type": "markdown",
            "metadata": {},
            "source": [
                "## 1. Data Loading and Structure Analysis"
            ]
        },
        {
            "cell_type": "code",
            "execution_count": 2,
            "metadata": {},
            "outputs": [
                {
                    "name": "stdout",
                    "output_type": "stream",
                    "text": [
                        "=== LOADING AGENT SCM 30-YEAR DATASET ===\n",
                        "Loading: agent_scm_30year_yearly.csv (71.3 MB)\n",
                        "✅ Successfully loaded 38,229 records\n",
                        "Shape: (38229, 12)\n",
                        "Memory usage: 121.3 MB\n",
                        "\n",
                        "=== DATASET OVERVIEW ===\n",
                        "Columns: 12\n",
                        "Records: 38,229\n",
                        "\n",
                        "First 5 column names:\n",
                        "  1. openalex_id\n",
                        "  2. title\n",
                        "  3. publication_year\n",
                        "  4. cited_by_count\n",
                        "  5. doi\n",
                        "  ... and 7 more columns\n",
                        "✅ Successfully loaded 38,229 records\n",
                        "Shape: (38229, 12)\n",
                        "Memory usage: 121.3 MB\n",
                        "\n",
                        "=== DATASET OVERVIEW ===\n",
                        "Columns: 12\n",
                        "Records: 38,229\n",
                        "\n",
                        "First 5 column names:\n",
                        "  1. openalex_id\n",
                        "  2. title\n",
                        "  3. publication_year\n",
                        "  4. cited_by_count\n",
                        "  5. doi\n",
                        "  ... and 7 more columns\n"
                    ]
                }
            ],
            "source": [
                "# Load the specific OpenAlex dataset: agent_scm_30year_yearly.csv\n",
                "print(\"=== LOADING AGENT SCM 30-YEAR DATASET ===\")\n",
                "\n",
                "# Load the main dataset\n",
                "target_file = data_dir / 'agent_scm_30year_yearly.csv'\n",
                "print(f\"Loading: {target_file.name} ({target_file.stat().st_size / 1024 / 1024:.1f} MB)\")\n",
                "\n",
                "try:\n",
                "    # Load with low_memory=False to handle mixed types\n",
                "    df = pd.read_csv(target_file, low_memory=False)\n",
                "    print(f\"✅ Successfully loaded {len(df):,} records\")\n",
                "    print(f\"Shape: {df.shape}\")\n",
                "    print(f\"Memory usage: {df.memory_usage(deep=True).sum() / 1024 / 1024:.1f} MB\")\n",
                "except Exception as e:\n",
                "    print(f\"❌ Error loading {target_file.name}: {e}\")\n",
                "    df = None\n",
                "\n",
                "if df is not None:\n",
                "    print(f\"\\n=== DATASET OVERVIEW ===\")\n",
                "    print(f\"Columns: {len(df.columns)}\")\n",
                "    print(f\"Records: {len(df):,}\")\n",
                "    \n",
                "    # Show basic info\n",
                "    print(f\"\\nFirst 5 column names:\")\n",
                "    for i, col in enumerate(df.columns[:5]):\n",
                "        print(f\"  {i+1}. {col}\")\n",
                "    \n",
                "    if len(df.columns) > 5:\n",
                "        print(f\"  ... and {len(df.columns) - 5} more columns\")"
            ]
        },
        {
            "cell_type": "code",
            "execution_count": 3,
            "id": "e4d91aa1",
            "metadata": {},
            "outputs": [
                {
                    "name": "stdout",
                    "output_type": "stream",
                    "text": [
                        "=== DETAILED COLUMN ANALYSIS ===\n",
                        "Total columns: 12\n",
                        "   1. openalex_id                    | object       |   0.0% null |   38,229 unique\n",
                        "   2. title                          | object       |   0.6% null |   37,578 unique\n",
                        "   3. publication_year               | int64        |   0.0% null |       31 unique\n",
                        "   4. cited_by_count                 | int64        |   0.0% null |    2,111 unique\n",
                        "   5. doi                            | object       |   3.9% null |   36,744 unique\n",
                        "   6. venue                          | object       |   8.2% null |    8,499 unique\n",
                        "   7. authors                        | object       |   0.0% null |   36,079 unique\n",
                        "   8. abstract                       | object       |  29.3% null |   26,680 unique\n",
                        "   9. keywords                       | object       |   0.0% null |   37,667 unique\n",
                        "  10. search_query                   | object       |   0.0% null |       10 unique\n",
                        "  11. collection_year                | int64        |   0.0% null |       31 unique\n",
                        "  12. collection_timestamp           | object       |   0.0% null |   38,229 unique\n",
                        "\n",
                        "Sample values from first few columns:\n",
                        "  openalex_id                   : https://openalex.org/W19653922..., https://openalex.org/W20908413..., https://openalex.org/W21482197...\n",
                        "  title                         : Fundamentals of Statistical Si..., Toward a New Conception of the..., Relationship Marketing of Serv...\n",
                        "  publication_year              : 1995, 1995, 1995\n",
                        "  cited_by_count                : 11571, 10545, 3093\n",
                        "  doi                           : https://doi.org/10.1080/004017..., https://doi.org/10.1257/jep.9...., https://doi.org/10.1177/009207...\n",
                        "   8. abstract                       | object       |  29.3% null |   26,680 unique\n",
                        "   9. keywords                       | object       |   0.0% null |   37,667 unique\n",
                        "  10. search_query                   | object       |   0.0% null |       10 unique\n",
                        "  11. collection_year                | int64        |   0.0% null |       31 unique\n",
                        "  12. collection_timestamp           | object       |   0.0% null |   38,229 unique\n",
                        "\n",
                        "Sample values from first few columns:\n",
                        "  openalex_id                   : https://openalex.org/W19653922..., https://openalex.org/W20908413..., https://openalex.org/W21482197...\n",
                        "  title                         : Fundamentals of Statistical Si..., Toward a New Conception of the..., Relationship Marketing of Serv...\n",
                        "  publication_year              : 1995, 1995, 1995\n",
                        "  cited_by_count                : 11571, 10545, 3093\n",
                        "  doi                           : https://doi.org/10.1080/004017..., https://doi.org/10.1257/jep.9...., https://doi.org/10.1177/009207...\n"
                    ]
                }
            ],
            "source": [
                "# Detailed column analysis\n",
                "if df is not None:\n",
                "    print(\"=== DETAILED COLUMN ANALYSIS ===\")\n",
                "    print(f\"Total columns: {len(df.columns)}\")\n",
                "    \n",
                "    # Analyze each column\n",
                "    column_info = []\n",
                "    for i, col in enumerate(df.columns):\n",
                "        dtype = str(df[col].dtype)\n",
                "        null_count = df[col].isnull().sum()\n",
                "        null_pct = (null_count / len(df)) * 100\n",
                "        unique_count = df[col].nunique()\n",
                "        \n",
                "        # Sample non-null values\n",
                "        sample_values = df[col].dropna().head(3).tolist()\n",
                "        sample_str = ', '.join([str(v)[:30] + ('...' if len(str(v)) > 30 else '') for v in sample_values])\n",
                "        \n",
                "        column_info.append({\n",
                "            'position': i + 1,\n",
                "            'name': col,\n",
                "            'dtype': dtype,\n",
                "            'null_count': null_count,\n",
                "            'null_pct': null_pct,\n",
                "            'unique_count': unique_count,\n",
                "            'sample_values': sample_str\n",
                "        })\n",
                "        \n",
                "        print(f\"  {i+1:2d}. {col:30} | {dtype:12} | {null_pct:5.1f}% null | {unique_count:8,} unique\")\n",
                "    \n",
                "    # Store for later use\n",
                "    globals()['column_info'] = column_info\n",
                "    \n",
                "    print(f\"\\nSample values from first few columns:\")\n",
                "    for col_info in column_info[:5]:\n",
                "        print(f\"  {col_info['name']:30}: {col_info['sample_values']}\")"
            ]
        },
        {
            "cell_type": "code",
            "execution_count": 5,
            "id": "15aea35d",
            "metadata": {},
            "outputs": [
                {
                    "name": "stdout",
                    "output_type": "stream",
                    "text": [
                        "\n",
                        "=== OPENALEX FIELD MAPPING ===\n",
                        "  id             : ✅ openalex_id\n",
                        "  title          : ✅ title\n",
                        "  abstract       : ✅ abstract\n",
                        "  authors        : ✅ authors\n",
                        "  year           : ✅ collection_year\n",
                        "  venue          : ✅ venue\n",
                        "  keywords       : ✅ keywords\n",
                        "  citations      : ✅ cited_by_count\n",
                        "  doi            : ✅ doi\n",
                        "  type           : ❌ NOT FOUND\n",
                        "  open_access    : ❌ NOT FOUND\n",
                        "  language       : ❌ NOT FOUND\n",
                        "  institutions   : ❌ NOT FOUND\n",
                        "\n",
                        "Mapped 9 standard fields from 12 total columns\n"
                    ]
                }
            ],
            "source": [
                "# Map columns to OpenAlex standard fields\n",
                "if df is not None:\n",
                "    print(\"\\n=== OPENALEX FIELD MAPPING ===\")\n",
                "    \n",
                "    # Common OpenAlex field patterns\n",
                "    field_patterns = {\n",
                "        'id': ['id', 'openalex_id', 'work_id'],\n",
                "        'title': ['title', 'display_name', 'work_title'],\n",
                "        'abstract': ['abstract', 'abstract_inverted_index'],\n",
                "        'authors': ['authors', 'authorships', 'author_names'],\n",
                "        'year': ['publication_year', 'year', 'publication_date', 'published_date'],\n",
                "        'venue': ['primary_location', 'host_venue', 'journal', 'source', 'venue'],\n",
                "        'keywords': ['keywords', 'concepts', 'topics', 'mesh_terms'],\n",
                "        'citations': ['cited_by_count', 'citation_count', 'citations'],\n",
                "        'doi': ['doi', 'ids'],\n",
                "        'type': ['type', 'work_type', 'publication_type'],\n",
                "        'open_access': ['open_access', 'is_oa'],\n",
                "        'language': ['language'],\n",
                "        'institutions': ['institutions', 'affiliations']\n",
                "    }\n",
                "    \n",
                "    identified_fields = {}\n",
                "    \n",
                "    for field_type, patterns in field_patterns.items():\n",
                "        matches = []\n",
                "        for col in df.columns:\n",
                "            col_lower = col.lower()\n",
                "            for pattern in patterns:\n",
                "                if pattern.lower() in col_lower:\n",
                "                    matches.append(col)\n",
                "                    break\n",
                "        \n",
                "        if matches:\n",
                "            # Prefer exact matches, then shortest name\n",
                "            best_match = min(matches, key=lambda x: (len(x), x))\n",
                "            identified_fields[field_type] = best_match\n",
                "            print(f\"  {field_type:15}: ✅ {best_match}\")\n",
                "        else:\n",
                "            print(f\"  {field_type:15}: ❌ NOT FOUND\")\n",
                "    \n",
                "    # Store field mapping globally\n",
                "    globals()['field_map'] = identified_fields\n",
                "    \n",
                "    print(f\"\\nMapped {len(identified_fields)} standard fields from {len(df.columns)} total columns\")"
            ]
        },
        {
            "cell_type": "code",
            "execution_count": 6,
            "id": "87c5872f",
            "metadata": {},
            "outputs": [
                {
                    "name": "stdout",
                    "output_type": "stream",
                    "text": [
                        "\n",
                        "=== SAMPLE DATA EXPLORATION ===\n",
                        "Sample records (first 3 rows):\n",
                        "                                                          title  collection_year                                      authors  cited_by_count                      openalex_id  publication_year                                            doi\n",
                        "Fundamentals of Statistical Signal Processing: Estimation Th...             1995                      ['Sailes K. Sengijpta']           11571 https://openalex.org/W1965392255              1995 https://doi.org/10.1080/00401706.1995.10484391\n",
                        "Toward a New Conception of the Environment-Competitiveness R...             1995 ['Michael E. Porter', 'Claas van der Linde']           10545 https://openalex.org/W2090841340              1995             https://doi.org/10.1257/jep.9.4.97\n",
                        "Relationship Marketing of Services--Growing Interest, Emergi...             1995                         ['Leonard L. Berry']            3093 https://openalex.org/W2148219776              1995     https://doi.org/10.1177/009207039502300402\n",
                        "\n",
                        "=== BASIC STATISTICS ===\n",
                        "Publication years: 1995 - 2025\n",
                        "Total with valid years: 38,229 (100.0%)\n",
                        "Publications 2020+: 7,551 (19.8% of dated articles)\n",
                        "Citations: mean=256.6, median=103, max=34946\n",
                        "Data quality: 16,017 total null values across all columns\n"
                    ]
                }
            ],
            "source": [
                "# Sample data exploration\n",
                "if df is not None and 'field_map' in globals():\n",
                "    print(\"\\n=== SAMPLE DATA EXPLORATION ===\")\n",
                "    \n",
                "    # Show sample records\n",
                "    print(\"Sample records (first 3 rows):\")\n",
                "    display_cols = []\n",
                "    \n",
                "    # Priority display columns\n",
                "    priority_fields = ['title', 'year', 'authors', 'citations']\n",
                "    for field in priority_fields:\n",
                "        if field in field_map:\n",
                "            display_cols.append(field_map[field])\n",
                "    \n",
                "    # Add a few more interesting columns\n",
                "    remaining_cols = [col for col in df.columns if col not in display_cols][:3]\n",
                "    display_cols.extend(remaining_cols)\n",
                "    \n",
                "    if display_cols:\n",
                "        sample_df = df[display_cols].head(3).copy()\n",
                "        \n",
                "        # Truncate long text for display\n",
                "        for col in sample_df.columns:\n",
                "            if sample_df[col].dtype == 'object':\n",
                "                sample_df[col] = sample_df[col].astype(str).apply(\n",
                "                    lambda x: x[:60] + '...' if len(x) > 60 else x\n",
                "                )\n",
                "        \n",
                "        print(sample_df.to_string(index=False))\n",
                "    \n",
                "    # Basic statistics\n",
                "    print(f\"\\n=== BASIC STATISTICS ===\")\n",
                "    \n",
                "    # Year analysis\n",
                "    if 'year' in field_map:\n",
                "        year_col = field_map['year']\n",
                "        years = pd.to_numeric(df[year_col], errors='coerce').dropna()\n",
                "        if len(years) > 0:\n",
                "            print(f\"Publication years: {int(years.min())} - {int(years.max())}\")\n",
                "            print(f\"Total with valid years: {len(years):,} ({len(years)/len(df)*100:.1f}%)\")\n",
                "            \n",
                "            # Recent distribution\n",
                "            recent_years = years[years >= 2020]\n",
                "            if len(recent_years) > 0:\n",
                "                print(f\"Publications 2020+: {len(recent_years):,} ({len(recent_years)/len(years)*100:.1f}% of dated articles)\")\n",
                "    \n",
                "    # Citations analysis\n",
                "    if 'citations' in field_map:\n",
                "        cite_col = field_map['citations']\n",
                "        citations = pd.to_numeric(df[cite_col], errors='coerce').dropna()\n",
                "        if len(citations) > 0:\n",
                "            print(f\"Citations: mean={citations.mean():.1f}, median={citations.median():.0f}, max={citations.max():.0f}\")\n",
                "    \n",
                "    print(f\"Data quality: {df.isnull().sum().sum():,} total null values across all columns\")"
            ]
        },
        {
            "cell_type": "markdown",
            "id": "482ffe27",
            "metadata": {},
            "source": [
                "## 2. Comprehensive Keyword Taxonomy Definition\n",
                "\n",
                "Defining our keyword categories for multi-dimensional analysis:\n",
                "- **Supply Chain**: Core SCM, operations, and technology terms\n",
                "- **Agency**: Theory, modeling, and governance concepts\n",
                "- **AI/LLM**: General AI, specific LLM terms, and applications\n",
                "- **Agent Terms**: General and compound agent terminology"
            ]
        },
        {
            "cell_type": "code",
            "execution_count": 7,
            "id": "7f21b15b",
            "metadata": {},
            "outputs": [
                {
                    "name": "stdout",
                    "output_type": "stream",
                    "text": [
                        "=== KEYWORD TAXONOMY CREATED ===\n",
                        "supply_chain   :  34 keywords across 3 subcategories\n",
                        "agency         :  26 keywords across 3 subcategories\n",
                        "ai_llm         :  35 keywords across 3 subcategories\n",
                        "agent_terms    :  15 keywords across 2 subcategories\n",
                        "\n",
                        "Regex patterns generated for efficient text matching\n"
                    ]
                }
            ],
            "source": [
                "# Comprehensive keyword taxonomy for analysis\n",
                "KEYWORD_TAXONOMY = {\n",
                "    'supply_chain': {\n",
                "        'core': [\n",
                "            'supply chain', 'supply-chain', 'supply chains',\n",
                "            'logistics', 'procurement', 'sourcing',\n",
                "            'inventory management', 'distribution', 'warehousing',\n",
                "            'supplier', 'vendor management', 'supply network',\n",
                "            'supply chain management', 'SCM'\n",
                "        ],\n",
                "        'operations': [\n",
                "            'operations management', 'production planning', 'demand forecasting',\n",
                "            'capacity planning', 'lean manufacturing', 'just-in-time',\n",
                "            'value chain', 'operations research', 'supply planning'\n",
                "        ],\n",
                "        'technology': [\n",
                "            'supply chain technology', 'supply chain digitalization',\n",
                "            'supply chain analytics', 'blockchain supply chain',\n",
                "            'IoT supply chain', 'AI supply chain', 'digital supply chain',\n",
                "            'ERP', 'WMS', 'TMS', 'supply chain automation'\n",
                "        ]\n",
                "    },\n",
                "    'agency': {\n",
                "        'theory': [\n",
                "            'agency theory', 'principal-agent', 'principal agent',\n",
                "            'moral hazard', 'adverse selection', 'information asymmetry',\n",
                "            'agency costs', 'agency problems', 'agency relationship'\n",
                "        ],\n",
                "        'modeling': [\n",
                "            'agent-based modeling', 'agent based modeling', 'ABM',\n",
                "            'multi-agent system', 'multi agent system', 'MAS',\n",
                "            'autonomous agents', 'intelligent agents', 'software agents',\n",
                "            'agent-based simulation', 'agent based simulation'\n",
                "        ],\n",
                "        'governance': [\n",
                "            'governance mechanisms', 'monitoring', 'incentive alignment',\n",
                "            'contract theory', 'agency relationships', 'corporate governance'\n",
                "        ]\n",
                "    },\n",
                "    'ai_llm': {\n",
                "        'ai_general': [\n",
                "            'artificial intelligence', 'machine learning', 'deep learning',\n",
                "            'neural networks', 'AI', 'ML', 'DL',\n",
                "            'computer vision', 'natural language processing', 'NLP',\n",
                "            'reinforcement learning', 'supervised learning'\n",
                "        ],\n",
                "        'llm_specific': [\n",
                "            'large language model', 'large language models', 'LLM', 'LLMs',\n",
                "            'transformer', 'transformers', 'BERT', 'GPT',\n",
                "            'language model', 'foundation model', 'foundation models',\n",
                "            'generative AI', 'ChatGPT', 'OpenAI', 'pretrained model'\n",
                "        ],\n",
                "        'applications': [\n",
                "            'conversational AI', 'dialogue system', 'chatbot',\n",
                "            'text generation', 'language generation',\n",
                "            'prompt engineering', 'fine-tuning', 'AI assistant'\n",
                "        ]\n",
                "    },\n",
                "    'agent_terms': {\n",
                "        'general': [\n",
                "            'agent', 'agents', 'agented', 'agenting',\n",
                "            'agency', 'agencies'\n",
                "        ],\n",
                "        'compound': [\n",
                "            'AI agent', 'AI agents', 'artificial agent',\n",
                "            'digital agent', 'virtual agent', 'cognitive agent',\n",
                "            'conversational agent', 'autonomous agent', 'smart agent'\n",
                "        ]\n",
                "    }\n",
                "}\n",
                "\n",
                "# Create efficient regex patterns for matching\n",
                "def create_regex_pattern(keywords):\n",
                "    \"\"\"Create case-insensitive regex pattern with word boundaries\"\"\"\n",
                "    # Escape special regex characters and add word boundaries\n",
                "    escaped = []\n",
                "    for kw in keywords:\n",
                "        # Handle hyphenated terms and special cases\n",
                "        if '-' in kw:\n",
                "            # Allow both hyphenated and space versions\n",
                "            variants = [re.escape(kw), re.escape(kw.replace('-', ' '))]\n",
                "            escaped.extend(variants)\n",
                "        else:\n",
                "            escaped.append(re.escape(kw))\n",
                "    \n",
                "    # Create pattern with word boundaries\n",
                "    pattern = r'\\b(?:' + '|'.join(escaped) + r')\\b'\n",
                "    return pattern\n",
                "\n",
                "# Generate patterns for all categories\n",
                "PATTERNS = {}\n",
                "for category, subcategories in KEYWORD_TAXONOMY.items():\n",
                "    PATTERNS[category] = {}\n",
                "    all_keywords = []\n",
                "    for subcat, keywords in subcategories.items():\n",
                "        PATTERNS[category][subcat] = create_regex_pattern(keywords)\n",
                "        all_keywords.extend(keywords)\n",
                "    PATTERNS[category]['all'] = create_regex_pattern(all_keywords)\n",
                "\n",
                "print(\"=== KEYWORD TAXONOMY CREATED ===\")\n",
                "for category, subcats in KEYWORD_TAXONOMY.items():\n",
                "    total_keywords = sum(len(keywords) for keywords in subcats.values())\n",
                "    print(f\"{category:15}: {total_keywords:3d} keywords across {len(subcats)} subcategories\")\n",
                "\n",
                "print(f\"\\nRegex patterns generated for efficient text matching\")"
            ]
        },
        {
            "cell_type": "markdown",
            "id": "36df98af",
            "metadata": {},
            "source": [
                "## 3. Efficient Text Analysis Functions\n",
                "\n",
                "Implementing fast keyword matching and publication categorization functions."
            ]
        },
        {
            "cell_type": "code",
            "execution_count": 8,
            "id": "5cc28326",
            "metadata": {},
            "outputs": [
                {
                    "name": "stdout",
                    "output_type": "stream",
                    "text": [
                        "Text analysis functions ready for execution\n"
                    ]
                }
            ],
            "source": [
                "# Efficient text analysis functions\n",
                "def fast_keyword_match(text, pattern):\n",
                "    \"\"\"Fast regex-based keyword matching with case-insensitive search\"\"\"\n",
                "    if pd.isna(text) or text is None:\n",
                "        return False\n",
                "    try:\n",
                "        return bool(re.search(pattern, str(text), re.IGNORECASE))\n",
                "    except:\n",
                "        return False\n",
                "\n",
                "def extract_matching_terms(text, original_keywords):\n",
                "    \"\"\"Extract actual matching terms from text\"\"\"\n",
                "    if pd.isna(text) or text is None:\n",
                "        return []\n",
                "    \n",
                "    text_lower = str(text).lower()\n",
                "    matches = []\n",
                "    \n",
                "    for keyword in original_keywords:\n",
                "        # Use word boundaries for more precise matching\n",
                "        pattern = r'\\b' + re.escape(keyword.lower()) + r'\\b'\n",
                "        if re.search(pattern, text_lower):\n",
                "            matches.append(keyword)\n",
                "    \n",
                "    return matches\n",
                "\n",
                "def analyze_publications_comprehensive(df, field_map):\n",
                "    \"\"\"Comprehensive publication analysis by keyword categories\"\"\"\n",
                "    \n",
                "    if df is None or len(df) == 0:\n",
                "        return None\n",
                "    \n",
                "    results = {\n",
                "        'total_publications': len(df),\n",
                "        'analysis_timestamp': datetime.now().isoformat(),\n",
                "        'by_category': {},\n",
                "        'temporal_data': {},\n",
                "        'matching_articles': {},\n",
                "        'field_coverage': {}\n",
                "    }\n",
                "    \n",
                "    # Determine text fields to search\n",
                "    search_fields = []\n",
                "    text_field_types = ['title', 'abstract', 'keywords']\n",
                "    \n",
                "    for field_type in text_field_types:\n",
                "        if field_type in field_map and field_map[field_type] in df.columns:\n",
                "            col_name = field_map[field_type]\n",
                "            # Check if field has meaningful content\n",
                "            non_null_count = df[col_name].notna().sum()\n",
                "            coverage = non_null_count / len(df) * 100\n",
                "            \n",
                "            search_fields.append((field_type, col_name))\n",
                "            results['field_coverage'][field_type] = {\n",
                "                'column': col_name,\n",
                "                'coverage_pct': coverage,\n",
                "                'non_null_count': non_null_count\n",
                "            }\n",
                "            print(f\"Will search {field_type:10}: {col_name:30} ({coverage:5.1f}% coverage)\")\n",
                "    \n",
                "    if not search_fields:\n",
                "        print(\"❌ No searchable text fields found!\")\n",
                "        return results\n",
                "    \n",
                "    # Year field for temporal analysis\n",
                "    year_field = field_map.get('year')\n",
                "    \n",
                "    print(f\"\\nAnalyzing {len(KEYWORD_TAXONOMY)} categories across {len(search_fields)} text fields...\")\n",
                "    \n",
                "    # Analyze each category\n",
                "    for category in KEYWORD_TAXONOMY.keys():\n",
                "        print(f\"\\n  Analyzing {category}...\")\n",
                "        \n",
                "        category_mask = pd.Series([False] * len(df))\n",
                "        subcategory_results = {}\n",
                "        subcategory_matches = {}\n",
                "        \n",
                "        # Check each subcategory\n",
                "        for subcat in KEYWORD_TAXONOMY[category].keys():\n",
                "            subcat_mask = pd.Series([False] * len(df))\n",
                "            subcat_matching_terms = []\n",
                "            \n",
                "            # Search in all specified fields\n",
                "            for field_name, col_name in search_fields:\n",
                "                if col_name in df.columns:\n",
                "                    try:\n",
                "                        field_matches = df[col_name].apply(\n",
                "                            lambda x: fast_keyword_match(x, PATTERNS[category][subcat])\n",
                "                        )\n",
                "                        subcat_mask |= field_matches\n",
                "                        \n",
                "                        # Track which terms were found (sample)\n",
                "                        sample_matches = df[field_matches][col_name].head(5).apply(\n",
                "                            lambda x: extract_matching_terms(x, KEYWORD_TAXONOMY[category][subcat])\n",
                "                        ).tolist()\n",
                "                        subcat_matching_terms.extend([term for terms in sample_matches for term in terms])\n",
                "                        \n",
                "                    except Exception as e:\n",
                "                        print(f\"    ⚠️  Error searching {field_name}: {e}\")\n",
                "            \n",
                "            subcategory_results[subcat] = {\n",
                "                'count': subcat_mask.sum(),\n",
                "                'percentage': (subcat_mask.sum() / len(df)) * 100,\n",
                "                'sample_terms': list(set(subcat_matching_terms[:10]))  # Top 10 unique terms\n",
                "            }\n",
                "            subcategory_matches[subcat] = subcat_mask\n",
                "            category_mask |= subcat_mask\n",
                "        \n",
                "        # Store category results\n",
                "        total_matches = category_mask.sum()\n",
                "        results['by_category'][category] = {\n",
                "            'total': total_matches,\n",
                "            'percentage': (total_matches / len(df)) * 100,\n",
                "            'subcategories': subcategory_results\n",
                "        }\n",
                "        \n",
                "        # Store matching article indices\n",
                "        results['matching_articles'][category] = df[category_mask].index.tolist()\n",
                "        \n",
                "        # Temporal analysis if year data available\n",
                "        if year_field and year_field in df.columns and total_matches > 0:\n",
                "            matching_df = df[category_mask]\n",
                "            years = pd.to_numeric(matching_df[year_field], errors='coerce').dropna()\n",
                "            \n",
                "            if len(years) > 0:\n",
                "                # Filter reasonable years (1990-2024)\n",
                "                valid_years = years[(years >= 1990) & (years <= 2024)]\n",
                "                if len(valid_years) > 0:\n",
                "                    year_counts = valid_years.value_counts().sort_index()\n",
                "                    results['temporal_data'][category] = {\n",
                "                        'year_counts': year_counts.to_dict(),\n",
                "                        'year_range': (int(valid_years.min()), int(valid_years.max())),\n",
                "                        'peak_year': int(year_counts.idxmax()) if len(year_counts) > 0 else None,\n",
                "                        'articles_with_years': len(valid_years),\n",
                "                        'coverage_pct': len(valid_years) / total_matches * 100\n",
                "                    }\n",
                "        \n",
                "        print(f\"    Found {total_matches:,} articles ({(total_matches/len(df)*100):.1f}%)\")\n",
                "    \n",
                "    return results\n",
                "\n",
                "print(\"Text analysis functions ready for execution\")"
            ]
        },
        {
            "cell_type": "markdown",
            "id": "80f099af",
            "metadata": {},
            "source": [
                "## 4. Execute Comprehensive Analysis\n",
                "\n",
                "Running the complete analysis on the agent SCM dataset."
            ]
        },
        {
            "cell_type": "code",
            "execution_count": 9,
            "id": "b0ed0d75",
            "metadata": {},
            "outputs": [
                {
                    "name": "stdout",
                    "output_type": "stream",
                    "text": [
                        "=== EXECUTING COMPREHENSIVE ANALYSIS ===\n",
                        "Dataset: 38,229 publications\n",
                        "Fields mapped: ['id', 'title', 'abstract', 'authors', 'year', 'venue', 'keywords', 'citations', 'doi']\n",
                        "Analysis categories: ['supply_chain', 'agency', 'ai_llm', 'agent_terms']\n",
                        "Will search title     : title                          ( 99.4% coverage)\n",
                        "Will search abstract  : abstract                       ( 70.7% coverage)\n",
                        "Will search keywords  : keywords                       (100.0% coverage)\n",
                        "\n",
                        "Analyzing 4 categories across 3 text fields...\n",
                        "\n",
                        "  Analyzing supply_chain...\n",
                        "    Found 11,409 articles (29.8%)\n",
                        "\n",
                        "  Analyzing agency...\n",
                        "    Found 4,423 articles (11.6%)\n",
                        "\n",
                        "  Analyzing ai_llm...\n",
                        "    Found 4,383 articles (11.5%)\n",
                        "\n",
                        "  Analyzing agent_terms...\n",
                        "    Found 11,374 articles (29.8%)\n",
                        "\n",
                        "============================================================\n",
                        "ANALYSIS SUMMARY\n",
                        "============================================================\n",
                        "Total Publications: 38,229\n",
                        "\n",
                        "SUPPLY CHAIN        : 11,409 articles ( 29.8%)\n",
                        "  └─ core           : 10,163 articles ( 26.6%)\n",
                        "     Sample terms: supply chain, inventory management, distribution\n",
                        "  └─ operations     :  3,604 articles (  9.4%)\n",
                        "     Sample terms: operations management, just-in-time\n",
                        "\n",
                        "AGENCY              :  4,423 articles ( 11.6%)\n",
                        "  └─ modeling       :  2,297 articles (  6.0%)\n",
                        "     Sample terms: multi-agent system, intelligent agents, MAS\n",
                        "  └─ governance     :  1,847 articles (  4.8%)\n",
                        "     Sample terms: corporate governance, monitoring, agency relationships\n",
                        "\n",
                        "AI LLM              :  4,383 articles ( 11.5%)\n",
                        "  └─ ai_general     :  4,332 articles ( 11.3%)\n",
                        "     Sample terms: DL, reinforcement learning, AI\n",
                        "  └─ llm_specific   :    143 articles (  0.4%)\n",
                        "     Sample terms: transformers, GPT, transformer\n",
                        "\n",
                        "AGENT TERMS         : 11,374 articles ( 29.8%)\n",
                        "  └─ general        : 11,374 articles ( 29.8%)\n",
                        "     Sample terms: agent, agency, agents\n",
                        "  └─ compound       :    178 articles (  0.5%)\n",
                        "     Sample terms: virtual agent, artificial agent, cognitive agent\n",
                        "\n",
                        "FIELD COVERAGE:\n",
                        "  title     :  99.4% (38,014 records)\n",
                        "  abstract  :  70.7% (27,030 records)\n",
                        "  keywords  : 100.0% (38,229 records)\n",
                        "\n",
                        "============================================================\n"
                    ]
                }
            ],
            "source": [
                "# Execute comprehensive analysis\n",
                "if df is not None and 'field_map' in globals():\n",
                "    print(\"=== EXECUTING COMPREHENSIVE ANALYSIS ===\")\n",
                "    print(f\"Dataset: {len(df):,} publications\")\n",
                "    print(f\"Fields mapped: {list(field_map.keys())}\")\n",
                "    print(f\"Analysis categories: {list(KEYWORD_TAXONOMY.keys())}\")\n",
                "    \n",
                "    # Run the analysis\n",
                "    analysis_results = analyze_publications_comprehensive(df, field_map)\n",
                "    \n",
                "    if analysis_results:\n",
                "        print(\"\\n\" + \"=\"*60)\n",
                "        print(\"ANALYSIS SUMMARY\")\n",
                "        print(\"=\"*60)\n",
                "        \n",
                "        total_pubs = analysis_results['total_publications']\n",
                "        print(f\"Total Publications: {total_pubs:,}\\n\")\n",
                "        \n",
                "        # Category overview\n",
                "        for category, data in analysis_results['by_category'].items():\n",
                "            print(f\"{category.upper().replace('_', ' '):20}: {data['total']:6,} articles ({data['percentage']:5.1f}%)\")\n",
                "            \n",
                "            # Show top subcategories\n",
                "            sorted_subcats = sorted(data['subcategories'].items(), \n",
                "                                  key=lambda x: x[1]['count'], reverse=True)\n",
                "            \n",
                "            for subcat, subdata in sorted_subcats[:2]:  # Top 2 subcategories\n",
                "                print(f\"  └─ {subcat:15}: {subdata['count']:6,} articles ({subdata['percentage']:5.1f}%)\")\n",
                "                if subdata['sample_terms']:\n",
                "                    terms_str = ', '.join(subdata['sample_terms'][:3])\n",
                "                    print(f\"     Sample terms: {terms_str}\")\n",
                "            print()\n",
                "        \n",
                "        # Field coverage summary\n",
                "        print(\"FIELD COVERAGE:\")\n",
                "        for field, coverage_data in analysis_results['field_coverage'].items():\n",
                "            print(f\"  {field:10}: {coverage_data['coverage_pct']:5.1f}% ({coverage_data['non_null_count']:,} records)\")\n",
                "        \n",
                "        print(\"\\n\" + \"=\"*60)\n",
                "else:\n",
                "    print(\"❌ Cannot run analysis - data or field mapping not available\")\n",
                "    analysis_results = None"
            ]
        },
        {
            "cell_type": "markdown",
            "metadata": {},
            "source": [
                "## 5. Temporal Evolution Analysis - Focus on 'Agent' Terms"
            ]
        },
        {
            "cell_type": "code",
            "execution_count": 10,
            "metadata": {},
            "outputs": [
                {
                    "name": "stdout",
                    "output_type": "stream",
                    "text": [
                        "=== AGENT TERM EVOLUTION ANALYSIS ===\n",
                        "Total agent-related articles: 12,547\n",
                        "Agent + AI intersection: 2,268\n",
                        "\n",
                        "=== EVOLUTION SUMMARY ===\n",
                        "Agent articles: 12,211\n",
                        "AI articles: 4,161\n",
                        "Agent+AI articles: 2,172\n",
                        "Year range: 1995-2024\n",
                        "\n",
                        "=== KEY TRENDS (Last 10 Years) ===\n",
                        "2015: Agent=448, AI=  99, Agent+AI= 58 (12.9%)\n",
                        "2016: Agent=383, AI= 105, Agent+AI= 51 (13.3%)\n",
                        "2017: Agent=415, AI= 129, Agent+AI= 65 (15.7%)\n",
                        "2018: Agent=480, AI= 154, Agent+AI= 71 (14.8%)\n",
                        "2019: Agent=515, AI= 193, Agent+AI= 88 (17.1%)\n",
                        "2020: Agent=547, AI= 258, Agent+AI=117 (21.4%)\n",
                        "2021: Agent=568, AI= 290, Agent+AI=128 (22.5%)\n",
                        "2022: Agent=588, AI= 361, Agent+AI=170 (28.9%)\n",
                        "2023: Agent=591, AI= 419, Agent+AI=180 (30.5%)\n",
                        "2024: Agent=574, AI= 408, Agent+AI=180 (31.4%)\n"
                    ]
                }
            ],
            "source": [
                "# Deep dive into agent term evolution over time\n",
                "def analyze_agent_evolution(df, field_map, analysis_results):\n",
                "    \"\"\"Detailed analysis of agent term evolution and AI/LLM connections\"\"\"\n",
                "    \n",
                "    if 'year' not in field_map:\n",
                "        print(\"❌ No year field available for temporal analysis\")\n",
                "        return None\n",
                "    \n",
                "    year_field = field_map['year']\n",
                "    \n",
                "    # Get agent-related articles\n",
                "    agent_indices = set(analysis_results['matching_articles'].get('agency', []))\n",
                "    agent_term_indices = set(analysis_results['matching_articles'].get('agent_terms', []))\n",
                "    ai_indices = set(analysis_results['matching_articles'].get('ai_llm', []))\n",
                "    \n",
                "    # Combine agent-related terms\n",
                "    all_agent_indices = agent_indices | agent_term_indices\n",
                "    \n",
                "    print(f\"=== AGENT TERM EVOLUTION ANALYSIS ===\")\n",
                "    print(f\"Total agent-related articles: {len(all_agent_indices):,}\")\n",
                "    print(f\"Agent + AI intersection: {len(all_agent_indices & ai_indices):,}\")\n",
                "    \n",
                "    # Create temporal analysis - FIXED: assign back to variables, don't modify in place\n",
                "    agent_df = df.loc[list(all_agent_indices)].copy()\n",
                "    ai_df = df.loc[list(ai_indices)].copy()\n",
                "    agent_ai_df = df.loc[list(all_agent_indices & ai_indices)].copy()\n",
                "    \n",
                "    # Clean year data - FIXED: proper dataframe handling\n",
                "    cleaned_dfs = {}\n",
                "    \n",
                "    for temp_df, name in [(agent_df, 'agent'), (ai_df, 'ai'), (agent_ai_df, 'agent_ai')]:\n",
                "        # Create clean copy and process\n",
                "        clean_df = temp_df.copy()\n",
                "        clean_df['clean_year'] = pd.to_numeric(clean_df[year_field], errors='coerce')\n",
                "        clean_df = clean_df.dropna(subset=['clean_year'])\n",
                "        clean_df['clean_year'] = clean_df['clean_year'].astype(int)\n",
                "        \n",
                "        # Filter reasonable years (1990-2024)\n",
                "        clean_df = clean_df[(clean_df['clean_year'] >= 1990) & (clean_df['clean_year'] <= 2024)]\n",
                "        cleaned_dfs[name] = clean_df\n",
                "    \n",
                "    # FIXED: Use local variables instead of globals\n",
                "    agent_df_clean = cleaned_dfs['agent']\n",
                "    ai_df_clean = cleaned_dfs['ai']\n",
                "    agent_ai_df_clean = cleaned_dfs['agent_ai']\n",
                "    \n",
                "    # Year-by-year analysis\n",
                "    year_analysis = {}\n",
                "    \n",
                "    all_years = set()\n",
                "    if len(agent_df_clean) > 0:\n",
                "        all_years.update(agent_df_clean['clean_year'].unique())\n",
                "    if len(ai_df_clean) > 0:\n",
                "        all_years.update(ai_df_clean['clean_year'].unique())\n",
                "    \n",
                "    for year in sorted(all_years):\n",
                "        agent_count = len(agent_df_clean[agent_df_clean['clean_year'] == year])\n",
                "        ai_count = len(ai_df_clean[ai_df_clean['clean_year'] == year])\n",
                "        agent_ai_count = len(agent_ai_df_clean[agent_ai_df_clean['clean_year'] == year])\n",
                "        \n",
                "        year_analysis[year] = {\n",
                "            'agent_articles': agent_count,\n",
                "            'ai_articles': ai_count,\n",
                "            'agent_ai_articles': agent_ai_count,\n",
                "            'agent_ai_ratio': agent_ai_count / max(agent_count, 1)\n",
                "        }\n",
                "    \n",
                "    return {\n",
                "        'year_analysis': year_analysis,\n",
                "        'agent_df': agent_df_clean,\n",
                "        'ai_df': ai_df_clean,\n",
                "        'agent_ai_df': agent_ai_df_clean,\n",
                "        'summary': {\n",
                "            'total_agent_articles': len(agent_df_clean),\n",
                "            'total_ai_articles': len(ai_df_clean),\n",
                "            'total_agent_ai_articles': len(agent_ai_df_clean),\n",
                "            'year_range': (min(all_years) if all_years else None, max(all_years) if all_years else None)\n",
                "        }\n",
                "    }\n",
                "\n",
                "# Execute agent evolution analysis\n",
                "if df is not None and 'analysis_results' in globals():\n",
                "    evolution_results = analyze_agent_evolution(df, field_map, analysis_results)\n",
                "    \n",
                "    if evolution_results:\n",
                "        print(\"\\n=== EVOLUTION SUMMARY ===\")\n",
                "        summary = evolution_results['summary']\n",
                "        print(f\"Agent articles: {summary['total_agent_articles']:,}\")\n",
                "        print(f\"AI articles: {summary['total_ai_articles']:,}\")\n",
                "        print(f\"Agent+AI articles: {summary['total_agent_ai_articles']:,}\")\n",
                "        print(f\"Year range: {summary['year_range'][0]}-{summary['year_range'][1]}\")\n",
                "        \n",
                "        # Show key trends\n",
                "        print(\"\\n=== KEY TRENDS (Last 10 Years) ===\")\n",
                "        recent_years = sorted([y for y in evolution_results['year_analysis'].keys() if y >= 2014])\n",
                "        \n",
                "        for year in recent_years[-10:]:  # Last 10 years\n",
                "            data = evolution_results['year_analysis'][year]\n",
                "            ratio = data['agent_ai_ratio'] * 100\n",
                "            print(f\"{year}: Agent={data['agent_articles']:3d}, AI={data['ai_articles']:4d}, Agent+AI={data['agent_ai_articles']:3d} ({ratio:.1f}%)\")\n",
                "else:\n",
                "    print(\"❌ Cannot run evolution analysis\")"
            ]
        },
        {
            "cell_type": "markdown",
            "id": "01096818",
            "metadata": {},
            "source": [
                "This enhanced intersection analysis provides several strategic insights for understanding AI agents in logistics development:\n",
                "\n",
                "\n",
                "Key Strategic Intersections Added:\n",
                "- Agent + Supply Chain: Traditional agent-based SCM research\n",
                "- AI + Supply Chain: AI/ML applications in logistics\n",
                "- Agent + AI: General agent-AI convergence\n",
                "- Agent + AI + Supply Chain: Your core research focus\n",
                "- Pure Agent SCM (Non-AI): Traditional approaches without AI\n",
                "- Pure AI SCM (Non-Agent): AI in logistics without agent concepts\n",
                "\n",
                "\n",
                "Temporal Evolution Tracking:\n",
                "- Period Analysis: Early (1995-2005), Emergence (2005-2015), Growth (2015-2020), Acceleration (2020-2024)\n",
                "- Penetration Metrics: How much AI has penetrated agent-based SCM vs how much agent concepts penetrate AI-SCM\n",
                "- Recent Growth Analysis: 2020-2024 vs 2015-2019 comparison\n",
                "- Peak Year Identification: When each intersection reached maximum activity\n",
                "\n",
                "\n",
                "Strategic Value:\n",
                "\n",
                "\n",
                "This analysis will help us understand:\n",
                "- The evolution from traditional agent-based SCM to AI-powered agent systems\n",
                "- How AI and agent concepts are converging in logistics research\n",
                "- The relative maturity and growth patterns of different research approaches\n",
                "- Which periods saw the most significant developments\n",
                "- Current research momentum and future directions\n",
                "\n",
                "\n",
                "The intersection analysis specifically targets our research focus on \"AI agents in logistics\" by isolating publications that combine all three concepts and tracking how this specific intersection has evolved over time."
            ]
        },
        {
            "cell_type": "code",
            "execution_count": 11,
            "id": "c4126f88",
            "metadata": {},
            "outputs": [
                {
                    "name": "stdout",
                    "output_type": "stream",
                    "text": [
                        "Executing strategic intersection analysis...\n",
                        "=== STRATEGIC INTERSECTION ANALYSIS ===\n",
                        "Total publications: 38,229\n",
                        "Supply Chain: 11,409\n",
                        "All Agent-related: 12,547\n",
                        "AI/LLM: 4,383\n",
                        "\n",
                        "Agent + Supply Chain     :  6,804 articles ( 17.8%)\n",
                        "  Publications combining agent concepts with supply chain management\n",
                        "  Recent growth (2020-24 vs 2015-19): +28.9%\n",
                        "\n",
                        "AI + Supply Chain        :  1,519 articles (  4.0%)\n",
                        "  AI/ML applications in supply chain management\n",
                        "  Recent growth (2020-24 vs 2015-19): +198.0%\n",
                        "\n",
                        "Agent + AI               :  2,268 articles (  5.9%)\n",
                        "  Publications combining agent concepts with AI/ML\n",
                        "  Recent growth (2020-24 vs 2015-19): +132.7%\n",
                        "\n",
                        "Agent + AI + Supply Chain:  1,082 articles (  2.8%)\n",
                        "  Core AI agents in logistics research - our primary focus\n",
                        "  Recent growth (2020-24 vs 2015-19): +149.3%\n",
                        "\n",
                        "Agent + SCM (Non-AI)     :  5,722 articles ( 15.0%)\n",
                        "  Traditional agent-based SCM without AI/ML components\n",
                        "  Recent growth (2020-24 vs 2015-19): +13.6%\n",
                        "\n",
                        "AI + SCM (Non-Agent)     :    437 articles (  1.1%)\n",
                        "  AI in SCM without explicit agent concepts\n",
                        "  Recent growth (2020-24 vs 2015-19): +327.8%\n",
                        "\n",
                        "=== AI AGENTS IN SCM EVOLUTION ANALYSIS ===\n",
                        "Core AI agents in SCM articles: 1,024\n",
                        "\n",
                        "=== EVOLUTION BY PERIOD ===\n",
                        "Early       :  166 articles (16.6/year)\n",
                        "Emergence   :  355 articles (35.5/year)\n",
                        "Growth      :  144 articles (28.8/year)\n",
                        "Acceleration:  359 articles (71.8/year)\n",
                        "\n",
                        "=== RECENT ACCELERATION (2020-2024) ===\n",
                        "2020:  53 articles (AI in Agent-SCM: 15.6%, Agents in AI-SCM: 68.8%)\n",
                        "2021:  59 articles (AI in Agent-SCM: 18.3%, Agents in AI-SCM: 59.0%)\n",
                        "2022:  69 articles (AI in Agent-SCM: 20.7%, Agents in AI-SCM: 61.6%)\n",
                        "2023:  79 articles (AI in Agent-SCM: 25.4%, Agents in AI-SCM: 57.2%)\n",
                        "2024:  99 articles (AI in Agent-SCM: 28.7%, Agents in AI-SCM: 60.7%)\n",
                        "\n",
                        "======================================================================\n",
                        "KEY STRATEGIC INSIGHTS\n",
                        "======================================================================\n",
                        "🎯 Core Research Area (Agent+AI+SCM): 1,082 articles (2.8%)\n",
                        "📊 Market Context:\n",
                        "   • Total Agent+SCM research: 6,804 articles\n",
                        "   • Total AI+SCM research: 1,519 articles\n",
                        "   • AI penetration in Agent-SCM: 15.9%\n",
                        "   • Agent penetration in AI-SCM: 71.2%\n",
                        "📈 Recent Activity (2020-2024): 359 articles\n",
                        "🏆 Peak Year: 2024\n",
                        "======================================================================\n"
                    ]
                }
            ],
            "source": [
                "# Enhanced intersection analysis for AI agents in logistics research\n",
                "def analyze_strategic_intersections(df, field_map, analysis_results):\n",
                "    \"\"\"Comprehensive intersection analysis focused on AI agents in logistics/SCM\"\"\"\n",
                "    \n",
                "    if not analysis_results or 'matching_articles' not in analysis_results:\n",
                "        print(\"❌ No analysis results available for intersection analysis\")\n",
                "        return None\n",
                "    \n",
                "    # Get article indices for each category\n",
                "    categories = {\n",
                "        'supply_chain': set(analysis_results['matching_articles'].get('supply_chain', [])),\n",
                "        'agency': set(analysis_results['matching_articles'].get('agency', [])),\n",
                "        'agent_terms': set(analysis_results['matching_articles'].get('agent_terms', [])),\n",
                "        'ai_llm': set(analysis_results['matching_articles'].get('ai_llm', []))\n",
                "    }\n",
                "    \n",
                "    # Combine agent-related categories\n",
                "    all_agents = categories['agency'] | categories['agent_terms']\n",
                "    \n",
                "    print(\"=== STRATEGIC INTERSECTION ANALYSIS ===\")\n",
                "    print(f\"Total publications: {len(df):,}\")\n",
                "    print(f\"Supply Chain: {len(categories['supply_chain']):,}\")\n",
                "    print(f\"All Agent-related: {len(all_agents):,}\")\n",
                "    print(f\"AI/LLM: {len(categories['ai_llm']):,}\")\n",
                "    \n",
                "    # Define strategic intersections\n",
                "    intersections = {\n",
                "        'agent_scm': {\n",
                "            'name': 'Agent + Supply Chain',\n",
                "            'sets': [all_agents, categories['supply_chain']],\n",
                "            'description': 'Publications combining agent concepts with supply chain management'\n",
                "        },\n",
                "        'ai_scm': {\n",
                "            'name': 'AI + Supply Chain', \n",
                "            'sets': [categories['ai_llm'], categories['supply_chain']],\n",
                "            'description': 'AI/ML applications in supply chain management'\n",
                "        },\n",
                "        'agent_ai': {\n",
                "            'name': 'Agent + AI',\n",
                "            'sets': [all_agents, categories['ai_llm']], \n",
                "            'description': 'Publications combining agent concepts with AI/ML'\n",
                "        },\n",
                "        'agent_ai_scm': {\n",
                "            'name': 'Agent + AI + Supply Chain',\n",
                "            'sets': [all_agents, categories['ai_llm'], categories['supply_chain']],\n",
                "            'description': 'Core AI agents in logistics research - our primary focus'\n",
                "        },\n",
                "        'pure_agent_scm': {\n",
                "            'name': 'Agent + SCM (Non-AI)',\n",
                "            'sets': [all_agents, categories['supply_chain']],\n",
                "            'exclude': [categories['ai_llm']],\n",
                "            'description': 'Traditional agent-based SCM without AI/ML components'\n",
                "        },\n",
                "        'pure_ai_scm': {\n",
                "            'name': 'AI + SCM (Non-Agent)',\n",
                "            'sets': [categories['ai_llm'], categories['supply_chain']],\n",
                "            'exclude': [all_agents],\n",
                "            'description': 'AI in SCM without explicit agent concepts'\n",
                "        }\n",
                "    }\n",
                "    \n",
                "    # Calculate intersections\n",
                "    intersection_results = {}\n",
                "    year_field = field_map.get('year')\n",
                "    \n",
                "    for key, intersection_def in intersections.items():\n",
                "        # Calculate intersection\n",
                "        if len(intersection_def['sets']) == 1:\n",
                "            intersection_set = intersection_def['sets'][0]\n",
                "        else:\n",
                "            intersection_set = set.intersection(*intersection_def['sets'])\n",
                "        \n",
                "        # Handle exclusions\n",
                "        if 'exclude' in intersection_def:\n",
                "            for exclude_set in intersection_def['exclude']:\n",
                "                intersection_set = intersection_set - exclude_set\n",
                "        \n",
                "        count = len(intersection_set)\n",
                "        percentage = (count / len(df)) * 100\n",
                "        \n",
                "        # Temporal analysis\n",
                "        temporal_data = {}\n",
                "        if year_field and year_field in df.columns and count > 0:\n",
                "            intersection_df = df.loc[list(intersection_set)]\n",
                "            years = pd.to_numeric(intersection_df[year_field], errors='coerce').dropna()\n",
                "            years = years[(years >= 1995) & (years <= 2024)]\n",
                "            \n",
                "            if len(years) > 0:\n",
                "                year_counts = years.value_counts().sort_index()\n",
                "                temporal_data = {\n",
                "                    'year_counts': year_counts.to_dict(),\n",
                "                    'year_range': (int(years.min()), int(years.max())),\n",
                "                    'peak_year': int(year_counts.idxmax()) if len(year_counts) > 0 else None,\n",
                "                    'recent_growth': None\n",
                "                }\n",
                "                \n",
                "                # Calculate recent growth (2020-2024 vs 2015-2019)\n",
                "                recent_years = year_counts[year_counts.index >= 2020].sum()\n",
                "                previous_years = year_counts[(year_counts.index >= 2015) & (year_counts.index < 2020)].sum()\n",
                "                \n",
                "                if previous_years > 0:\n",
                "                    growth_rate = ((recent_years - previous_years) / previous_years) * 100\n",
                "                    temporal_data['recent_growth'] = growth_rate\n",
                "        \n",
                "        intersection_results[key] = {\n",
                "            'name': intersection_def['name'],\n",
                "            'description': intersection_def['description'],\n",
                "            'count': count,\n",
                "            'percentage': percentage,\n",
                "            'article_indices': list(intersection_set),\n",
                "            'temporal': temporal_data\n",
                "        }\n",
                "        \n",
                "        print(f\"\\n{intersection_def['name']:25}: {count:6,} articles ({percentage:5.1f}%)\")\n",
                "        print(f\"  {intersection_def['description']}\")\n",
                "        \n",
                "        if temporal_data and 'recent_growth' in temporal_data and temporal_data['recent_growth'] is not None:\n",
                "            print(f\"  Recent growth (2020-24 vs 2015-19): {temporal_data['recent_growth']:+.1f}%\")\n",
                "    \n",
                "    return intersection_results\n",
                "\n",
                "def analyze_ai_agent_scm_evolution(df, field_map, intersection_results):\n",
                "    \"\"\"Deep dive into AI agents in SCM evolution\"\"\"\n",
                "    \n",
                "    if not intersection_results or 'agent_ai_scm' not in intersection_results:\n",
                "        print(\"❌ No intersection results for AI agents in SCM\")\n",
                "        return None\n",
                "    \n",
                "    year_field = field_map.get('year')\n",
                "    if not year_field or year_field not in df.columns:\n",
                "        print(\"❌ No year field available\")\n",
                "        return None\n",
                "    \n",
                "    print(\"\\n=== AI AGENTS IN SCM EVOLUTION ANALYSIS ===\")\n",
                "    \n",
                "    # Get the core articles\n",
                "    core_indices = intersection_results['agent_ai_scm']['article_indices']\n",
                "    if not core_indices:\n",
                "        print(\"No articles found in Agent+AI+SCM intersection\")\n",
                "        return None\n",
                "    \n",
                "    core_df = df.loc[core_indices].copy()\n",
                "    core_df['clean_year'] = pd.to_numeric(core_df[year_field], errors='coerce')\n",
                "    core_df = core_df.dropna(subset=['clean_year'])\n",
                "    core_df = core_df[(core_df['clean_year'] >= 1995) & (core_df['clean_year'] <= 2024)]\n",
                "    core_df['clean_year'] = core_df['clean_year'].astype(int)\n",
                "    \n",
                "    print(f\"Core AI agents in SCM articles: {len(core_df):,}\")\n",
                "    \n",
                "    # Year-by-year evolution\n",
                "    evolution_data = {}\n",
                "    year_counts = core_df['clean_year'].value_counts().sort_index()\n",
                "    \n",
                "    # Get comparative data for context\n",
                "    agent_scm_indices = intersection_results['agent_scm']['article_indices']\n",
                "    ai_scm_indices = intersection_results['ai_scm']['article_indices']\n",
                "    \n",
                "    agent_scm_df = df.loc[agent_scm_indices].copy()\n",
                "    ai_scm_df = df.loc[ai_scm_indices].copy()\n",
                "    \n",
                "    # Clean comparative data\n",
                "    for comp_df, name in [(agent_scm_df, 'agent_scm'), (ai_scm_df, 'ai_scm')]:\n",
                "        comp_df['clean_year'] = pd.to_numeric(comp_df[year_field], errors='coerce')\n",
                "        comp_df = comp_df.dropna(subset=['clean_year'])\n",
                "        comp_df = comp_df[(comp_df['clean_year'] >= 1995) & (comp_df['clean_year'] <= 2024)]\n",
                "        \n",
                "        if name == 'agent_scm':\n",
                "            agent_scm_years = comp_df['clean_year'].value_counts().sort_index()\n",
                "        else:\n",
                "            ai_scm_years = comp_df['clean_year'].value_counts().sort_index()\n",
                "    \n",
                "    # Comprehensive year analysis\n",
                "    all_years = set(year_counts.index) | set(agent_scm_years.index) | set(ai_scm_years.index)\n",
                "    \n",
                "    for year in sorted(all_years):\n",
                "        evolution_data[year] = {\n",
                "            'ai_agent_scm': year_counts.get(year, 0),\n",
                "            'agent_scm_total': agent_scm_years.get(year, 0),\n",
                "            'ai_scm_total': ai_scm_years.get(year, 0),\n",
                "            'ai_penetration': year_counts.get(year, 0) / max(agent_scm_years.get(year, 1), 1) * 100,\n",
                "            'agent_penetration': year_counts.get(year, 0) / max(ai_scm_years.get(year, 1), 1) * 100\n",
                "        }\n",
                "    \n",
                "    # Identify key periods\n",
                "    periods = {\n",
                "        'early': list(range(1995, 2005)),\n",
                "        'emergence': list(range(2005, 2015)), \n",
                "        'growth': list(range(2015, 2020)),\n",
                "        'acceleration': list(range(2020, 2025))\n",
                "    }\n",
                "    \n",
                "    period_analysis = {}\n",
                "    for period_name, period_years in periods.items():\n",
                "        period_total = sum(year_counts.get(year, 0) for year in period_years)\n",
                "        period_analysis[period_name] = {\n",
                "            'total_articles': period_total,\n",
                "            'avg_per_year': period_total / len(period_years),\n",
                "            'years': period_years\n",
                "        }\n",
                "    \n",
                "    print(\"\\n=== EVOLUTION BY PERIOD ===\")\n",
                "    for period_name, data in period_analysis.items():\n",
                "        print(f\"{period_name.title():12}: {data['total_articles']:4d} articles ({data['avg_per_year']:4.1f}/year)\")\n",
                "    \n",
                "    # Recent acceleration analysis\n",
                "    recent_years = [2020, 2021, 2022, 2023, 2024]\n",
                "    recent_data = [year_counts.get(year, 0) for year in recent_years]\n",
                "    \n",
                "    if sum(recent_data) > 0:\n",
                "        print(f\"\\n=== RECENT ACCELERATION (2020-2024) ===\")\n",
                "        for year, count in zip(recent_years, recent_data):\n",
                "            if year in evolution_data:\n",
                "                ai_pen = evolution_data[year]['ai_penetration']\n",
                "                agent_pen = evolution_data[year]['agent_penetration']\n",
                "                print(f\"{year}: {count:3d} articles (AI in Agent-SCM: {ai_pen:.1f}%, Agents in AI-SCM: {agent_pen:.1f}%)\")\n",
                "    \n",
                "    return {\n",
                "        'evolution_data': evolution_data,\n",
                "        'period_analysis': period_analysis,\n",
                "        'core_articles': len(core_df),\n",
                "        'year_range': (int(core_df['clean_year'].min()), int(core_df['clean_year'].max())),\n",
                "        'peak_year': int(year_counts.idxmax()) if len(year_counts) > 0 else None\n",
                "    }\n",
                "\n",
                "# Execute enhanced intersection analysis\n",
                "if df is not None and 'analysis_results' in globals():\n",
                "    print(\"Executing strategic intersection analysis...\")\n",
                "    \n",
                "    intersection_results = analyze_strategic_intersections(df, field_map, analysis_results)\n",
                "    \n",
                "    if intersection_results:\n",
                "        # Deep dive into AI agents in SCM\n",
                "        ai_agent_scm_evolution = analyze_ai_agent_scm_evolution(df, field_map, intersection_results)\n",
                "        \n",
                "        # Summary insights\n",
                "        print(\"\\n\" + \"=\"*70)\n",
                "        print(\"KEY STRATEGIC INSIGHTS\")\n",
                "        print(\"=\"*70)\n",
                "        \n",
                "        # Core metrics\n",
                "        total_pubs = len(df)\n",
                "        agent_ai_scm = intersection_results['agent_ai_scm']['count']\n",
                "        agent_scm = intersection_results['agent_scm']['count'] \n",
                "        ai_scm = intersection_results['ai_scm']['count']\n",
                "        \n",
                "        print(f\"🎯 Core Research Area (Agent+AI+SCM): {agent_ai_scm:,} articles ({agent_ai_scm/total_pubs*100:.1f}%)\")\n",
                "        print(f\"📊 Market Context:\")\n",
                "        print(f\"   • Total Agent+SCM research: {agent_scm:,} articles\")\n",
                "        print(f\"   • Total AI+SCM research: {ai_scm:,} articles\")\n",
                "        print(f\"   • AI penetration in Agent-SCM: {agent_ai_scm/max(agent_scm,1)*100:.1f}%\")\n",
                "        print(f\"   • Agent penetration in AI-SCM: {agent_ai_scm/max(ai_scm,1)*100:.1f}%\")\n",
                "        \n",
                "        if ai_agent_scm_evolution:\n",
                "            recent_total = sum(ai_agent_scm_evolution['evolution_data'][year]['ai_agent_scm'] \n",
                "                             for year in range(2020, 2025) \n",
                "                             if year in ai_agent_scm_evolution['evolution_data'])\n",
                "            \n",
                "            print(f\"📈 Recent Activity (2020-2024): {recent_total:,} articles\")\n",
                "            print(f\"🏆 Peak Year: {ai_agent_scm_evolution['peak_year']}\")\n",
                "        \n",
                "        print(\"=\"*70)\n",
                "        \n",
                "else:\n",
                "    print(\"❌ Cannot run intersection analysis - required data not available\")"
            ]
        },
        {
            "cell_type": "markdown",
            "id": "8f468a7f",
            "metadata": {},
            "source": [
                "This enhanced analysis provides several key strategic insights:\n",
                "\n",
                "\n",
                "🎯 Core Findings:\n",
                "- Market Validation: Our core research area (AI+Agent+SCM) shows 149.3% growth in recent years, validating its strategic importance\n",
                "- Market Positioning: At 2.8% of total publications, this is an emerging but rapidly growing field\n",
                "\n",
                "Technology Convergence:\n",
                "- 71.2% of AI-SCM research incorporates agent concepts\n",
                "- 15.9% of Agent-SCM research incorporates AI/ML\n",
                "- This asymmetry suggests AI-driven research is more naturally adopting agent concepts\n",
                "\n",
                "\n",
                "Acceleration Period: The field entered an acceleration phase around 2020, with 71.8 articles/year vs previous 28.8 articles/year\n",
                "\n",
                "\n",
                "📈 Growth Opportunities:\n",
                "- Pure AI-SCM (Non-Agent): 327.8% growth suggests readiness for agent integration\n",
                "- Agent+AI convergence: 132.7% growth shows strong momentum in hybrid approaches\n",
                "- Peak momentum: 2024 being the peak year indicates current critical mass\n",
                "\n",
                "\n",
                "This analysis positions our research at the intersection of three converging trends, with strong validation of market demand and growth trajectory!\n"
            ]
        },
        {
            "cell_type": "markdown",
            "metadata": {},
            "source": [
                "## 6. Visualization Dashboard"
            ]
        },
        {
            "cell_type": "code",
            "execution_count": 13,
            "id": "a382e46b",
            "metadata": {},
            "outputs": [
                {
                    "name": "stdout",
                    "output_type": "stream",
                    "text": [
                        "\n",
                        "🎯 Creating comprehensive visualization suite...\n",
                        "📊 Displaying baseline dashboard...\n"
                    ]
                },
                {
                    "data": {
                        "application/vnd.plotly.v1+json": {
                            "config": {
                                "plotlyServerURL": "https://plot.ly"
                            },
                            "data": [
                                {
                                    "marker": {
                                        "color": "lightblue"
                                    },
                                    "name": "Publications",
                                    "type": "bar",
                                    "x": [
                                        "supply_chain",
                                        "agency",
                                        "ai_llm",
                                        "agent_terms"
                                    ],
                                    "xaxis": "x",
                                    "y": [
                                        11409,
                                        4423,
                                        4383,
                                        11374
                                    ],
                                    "yaxis": "y"
                                },
                                {
                                    "domain": {
                                        "x": [
                                            0,
                                            0.45
                                        ],
                                        "y": [
                                            0.3888888888888889,
                                            0.6111111111111112
                                        ]
                                    },
                                    "labels": [
                                        "supply_chain",
                                        "agency",
                                        "ai_llm",
                                        "agent_terms"
                                    ],
                                    "name": "Category Distribution",
                                    "type": "pie",
                                    "values": [
                                        11409,
                                        4423,
                                        4383,
                                        11374
                                    ]
                                },
                                {
                                    "marker": {
                                        "color": "orange"
                                    },
                                    "name": "Field Coverage %",
                                    "type": "bar",
                                    "x": [
                                        "title",
                                        "abstract",
                                        "keywords"
                                    ],
                                    "xaxis": "x5",
                                    "y": [
                                        99.43759972795522,
                                        70.70548536451385,
                                        100
                                    ],
                                    "yaxis": "y5"
                                },
                                {
                                    "line": {
                                        "color": "red"
                                    },
                                    "mode": "lines+markers",
                                    "name": "Agent Articles",
                                    "type": "scatter",
                                    "x": [
                                        1995,
                                        1996,
                                        1997,
                                        1998,
                                        1999,
                                        2000,
                                        2001,
                                        2002,
                                        2003,
                                        2004,
                                        2005,
                                        2006,
                                        2007,
                                        2008,
                                        2009,
                                        2010,
                                        2011,
                                        2012,
                                        2013,
                                        2014,
                                        2015,
                                        2016,
                                        2017,
                                        2018,
                                        2019,
                                        2020,
                                        2021,
                                        2022,
                                        2023,
                                        2024
                                    ],
                                    "xaxis": "x2",
                                    "y": [
                                        142,
                                        177,
                                        201,
                                        221,
                                        234,
                                        236,
                                        291,
                                        342,
                                        376,
                                        381,
                                        422,
                                        470,
                                        404,
                                        448,
                                        447,
                                        458,
                                        493,
                                        471,
                                        433,
                                        455,
                                        448,
                                        383,
                                        415,
                                        480,
                                        515,
                                        547,
                                        568,
                                        588,
                                        591,
                                        574
                                    ],
                                    "yaxis": "y2"
                                },
                                {
                                    "line": {
                                        "color": "blue"
                                    },
                                    "mode": "lines+markers",
                                    "name": "AI Articles",
                                    "type": "scatter",
                                    "x": [
                                        1995,
                                        1996,
                                        1997,
                                        1998,
                                        1999,
                                        2000,
                                        2001,
                                        2002,
                                        2003,
                                        2004,
                                        2005,
                                        2006,
                                        2007,
                                        2008,
                                        2009,
                                        2010,
                                        2011,
                                        2012,
                                        2013,
                                        2014,
                                        2015,
                                        2016,
                                        2017,
                                        2018,
                                        2019,
                                        2020,
                                        2021,
                                        2022,
                                        2023,
                                        2024
                                    ],
                                    "xaxis": "x2",
                                    "y": [
                                        55,
                                        49,
                                        68,
                                        72,
                                        69,
                                        83,
                                        81,
                                        102,
                                        98,
                                        94,
                                        99,
                                        95,
                                        89,
                                        100,
                                        105,
                                        94,
                                        114,
                                        87,
                                        87,
                                        104,
                                        99,
                                        105,
                                        129,
                                        154,
                                        193,
                                        258,
                                        290,
                                        361,
                                        419,
                                        408
                                    ],
                                    "yaxis": "y2"
                                },
                                {
                                    "line": {
                                        "color": "green",
                                        "width": 3
                                    },
                                    "mode": "lines+markers",
                                    "name": "Agent-AI Connection %",
                                    "type": "scatter",
                                    "x": [
                                        1995,
                                        1996,
                                        1997,
                                        1998,
                                        1999,
                                        2000,
                                        2001,
                                        2002,
                                        2003,
                                        2004,
                                        2005,
                                        2006,
                                        2007,
                                        2008,
                                        2009,
                                        2010,
                                        2011,
                                        2012,
                                        2013,
                                        2014,
                                        2015,
                                        2016,
                                        2017,
                                        2018,
                                        2019,
                                        2020,
                                        2021,
                                        2022,
                                        2023,
                                        2024
                                    ],
                                    "xaxis": "x3",
                                    "y": [
                                        10.56338028169014,
                                        10.16949152542373,
                                        18.90547263681592,
                                        15.384615384615385,
                                        16.23931623931624,
                                        20.76271186440678,
                                        20.962199312714777,
                                        20.760233918128655,
                                        19.680851063829788,
                                        16.27296587926509,
                                        17.535545023696685,
                                        14.255319148936172,
                                        15.346534653465346,
                                        15.848214285714285,
                                        16.331096196868007,
                                        12.22707423580786,
                                        12.373225152129818,
                                        10.191082802547772,
                                        10.623556581986143,
                                        10.10989010989011,
                                        12.946428571428573,
                                        13.315926892950392,
                                        15.66265060240964,
                                        14.791666666666666,
                                        17.0873786407767,
                                        21.389396709323584,
                                        22.535211267605636,
                                        28.91156462585034,
                                        30.456852791878177,
                                        31.3588850174216
                                    ],
                                    "yaxis": "y3"
                                },
                                {
                                    "line": {
                                        "color": "darkred",
                                        "dash": "dash"
                                    },
                                    "mode": "lines+markers",
                                    "name": "Recent Agent Trend",
                                    "type": "scatter",
                                    "x": [
                                        2015,
                                        2016,
                                        2017,
                                        2018,
                                        2019,
                                        2020,
                                        2021,
                                        2022,
                                        2023,
                                        2024
                                    ],
                                    "xaxis": "x4",
                                    "y": [
                                        448,
                                        383,
                                        415,
                                        480,
                                        515,
                                        547,
                                        568,
                                        588,
                                        591,
                                        574
                                    ],
                                    "yaxis": "y4"
                                },
                                {
                                    "line": {
                                        "color": "darkblue",
                                        "dash": "dash"
                                    },
                                    "mode": "lines+markers",
                                    "name": "Recent AI Trend",
                                    "type": "scatter",
                                    "x": [
                                        2015,
                                        2016,
                                        2017,
                                        2018,
                                        2019,
                                        2020,
                                        2021,
                                        2022,
                                        2023,
                                        2024
                                    ],
                                    "xaxis": "x4",
                                    "y": [
                                        99,
                                        105,
                                        129,
                                        154,
                                        193,
                                        258,
                                        290,
                                        361,
                                        419,
                                        408
                                    ],
                                    "yaxis": "y4"
                                }
                            ],
                            "layout": {
                                "annotations": [
                                    {
                                        "font": {
                                            "size": 16
                                        },
                                        "showarrow": false,
                                        "text": "Publications by Category (Baseline)",
                                        "x": 0.225,
                                        "xanchor": "center",
                                        "xref": "paper",
                                        "y": 1,
                                        "yanchor": "bottom",
                                        "yref": "paper"
                                    },
                                    {
                                        "font": {
                                            "size": 16
                                        },
                                        "showarrow": false,
                                        "text": "Agent-AI Evolution Over Time",
                                        "x": 0.775,
                                        "xanchor": "center",
                                        "xref": "paper",
                                        "y": 1,
                                        "yanchor": "bottom",
                                        "yref": "paper"
                                    },
                                    {
                                        "font": {
                                            "size": 16
                                        },
                                        "showarrow": false,
                                        "text": "Category Distribution",
                                        "x": 0.225,
                                        "xanchor": "center",
                                        "xref": "paper",
                                        "y": 0.6111111111111112,
                                        "yanchor": "bottom",
                                        "yref": "paper"
                                    },
                                    {
                                        "font": {
                                            "size": 16
                                        },
                                        "showarrow": false,
                                        "text": "Agent-AI Connection Rate",
                                        "x": 0.775,
                                        "xanchor": "center",
                                        "xref": "paper",
                                        "y": 0.6111111111111112,
                                        "yanchor": "bottom",
                                        "yref": "paper"
                                    },
                                    {
                                        "font": {
                                            "size": 16
                                        },
                                        "showarrow": false,
                                        "text": "Recent Trends Comparison",
                                        "x": 0.225,
                                        "xanchor": "center",
                                        "xref": "paper",
                                        "y": 0.22222222222222224,
                                        "yanchor": "bottom",
                                        "yref": "paper"
                                    },
                                    {
                                        "font": {
                                            "size": 16
                                        },
                                        "showarrow": false,
                                        "text": "Data Quality Overview",
                                        "x": 0.775,
                                        "xanchor": "center",
                                        "xref": "paper",
                                        "y": 0.22222222222222224,
                                        "yanchor": "bottom",
                                        "yref": "paper"
                                    }
                                ],
                                "height": 1200,
                                "showlegend": true,
                                "template": {
                                    "data": {
                                        "bar": [
                                            {
                                                "error_x": {
                                                    "color": "#2a3f5f"
                                                },
                                                "error_y": {
                                                    "color": "#2a3f5f"
                                                },
                                                "marker": {
                                                    "line": {
                                                        "color": "#E5ECF6",
                                                        "width": 0.5
                                                    },
                                                    "pattern": {
                                                        "fillmode": "overlay",
                                                        "size": 10,
                                                        "solidity": 0.2
                                                    }
                                                },
                                                "type": "bar"
                                            }
                                        ],
                                        "barpolar": [
                                            {
                                                "marker": {
                                                    "line": {
                                                        "color": "#E5ECF6",
                                                        "width": 0.5
                                                    },
                                                    "pattern": {
                                                        "fillmode": "overlay",
                                                        "size": 10,
                                                        "solidity": 0.2
                                                    }
                                                },
                                                "type": "barpolar"
                                            }
                                        ],
                                        "carpet": [
                                            {
                                                "aaxis": {
                                                    "endlinecolor": "#2a3f5f",
                                                    "gridcolor": "white",
                                                    "linecolor": "white",
                                                    "minorgridcolor": "white",
                                                    "startlinecolor": "#2a3f5f"
                                                },
                                                "baxis": {
                                                    "endlinecolor": "#2a3f5f",
                                                    "gridcolor": "white",
                                                    "linecolor": "white",
                                                    "minorgridcolor": "white",
                                                    "startlinecolor": "#2a3f5f"
                                                },
                                                "type": "carpet"
                                            }
                                        ],
                                        "choropleth": [
                                            {
                                                "colorbar": {
                                                    "outlinewidth": 0,
                                                    "ticks": ""
                                                },
                                                "type": "choropleth"
                                            }
                                        ],
                                        "contour": [
                                            {
                                                "colorbar": {
                                                    "outlinewidth": 0,
                                                    "ticks": ""
                                                },
                                                "colorscale": [
                                                    [
                                                        0,
                                                        "#0d0887"
                                                    ],
                                                    [
                                                        0.1111111111111111,
                                                        "#46039f"
                                                    ],
                                                    [
                                                        0.2222222222222222,
                                                        "#7201a8"
                                                    ],
                                                    [
                                                        0.3333333333333333,
                                                        "#9c179e"
                                                    ],
                                                    [
                                                        0.4444444444444444,
                                                        "#bd3786"
                                                    ],
                                                    [
                                                        0.5555555555555556,
                                                        "#d8576b"
                                                    ],
                                                    [
                                                        0.6666666666666666,
                                                        "#ed7953"
                                                    ],
                                                    [
                                                        0.7777777777777778,
                                                        "#fb9f3a"
                                                    ],
                                                    [
                                                        0.8888888888888888,
                                                        "#fdca26"
                                                    ],
                                                    [
                                                        1,
                                                        "#f0f921"
                                                    ]
                                                ],
                                                "type": "contour"
                                            }
                                        ],
                                        "contourcarpet": [
                                            {
                                                "colorbar": {
                                                    "outlinewidth": 0,
                                                    "ticks": ""
                                                },
                                                "type": "contourcarpet"
                                            }
                                        ],
                                        "heatmap": [
                                            {
                                                "colorbar": {
                                                    "outlinewidth": 0,
                                                    "ticks": ""
                                                },
                                                "colorscale": [
                                                    [
                                                        0,
                                                        "#0d0887"
                                                    ],
                                                    [
                                                        0.1111111111111111,
                                                        "#46039f"
                                                    ],
                                                    [
                                                        0.2222222222222222,
                                                        "#7201a8"
                                                    ],
                                                    [
                                                        0.3333333333333333,
                                                        "#9c179e"
                                                    ],
                                                    [
                                                        0.4444444444444444,
                                                        "#bd3786"
                                                    ],
                                                    [
                                                        0.5555555555555556,
                                                        "#d8576b"
                                                    ],
                                                    [
                                                        0.6666666666666666,
                                                        "#ed7953"
                                                    ],
                                                    [
                                                        0.7777777777777778,
                                                        "#fb9f3a"
                                                    ],
                                                    [
                                                        0.8888888888888888,
                                                        "#fdca26"
                                                    ],
                                                    [
                                                        1,
                                                        "#f0f921"
                                                    ]
                                                ],
                                                "type": "heatmap"
                                            }
                                        ],
                                        "heatmapgl": [
                                            {
                                                "colorbar": {
                                                    "outlinewidth": 0,
                                                    "ticks": ""
                                                },
                                                "colorscale": [
                                                    [
                                                        0,
                                                        "#0d0887"
                                                    ],
                                                    [
                                                        0.1111111111111111,
                                                        "#46039f"
                                                    ],
                                                    [
                                                        0.2222222222222222,
                                                        "#7201a8"
                                                    ],
                                                    [
                                                        0.3333333333333333,
                                                        "#9c179e"
                                                    ],
                                                    [
                                                        0.4444444444444444,
                                                        "#bd3786"
                                                    ],
                                                    [
                                                        0.5555555555555556,
                                                        "#d8576b"
                                                    ],
                                                    [
                                                        0.6666666666666666,
                                                        "#ed7953"
                                                    ],
                                                    [
                                                        0.7777777777777778,
                                                        "#fb9f3a"
                                                    ],
                                                    [
                                                        0.8888888888888888,
                                                        "#fdca26"
                                                    ],
                                                    [
                                                        1,
                                                        "#f0f921"
                                                    ]
                                                ],
                                                "type": "heatmapgl"
                                            }
                                        ],
                                        "histogram": [
                                            {
                                                "marker": {
                                                    "pattern": {
                                                        "fillmode": "overlay",
                                                        "size": 10,
                                                        "solidity": 0.2
                                                    }
                                                },
                                                "type": "histogram"
                                            }
                                        ],
                                        "histogram2d": [
                                            {
                                                "colorbar": {
                                                    "outlinewidth": 0,
                                                    "ticks": ""
                                                },
                                                "colorscale": [
                                                    [
                                                        0,
                                                        "#0d0887"
                                                    ],
                                                    [
                                                        0.1111111111111111,
                                                        "#46039f"
                                                    ],
                                                    [
                                                        0.2222222222222222,
                                                        "#7201a8"
                                                    ],
                                                    [
                                                        0.3333333333333333,
                                                        "#9c179e"
                                                    ],
                                                    [
                                                        0.4444444444444444,
                                                        "#bd3786"
                                                    ],
                                                    [
                                                        0.5555555555555556,
                                                        "#d8576b"
                                                    ],
                                                    [
                                                        0.6666666666666666,
                                                        "#ed7953"
                                                    ],
                                                    [
                                                        0.7777777777777778,
                                                        "#fb9f3a"
                                                    ],
                                                    [
                                                        0.8888888888888888,
                                                        "#fdca26"
                                                    ],
                                                    [
                                                        1,
                                                        "#f0f921"
                                                    ]
                                                ],
                                                "type": "histogram2d"
                                            }
                                        ],
                                        "histogram2dcontour": [
                                            {
                                                "colorbar": {
                                                    "outlinewidth": 0,
                                                    "ticks": ""
                                                },
                                                "colorscale": [
                                                    [
                                                        0,
                                                        "#0d0887"
                                                    ],
                                                    [
                                                        0.1111111111111111,
                                                        "#46039f"
                                                    ],
                                                    [
                                                        0.2222222222222222,
                                                        "#7201a8"
                                                    ],
                                                    [
                                                        0.3333333333333333,
                                                        "#9c179e"
                                                    ],
                                                    [
                                                        0.4444444444444444,
                                                        "#bd3786"
                                                    ],
                                                    [
                                                        0.5555555555555556,
                                                        "#d8576b"
                                                    ],
                                                    [
                                                        0.6666666666666666,
                                                        "#ed7953"
                                                    ],
                                                    [
                                                        0.7777777777777778,
                                                        "#fb9f3a"
                                                    ],
                                                    [
                                                        0.8888888888888888,
                                                        "#fdca26"
                                                    ],
                                                    [
                                                        1,
                                                        "#f0f921"
                                                    ]
                                                ],
                                                "type": "histogram2dcontour"
                                            }
                                        ],
                                        "mesh3d": [
                                            {
                                                "colorbar": {
                                                    "outlinewidth": 0,
                                                    "ticks": ""
                                                },
                                                "type": "mesh3d"
                                            }
                                        ],
                                        "parcoords": [
                                            {
                                                "line": {
                                                    "colorbar": {
                                                        "outlinewidth": 0,
                                                        "ticks": ""
                                                    }
                                                },
                                                "type": "parcoords"
                                            }
                                        ],
                                        "pie": [
                                            {
                                                "automargin": true,
                                                "type": "pie"
                                            }
                                        ],
                                        "scatter": [
                                            {
                                                "fillpattern": {
                                                    "fillmode": "overlay",
                                                    "size": 10,
                                                    "solidity": 0.2
                                                },
                                                "type": "scatter"
                                            }
                                        ],
                                        "scatter3d": [
                                            {
                                                "line": {
                                                    "colorbar": {
                                                        "outlinewidth": 0,
                                                        "ticks": ""
                                                    }
                                                },
                                                "marker": {
                                                    "colorbar": {
                                                        "outlinewidth": 0,
                                                        "ticks": ""
                                                    }
                                                },
                                                "type": "scatter3d"
                                            }
                                        ],
                                        "scattercarpet": [
                                            {
                                                "marker": {
                                                    "colorbar": {
                                                        "outlinewidth": 0,
                                                        "ticks": ""
                                                    }
                                                },
                                                "type": "scattercarpet"
                                            }
                                        ],
                                        "scattergeo": [
                                            {
                                                "marker": {
                                                    "colorbar": {
                                                        "outlinewidth": 0,
                                                        "ticks": ""
                                                    }
                                                },
                                                "type": "scattergeo"
                                            }
                                        ],
                                        "scattergl": [
                                            {
                                                "marker": {
                                                    "colorbar": {
                                                        "outlinewidth": 0,
                                                        "ticks": ""
                                                    }
                                                },
                                                "type": "scattergl"
                                            }
                                        ],
                                        "scattermapbox": [
                                            {
                                                "marker": {
                                                    "colorbar": {
                                                        "outlinewidth": 0,
                                                        "ticks": ""
                                                    }
                                                },
                                                "type": "scattermapbox"
                                            }
                                        ],
                                        "scatterpolar": [
                                            {
                                                "marker": {
                                                    "colorbar": {
                                                        "outlinewidth": 0,
                                                        "ticks": ""
                                                    }
                                                },
                                                "type": "scatterpolar"
                                            }
                                        ],
                                        "scatterpolargl": [
                                            {
                                                "marker": {
                                                    "colorbar": {
                                                        "outlinewidth": 0,
                                                        "ticks": ""
                                                    }
                                                },
                                                "type": "scatterpolargl"
                                            }
                                        ],
                                        "scatterternary": [
                                            {
                                                "marker": {
                                                    "colorbar": {
                                                        "outlinewidth": 0,
                                                        "ticks": ""
                                                    }
                                                },
                                                "type": "scatterternary"
                                            }
                                        ],
                                        "surface": [
                                            {
                                                "colorbar": {
                                                    "outlinewidth": 0,
                                                    "ticks": ""
                                                },
                                                "colorscale": [
                                                    [
                                                        0,
                                                        "#0d0887"
                                                    ],
                                                    [
                                                        0.1111111111111111,
                                                        "#46039f"
                                                    ],
                                                    [
                                                        0.2222222222222222,
                                                        "#7201a8"
                                                    ],
                                                    [
                                                        0.3333333333333333,
                                                        "#9c179e"
                                                    ],
                                                    [
                                                        0.4444444444444444,
                                                        "#bd3786"
                                                    ],
                                                    [
                                                        0.5555555555555556,
                                                        "#d8576b"
                                                    ],
                                                    [
                                                        0.6666666666666666,
                                                        "#ed7953"
                                                    ],
                                                    [
                                                        0.7777777777777778,
                                                        "#fb9f3a"
                                                    ],
                                                    [
                                                        0.8888888888888888,
                                                        "#fdca26"
                                                    ],
                                                    [
                                                        1,
                                                        "#f0f921"
                                                    ]
                                                ],
                                                "type": "surface"
                                            }
                                        ],
                                        "table": [
                                            {
                                                "cells": {
                                                    "fill": {
                                                        "color": "#EBF0F8"
                                                    },
                                                    "line": {
                                                        "color": "white"
                                                    }
                                                },
                                                "header": {
                                                    "fill": {
                                                        "color": "#C8D4E3"
                                                    },
                                                    "line": {
                                                        "color": "white"
                                                    }
                                                },
                                                "type": "table"
                                            }
                                        ]
                                    },
                                    "layout": {
                                        "annotationdefaults": {
                                            "arrowcolor": "#2a3f5f",
                                            "arrowhead": 0,
                                            "arrowwidth": 1
                                        },
                                        "autotypenumbers": "strict",
                                        "coloraxis": {
                                            "colorbar": {
                                                "outlinewidth": 0,
                                                "ticks": ""
                                            }
                                        },
                                        "colorscale": {
                                            "diverging": [
                                                [
                                                    0,
                                                    "#8e0152"
                                                ],
                                                [
                                                    0.1,
                                                    "#c51b7d"
                                                ],
                                                [
                                                    0.2,
                                                    "#de77ae"
                                                ],
                                                [
                                                    0.3,
                                                    "#f1b6da"
                                                ],
                                                [
                                                    0.4,
                                                    "#fde0ef"
                                                ],
                                                [
                                                    0.5,
                                                    "#f7f7f7"
                                                ],
                                                [
                                                    0.6,
                                                    "#e6f5d0"
                                                ],
                                                [
                                                    0.7,
                                                    "#b8e186"
                                                ],
                                                [
                                                    0.8,
                                                    "#7fbc41"
                                                ],
                                                [
                                                    0.9,
                                                    "#4d9221"
                                                ],
                                                [
                                                    1,
                                                    "#276419"
                                                ]
                                            ],
                                            "sequential": [
                                                [
                                                    0,
                                                    "#0d0887"
                                                ],
                                                [
                                                    0.1111111111111111,
                                                    "#46039f"
                                                ],
                                                [
                                                    0.2222222222222222,
                                                    "#7201a8"
                                                ],
                                                [
                                                    0.3333333333333333,
                                                    "#9c179e"
                                                ],
                                                [
                                                    0.4444444444444444,
                                                    "#bd3786"
                                                ],
                                                [
                                                    0.5555555555555556,
                                                    "#d8576b"
                                                ],
                                                [
                                                    0.6666666666666666,
                                                    "#ed7953"
                                                ],
                                                [
                                                    0.7777777777777778,
                                                    "#fb9f3a"
                                                ],
                                                [
                                                    0.8888888888888888,
                                                    "#fdca26"
                                                ],
                                                [
                                                    1,
                                                    "#f0f921"
                                                ]
                                            ],
                                            "sequentialminus": [
                                                [
                                                    0,
                                                    "#0d0887"
                                                ],
                                                [
                                                    0.1111111111111111,
                                                    "#46039f"
                                                ],
                                                [
                                                    0.2222222222222222,
                                                    "#7201a8"
                                                ],
                                                [
                                                    0.3333333333333333,
                                                    "#9c179e"
                                                ],
                                                [
                                                    0.4444444444444444,
                                                    "#bd3786"
                                                ],
                                                [
                                                    0.5555555555555556,
                                                    "#d8576b"
                                                ],
                                                [
                                                    0.6666666666666666,
                                                    "#ed7953"
                                                ],
                                                [
                                                    0.7777777777777778,
                                                    "#fb9f3a"
                                                ],
                                                [
                                                    0.8888888888888888,
                                                    "#fdca26"
                                                ],
                                                [
                                                    1,
                                                    "#f0f921"
                                                ]
                                            ]
                                        },
                                        "colorway": [
                                            "#636efa",
                                            "#EF553B",
                                            "#00cc96",
                                            "#ab63fa",
                                            "#FFA15A",
                                            "#19d3f3",
                                            "#FF6692",
                                            "#B6E880",
                                            "#FF97FF",
                                            "#FECB52"
                                        ],
                                        "font": {
                                            "color": "#2a3f5f"
                                        },
                                        "geo": {
                                            "bgcolor": "white",
                                            "lakecolor": "white",
                                            "landcolor": "#E5ECF6",
                                            "showlakes": true,
                                            "showland": true,
                                            "subunitcolor": "white"
                                        },
                                        "hoverlabel": {
                                            "align": "left"
                                        },
                                        "hovermode": "closest",
                                        "mapbox": {
                                            "style": "light"
                                        },
                                        "paper_bgcolor": "white",
                                        "plot_bgcolor": "#E5ECF6",
                                        "polar": {
                                            "angularaxis": {
                                                "gridcolor": "white",
                                                "linecolor": "white",
                                                "ticks": ""
                                            },
                                            "bgcolor": "#E5ECF6",
                                            "radialaxis": {
                                                "gridcolor": "white",
                                                "linecolor": "white",
                                                "ticks": ""
                                            }
                                        },
                                        "scene": {
                                            "xaxis": {
                                                "backgroundcolor": "#E5ECF6",
                                                "gridcolor": "white",
                                                "gridwidth": 2,
                                                "linecolor": "white",
                                                "showbackground": true,
                                                "ticks": "",
                                                "zerolinecolor": "white"
                                            },
                                            "yaxis": {
                                                "backgroundcolor": "#E5ECF6",
                                                "gridcolor": "white",
                                                "gridwidth": 2,
                                                "linecolor": "white",
                                                "showbackground": true,
                                                "ticks": "",
                                                "zerolinecolor": "white"
                                            },
                                            "zaxis": {
                                                "backgroundcolor": "#E5ECF6",
                                                "gridcolor": "white",
                                                "gridwidth": 2,
                                                "linecolor": "white",
                                                "showbackground": true,
                                                "ticks": "",
                                                "zerolinecolor": "white"
                                            }
                                        },
                                        "shapedefaults": {
                                            "line": {
                                                "color": "#2a3f5f"
                                            }
                                        },
                                        "ternary": {
                                            "aaxis": {
                                                "gridcolor": "white",
                                                "linecolor": "white",
                                                "ticks": ""
                                            },
                                            "baxis": {
                                                "gridcolor": "white",
                                                "linecolor": "white",
                                                "ticks": ""
                                            },
                                            "bgcolor": "#E5ECF6",
                                            "caxis": {
                                                "gridcolor": "white",
                                                "linecolor": "white",
                                                "ticks": ""
                                            }
                                        },
                                        "title": {
                                            "x": 0.05
                                        },
                                        "xaxis": {
                                            "automargin": true,
                                            "gridcolor": "white",
                                            "linecolor": "white",
                                            "ticks": "",
                                            "title": {
                                                "standoff": 15
                                            },
                                            "zerolinecolor": "white",
                                            "zerolinewidth": 2
                                        },
                                        "yaxis": {
                                            "automargin": true,
                                            "gridcolor": "white",
                                            "linecolor": "white",
                                            "ticks": "",
                                            "title": {
                                                "standoff": 15
                                            },
                                            "zerolinecolor": "white",
                                            "zerolinewidth": 2
                                        }
                                    }
                                },
                                "title": {
                                    "text": "Baseline Research Analysis Dashboard"
                                },
                                "xaxis": {
                                    "anchor": "y",
                                    "domain": [
                                        0,
                                        0.45
                                    ]
                                },
                                "xaxis2": {
                                    "anchor": "y2",
                                    "domain": [
                                        0.55,
                                        1
                                    ]
                                },
                                "xaxis3": {
                                    "anchor": "y3",
                                    "domain": [
                                        0.55,
                                        1
                                    ]
                                },
                                "xaxis4": {
                                    "anchor": "y4",
                                    "domain": [
                                        0,
                                        0.45
                                    ]
                                },
                                "xaxis5": {
                                    "anchor": "y5",
                                    "domain": [
                                        0.55,
                                        1
                                    ]
                                },
                                "yaxis": {
                                    "anchor": "x",
                                    "domain": [
                                        0.7777777777777778,
                                        1
                                    ]
                                },
                                "yaxis2": {
                                    "anchor": "x2",
                                    "domain": [
                                        0.7777777777777778,
                                        1
                                    ]
                                },
                                "yaxis3": {
                                    "anchor": "x3",
                                    "domain": [
                                        0.3888888888888889,
                                        0.6111111111111112
                                    ]
                                },
                                "yaxis4": {
                                    "anchor": "x4",
                                    "domain": [
                                        0,
                                        0.22222222222222224
                                    ]
                                },
                                "yaxis5": {
                                    "anchor": "x5",
                                    "domain": [
                                        0,
                                        0.22222222222222224
                                    ]
                                }
                            }
                        },
                        "text/html": [
                            "<div>                            <div id=\"9911958d-c131-45f1-a423-f0850170244b\" class=\"plotly-graph-div\" style=\"height:1200px; width:100%;\"></div>            <script type=\"text/javascript\">                require([\"plotly\"], function(Plotly) {                    window.PLOTLYENV=window.PLOTLYENV || {};                                    if (document.getElementById(\"9911958d-c131-45f1-a423-f0850170244b\")) {                    Plotly.newPlot(                        \"9911958d-c131-45f1-a423-f0850170244b\",                        [{\"marker\":{\"color\":\"lightblue\"},\"name\":\"Publications\",\"x\":[\"supply_chain\",\"agency\",\"ai_llm\",\"agent_terms\"],\"y\":[11409,4423,4383,11374],\"type\":\"bar\",\"xaxis\":\"x\",\"yaxis\":\"y\"},{\"labels\":[\"supply_chain\",\"agency\",\"ai_llm\",\"agent_terms\"],\"name\":\"Category Distribution\",\"values\":[11409,4423,4383,11374],\"type\":\"pie\",\"domain\":{\"x\":[0.0,0.45],\"y\":[0.3888888888888889,0.6111111111111112]}},{\"marker\":{\"color\":\"orange\"},\"name\":\"Field Coverage %\",\"x\":[\"title\",\"abstract\",\"keywords\"],\"y\":[99.43759972795522,70.70548536451385,100.0],\"type\":\"bar\",\"xaxis\":\"x5\",\"yaxis\":\"y5\"},{\"line\":{\"color\":\"red\"},\"mode\":\"lines+markers\",\"name\":\"Agent Articles\",\"x\":[1995,1996,1997,1998,1999,2000,2001,2002,2003,2004,2005,2006,2007,2008,2009,2010,2011,2012,2013,2014,2015,2016,2017,2018,2019,2020,2021,2022,2023,2024],\"y\":[142,177,201,221,234,236,291,342,376,381,422,470,404,448,447,458,493,471,433,455,448,383,415,480,515,547,568,588,591,574],\"type\":\"scatter\",\"xaxis\":\"x2\",\"yaxis\":\"y2\"},{\"line\":{\"color\":\"blue\"},\"mode\":\"lines+markers\",\"name\":\"AI Articles\",\"x\":[1995,1996,1997,1998,1999,2000,2001,2002,2003,2004,2005,2006,2007,2008,2009,2010,2011,2012,2013,2014,2015,2016,2017,2018,2019,2020,2021,2022,2023,2024],\"y\":[55,49,68,72,69,83,81,102,98,94,99,95,89,100,105,94,114,87,87,104,99,105,129,154,193,258,290,361,419,408],\"type\":\"scatter\",\"xaxis\":\"x2\",\"yaxis\":\"y2\"},{\"line\":{\"color\":\"green\",\"width\":3},\"mode\":\"lines+markers\",\"name\":\"Agent-AI Connection %\",\"x\":[1995,1996,1997,1998,1999,2000,2001,2002,2003,2004,2005,2006,2007,2008,2009,2010,2011,2012,2013,2014,2015,2016,2017,2018,2019,2020,2021,2022,2023,2024],\"y\":[10.56338028169014,10.16949152542373,18.90547263681592,15.384615384615385,16.23931623931624,20.76271186440678,20.962199312714777,20.760233918128655,19.680851063829788,16.27296587926509,17.535545023696685,14.255319148936172,15.346534653465346,15.848214285714285,16.331096196868007,12.22707423580786,12.373225152129818,10.191082802547772,10.623556581986143,10.10989010989011,12.946428571428573,13.315926892950392,15.66265060240964,14.791666666666666,17.0873786407767,21.389396709323584,22.535211267605636,28.91156462585034,30.456852791878177,31.3588850174216],\"type\":\"scatter\",\"xaxis\":\"x3\",\"yaxis\":\"y3\"},{\"line\":{\"color\":\"darkred\",\"dash\":\"dash\"},\"mode\":\"lines+markers\",\"name\":\"Recent Agent Trend\",\"x\":[2015,2016,2017,2018,2019,2020,2021,2022,2023,2024],\"y\":[448,383,415,480,515,547,568,588,591,574],\"type\":\"scatter\",\"xaxis\":\"x4\",\"yaxis\":\"y4\"},{\"line\":{\"color\":\"darkblue\",\"dash\":\"dash\"},\"mode\":\"lines+markers\",\"name\":\"Recent AI Trend\",\"x\":[2015,2016,2017,2018,2019,2020,2021,2022,2023,2024],\"y\":[99,105,129,154,193,258,290,361,419,408],\"type\":\"scatter\",\"xaxis\":\"x4\",\"yaxis\":\"y4\"}],                        {\"template\":{\"data\":{\"histogram2dcontour\":[{\"type\":\"histogram2dcontour\",\"colorbar\":{\"outlinewidth\":0,\"ticks\":\"\"},\"colorscale\":[[0.0,\"#0d0887\"],[0.1111111111111111,\"#46039f\"],[0.2222222222222222,\"#7201a8\"],[0.3333333333333333,\"#9c179e\"],[0.4444444444444444,\"#bd3786\"],[0.5555555555555556,\"#d8576b\"],[0.6666666666666666,\"#ed7953\"],[0.7777777777777778,\"#fb9f3a\"],[0.8888888888888888,\"#fdca26\"],[1.0,\"#f0f921\"]]}],\"choropleth\":[{\"type\":\"choropleth\",\"colorbar\":{\"outlinewidth\":0,\"ticks\":\"\"}}],\"histogram2d\":[{\"type\":\"histogram2d\",\"colorbar\":{\"outlinewidth\":0,\"ticks\":\"\"},\"colorscale\":[[0.0,\"#0d0887\"],[0.1111111111111111,\"#46039f\"],[0.2222222222222222,\"#7201a8\"],[0.3333333333333333,\"#9c179e\"],[0.4444444444444444,\"#bd3786\"],[0.5555555555555556,\"#d8576b\"],[0.6666666666666666,\"#ed7953\"],[0.7777777777777778,\"#fb9f3a\"],[0.8888888888888888,\"#fdca26\"],[1.0,\"#f0f921\"]]}],\"heatmap\":[{\"type\":\"heatmap\",\"colorbar\":{\"outlinewidth\":0,\"ticks\":\"\"},\"colorscale\":[[0.0,\"#0d0887\"],[0.1111111111111111,\"#46039f\"],[0.2222222222222222,\"#7201a8\"],[0.3333333333333333,\"#9c179e\"],[0.4444444444444444,\"#bd3786\"],[0.5555555555555556,\"#d8576b\"],[0.6666666666666666,\"#ed7953\"],[0.7777777777777778,\"#fb9f3a\"],[0.8888888888888888,\"#fdca26\"],[1.0,\"#f0f921\"]]}],\"heatmapgl\":[{\"type\":\"heatmapgl\",\"colorbar\":{\"outlinewidth\":0,\"ticks\":\"\"},\"colorscale\":[[0.0,\"#0d0887\"],[0.1111111111111111,\"#46039f\"],[0.2222222222222222,\"#7201a8\"],[0.3333333333333333,\"#9c179e\"],[0.4444444444444444,\"#bd3786\"],[0.5555555555555556,\"#d8576b\"],[0.6666666666666666,\"#ed7953\"],[0.7777777777777778,\"#fb9f3a\"],[0.8888888888888888,\"#fdca26\"],[1.0,\"#f0f921\"]]}],\"contourcarpet\":[{\"type\":\"contourcarpet\",\"colorbar\":{\"outlinewidth\":0,\"ticks\":\"\"}}],\"contour\":[{\"type\":\"contour\",\"colorbar\":{\"outlinewidth\":0,\"ticks\":\"\"},\"colorscale\":[[0.0,\"#0d0887\"],[0.1111111111111111,\"#46039f\"],[0.2222222222222222,\"#7201a8\"],[0.3333333333333333,\"#9c179e\"],[0.4444444444444444,\"#bd3786\"],[0.5555555555555556,\"#d8576b\"],[0.6666666666666666,\"#ed7953\"],[0.7777777777777778,\"#fb9f3a\"],[0.8888888888888888,\"#fdca26\"],[1.0,\"#f0f921\"]]}],\"surface\":[{\"type\":\"surface\",\"colorbar\":{\"outlinewidth\":0,\"ticks\":\"\"},\"colorscale\":[[0.0,\"#0d0887\"],[0.1111111111111111,\"#46039f\"],[0.2222222222222222,\"#7201a8\"],[0.3333333333333333,\"#9c179e\"],[0.4444444444444444,\"#bd3786\"],[0.5555555555555556,\"#d8576b\"],[0.6666666666666666,\"#ed7953\"],[0.7777777777777778,\"#fb9f3a\"],[0.8888888888888888,\"#fdca26\"],[1.0,\"#f0f921\"]]}],\"mesh3d\":[{\"type\":\"mesh3d\",\"colorbar\":{\"outlinewidth\":0,\"ticks\":\"\"}}],\"scatter\":[{\"fillpattern\":{\"fillmode\":\"overlay\",\"size\":10,\"solidity\":0.2},\"type\":\"scatter\"}],\"parcoords\":[{\"type\":\"parcoords\",\"line\":{\"colorbar\":{\"outlinewidth\":0,\"ticks\":\"\"}}}],\"scatterpolargl\":[{\"type\":\"scatterpolargl\",\"marker\":{\"colorbar\":{\"outlinewidth\":0,\"ticks\":\"\"}}}],\"bar\":[{\"error_x\":{\"color\":\"#2a3f5f\"},\"error_y\":{\"color\":\"#2a3f5f\"},\"marker\":{\"line\":{\"color\":\"#E5ECF6\",\"width\":0.5},\"pattern\":{\"fillmode\":\"overlay\",\"size\":10,\"solidity\":0.2}},\"type\":\"bar\"}],\"scattergeo\":[{\"type\":\"scattergeo\",\"marker\":{\"colorbar\":{\"outlinewidth\":0,\"ticks\":\"\"}}}],\"scatterpolar\":[{\"type\":\"scatterpolar\",\"marker\":{\"colorbar\":{\"outlinewidth\":0,\"ticks\":\"\"}}}],\"histogram\":[{\"marker\":{\"pattern\":{\"fillmode\":\"overlay\",\"size\":10,\"solidity\":0.2}},\"type\":\"histogram\"}],\"scattergl\":[{\"type\":\"scattergl\",\"marker\":{\"colorbar\":{\"outlinewidth\":0,\"ticks\":\"\"}}}],\"scatter3d\":[{\"type\":\"scatter3d\",\"line\":{\"colorbar\":{\"outlinewidth\":0,\"ticks\":\"\"}},\"marker\":{\"colorbar\":{\"outlinewidth\":0,\"ticks\":\"\"}}}],\"scattermapbox\":[{\"type\":\"scattermapbox\",\"marker\":{\"colorbar\":{\"outlinewidth\":0,\"ticks\":\"\"}}}],\"scatterternary\":[{\"type\":\"scatterternary\",\"marker\":{\"colorbar\":{\"outlinewidth\":0,\"ticks\":\"\"}}}],\"scattercarpet\":[{\"type\":\"scattercarpet\",\"marker\":{\"colorbar\":{\"outlinewidth\":0,\"ticks\":\"\"}}}],\"carpet\":[{\"aaxis\":{\"endlinecolor\":\"#2a3f5f\",\"gridcolor\":\"white\",\"linecolor\":\"white\",\"minorgridcolor\":\"white\",\"startlinecolor\":\"#2a3f5f\"},\"baxis\":{\"endlinecolor\":\"#2a3f5f\",\"gridcolor\":\"white\",\"linecolor\":\"white\",\"minorgridcolor\":\"white\",\"startlinecolor\":\"#2a3f5f\"},\"type\":\"carpet\"}],\"table\":[{\"cells\":{\"fill\":{\"color\":\"#EBF0F8\"},\"line\":{\"color\":\"white\"}},\"header\":{\"fill\":{\"color\":\"#C8D4E3\"},\"line\":{\"color\":\"white\"}},\"type\":\"table\"}],\"barpolar\":[{\"marker\":{\"line\":{\"color\":\"#E5ECF6\",\"width\":0.5},\"pattern\":{\"fillmode\":\"overlay\",\"size\":10,\"solidity\":0.2}},\"type\":\"barpolar\"}],\"pie\":[{\"automargin\":true,\"type\":\"pie\"}]},\"layout\":{\"autotypenumbers\":\"strict\",\"colorway\":[\"#636efa\",\"#EF553B\",\"#00cc96\",\"#ab63fa\",\"#FFA15A\",\"#19d3f3\",\"#FF6692\",\"#B6E880\",\"#FF97FF\",\"#FECB52\"],\"font\":{\"color\":\"#2a3f5f\"},\"hovermode\":\"closest\",\"hoverlabel\":{\"align\":\"left\"},\"paper_bgcolor\":\"white\",\"plot_bgcolor\":\"#E5ECF6\",\"polar\":{\"bgcolor\":\"#E5ECF6\",\"angularaxis\":{\"gridcolor\":\"white\",\"linecolor\":\"white\",\"ticks\":\"\"},\"radialaxis\":{\"gridcolor\":\"white\",\"linecolor\":\"white\",\"ticks\":\"\"}},\"ternary\":{\"bgcolor\":\"#E5ECF6\",\"aaxis\":{\"gridcolor\":\"white\",\"linecolor\":\"white\",\"ticks\":\"\"},\"baxis\":{\"gridcolor\":\"white\",\"linecolor\":\"white\",\"ticks\":\"\"},\"caxis\":{\"gridcolor\":\"white\",\"linecolor\":\"white\",\"ticks\":\"\"}},\"coloraxis\":{\"colorbar\":{\"outlinewidth\":0,\"ticks\":\"\"}},\"colorscale\":{\"sequential\":[[0.0,\"#0d0887\"],[0.1111111111111111,\"#46039f\"],[0.2222222222222222,\"#7201a8\"],[0.3333333333333333,\"#9c179e\"],[0.4444444444444444,\"#bd3786\"],[0.5555555555555556,\"#d8576b\"],[0.6666666666666666,\"#ed7953\"],[0.7777777777777778,\"#fb9f3a\"],[0.8888888888888888,\"#fdca26\"],[1.0,\"#f0f921\"]],\"sequentialminus\":[[0.0,\"#0d0887\"],[0.1111111111111111,\"#46039f\"],[0.2222222222222222,\"#7201a8\"],[0.3333333333333333,\"#9c179e\"],[0.4444444444444444,\"#bd3786\"],[0.5555555555555556,\"#d8576b\"],[0.6666666666666666,\"#ed7953\"],[0.7777777777777778,\"#fb9f3a\"],[0.8888888888888888,\"#fdca26\"],[1.0,\"#f0f921\"]],\"diverging\":[[0,\"#8e0152\"],[0.1,\"#c51b7d\"],[0.2,\"#de77ae\"],[0.3,\"#f1b6da\"],[0.4,\"#fde0ef\"],[0.5,\"#f7f7f7\"],[0.6,\"#e6f5d0\"],[0.7,\"#b8e186\"],[0.8,\"#7fbc41\"],[0.9,\"#4d9221\"],[1,\"#276419\"]]},\"xaxis\":{\"gridcolor\":\"white\",\"linecolor\":\"white\",\"ticks\":\"\",\"title\":{\"standoff\":15},\"zerolinecolor\":\"white\",\"automargin\":true,\"zerolinewidth\":2},\"yaxis\":{\"gridcolor\":\"white\",\"linecolor\":\"white\",\"ticks\":\"\",\"title\":{\"standoff\":15},\"zerolinecolor\":\"white\",\"automargin\":true,\"zerolinewidth\":2},\"scene\":{\"xaxis\":{\"backgroundcolor\":\"#E5ECF6\",\"gridcolor\":\"white\",\"linecolor\":\"white\",\"showbackground\":true,\"ticks\":\"\",\"zerolinecolor\":\"white\",\"gridwidth\":2},\"yaxis\":{\"backgroundcolor\":\"#E5ECF6\",\"gridcolor\":\"white\",\"linecolor\":\"white\",\"showbackground\":true,\"ticks\":\"\",\"zerolinecolor\":\"white\",\"gridwidth\":2},\"zaxis\":{\"backgroundcolor\":\"#E5ECF6\",\"gridcolor\":\"white\",\"linecolor\":\"white\",\"showbackground\":true,\"ticks\":\"\",\"zerolinecolor\":\"white\",\"gridwidth\":2}},\"shapedefaults\":{\"line\":{\"color\":\"#2a3f5f\"}},\"annotationdefaults\":{\"arrowcolor\":\"#2a3f5f\",\"arrowhead\":0,\"arrowwidth\":1},\"geo\":{\"bgcolor\":\"white\",\"landcolor\":\"#E5ECF6\",\"subunitcolor\":\"white\",\"showland\":true,\"showlakes\":true,\"lakecolor\":\"white\"},\"title\":{\"x\":0.05},\"mapbox\":{\"style\":\"light\"}}},\"xaxis\":{\"anchor\":\"y\",\"domain\":[0.0,0.45]},\"yaxis\":{\"anchor\":\"x\",\"domain\":[0.7777777777777778,1.0]},\"xaxis2\":{\"anchor\":\"y2\",\"domain\":[0.55,1.0]},\"yaxis2\":{\"anchor\":\"x2\",\"domain\":[0.7777777777777778,1.0]},\"xaxis3\":{\"anchor\":\"y3\",\"domain\":[0.55,1.0]},\"yaxis3\":{\"anchor\":\"x3\",\"domain\":[0.3888888888888889,0.6111111111111112]},\"xaxis4\":{\"anchor\":\"y4\",\"domain\":[0.0,0.45]},\"yaxis4\":{\"anchor\":\"x4\",\"domain\":[0.0,0.22222222222222224]},\"xaxis5\":{\"anchor\":\"y5\",\"domain\":[0.55,1.0]},\"yaxis5\":{\"anchor\":\"x5\",\"domain\":[0.0,0.22222222222222224]},\"annotations\":[{\"font\":{\"size\":16},\"showarrow\":false,\"text\":\"Publications by Category (Baseline)\",\"x\":0.225,\"xanchor\":\"center\",\"xref\":\"paper\",\"y\":1.0,\"yanchor\":\"bottom\",\"yref\":\"paper\"},{\"font\":{\"size\":16},\"showarrow\":false,\"text\":\"Agent-AI Evolution Over Time\",\"x\":0.775,\"xanchor\":\"center\",\"xref\":\"paper\",\"y\":1.0,\"yanchor\":\"bottom\",\"yref\":\"paper\"},{\"font\":{\"size\":16},\"showarrow\":false,\"text\":\"Category Distribution\",\"x\":0.225,\"xanchor\":\"center\",\"xref\":\"paper\",\"y\":0.6111111111111112,\"yanchor\":\"bottom\",\"yref\":\"paper\"},{\"font\":{\"size\":16},\"showarrow\":false,\"text\":\"Agent-AI Connection Rate\",\"x\":0.775,\"xanchor\":\"center\",\"xref\":\"paper\",\"y\":0.6111111111111112,\"yanchor\":\"bottom\",\"yref\":\"paper\"},{\"font\":{\"size\":16},\"showarrow\":false,\"text\":\"Recent Trends Comparison\",\"x\":0.225,\"xanchor\":\"center\",\"xref\":\"paper\",\"y\":0.22222222222222224,\"yanchor\":\"bottom\",\"yref\":\"paper\"},{\"font\":{\"size\":16},\"showarrow\":false,\"text\":\"Data Quality Overview\",\"x\":0.775,\"xanchor\":\"center\",\"xref\":\"paper\",\"y\":0.22222222222222224,\"yanchor\":\"bottom\",\"yref\":\"paper\"}],\"title\":{\"text\":\"Baseline Research Analysis Dashboard\"},\"height\":1200,\"showlegend\":true},                        {\"responsive\": true}                    ).then(function(){\n",
                            "                            \n",
                            "var gd = document.getElementById('9911958d-c131-45f1-a423-f0850170244b');\n",
                            "var x = new MutationObserver(function (mutations, observer) {{\n",
                            "        var display = window.getComputedStyle(gd).display;\n",
                            "        if (!display || display === 'none') {{\n",
                            "            console.log([gd, 'removed!']);\n",
                            "            Plotly.purge(gd);\n",
                            "            observer.disconnect();\n",
                            "        }}\n",
                            "}});\n",
                            "\n",
                            "// Listen for the removal of the full notebook cells\n",
                            "var notebookContainer = gd.closest('#notebook-container');\n",
                            "if (notebookContainer) {{\n",
                            "    x.observe(notebookContainer, {childList: true});\n",
                            "}}\n",
                            "\n",
                            "// Listen for the clearing of the current output cell\n",
                            "var outputEl = gd.closest('.output');\n",
                            "if (outputEl) {{\n",
                            "    x.observe(outputEl, {childList: true});\n",
                            "}}\n",
                            "\n",
                            "                        })                };                });            </script>        </div>"
                        ]
                    },
                    "metadata": {},
                    "output_type": "display_data"
                },
                {
                    "name": "stdout",
                    "output_type": "stream",
                    "text": [
                        "✅ Baseline dashboard saved: ../reports/baseline_analysis_dashboard.html\n",
                        "🎯 Displaying strategic dashboard...\n"
                    ]
                },
                {
                    "data": {
                        "application/vnd.plotly.v1+json": {
                            "config": {
                                "plotlyServerURL": "https://plot.ly"
                            },
                            "data": [
                                {
                                    "marker": {
                                        "color": [
                                            "#1f77b4",
                                            "#ff7f0e",
                                            "#2ca02c",
                                            "#d62728",
                                            "#9467bd",
                                            "#8c564b"
                                        ]
                                    },
                                    "name": "Publications",
                                    "type": "bar",
                                    "x": [
                                        "Agent + Supply Chain",
                                        "AI + Supply Chain",
                                        "Agent + AI",
                                        "Agent + AI + Supply Chain",
                                        "Agent + SCM (Non-AI)",
                                        "AI + SCM (Non-Agent)"
                                    ],
                                    "xaxis": "x",
                                    "y": [
                                        6804,
                                        1519,
                                        2268,
                                        1082,
                                        5722,
                                        437
                                    ],
                                    "yaxis": "y"
                                },
                                {
                                    "marker": {
                                        "color": "lightcoral"
                                    },
                                    "name": "AI Agents in SCM",
                                    "type": "bar",
                                    "x": [
                                        "early",
                                        "emergence",
                                        "growth",
                                        "acceleration"
                                    ],
                                    "xaxis": "x2",
                                    "y": [
                                        166,
                                        355,
                                        144,
                                        359
                                    ],
                                    "yaxis": "y2"
                                },
                                {
                                    "marker": {
                                        "color": [
                                            "green",
                                            "green",
                                            "green",
                                            "green",
                                            "green",
                                            "green"
                                        ]
                                    },
                                    "name": "Growth Rate %",
                                    "text": [
                                        "+28.9%",
                                        "+198.0%",
                                        "+132.7%",
                                        "+149.3%",
                                        "+13.6%",
                                        "+327.8%"
                                    ],
                                    "textposition": "auto",
                                    "type": "bar",
                                    "x": [
                                        0,
                                        1,
                                        2,
                                        3,
                                        4,
                                        5
                                    ],
                                    "xaxis": "x3",
                                    "y": [
                                        28.861154446177846,
                                        197.97979797979798,
                                        132.73273273273273,
                                        149.30555555555557,
                                        13.620386643233742,
                                        327.77777777777777
                                    ],
                                    "yaxis": "y3"
                                },
                                {
                                    "line": {
                                        "color": "blue",
                                        "width": 2
                                    },
                                    "mode": "lines+markers",
                                    "name": "AI Integration in Agent-SCM",
                                    "type": "scatter",
                                    "x": [
                                        1995,
                                        1996,
                                        1997,
                                        1998,
                                        1999,
                                        2000,
                                        2001,
                                        2002,
                                        2003,
                                        2004,
                                        2005,
                                        2006,
                                        2007,
                                        2008,
                                        2009,
                                        2010,
                                        2011,
                                        2012,
                                        2013,
                                        2014,
                                        2015,
                                        2016,
                                        2017,
                                        2018,
                                        2019,
                                        2020,
                                        2021,
                                        2022,
                                        2023,
                                        2024
                                    ],
                                    "xaxis": "x4",
                                    "y": [
                                        13.636363636363635,
                                        11.428571428571429,
                                        27.027027027027028,
                                        5.660377358490567,
                                        13.846153846153847,
                                        22.58064516129032,
                                        19.82758620689655,
                                        19.463087248322147,
                                        17.46031746031746,
                                        14.903846153846153,
                                        15.246636771300448,
                                        14.715719063545151,
                                        14.015151515151514,
                                        16.18705035971223,
                                        17.24137931034483,
                                        9.966777408637874,
                                        13.548387096774196,
                                        8.992805755395683,
                                        9.578544061302683,
                                        11.023622047244094,
                                        12.260536398467432,
                                        8.585858585858585,
                                        12.863070539419086,
                                        8.333333333333332,
                                        13.398692810457517,
                                        15.634218289085547,
                                        18.26625386996904,
                                        20.65868263473054,
                                        25.401929260450164,
                                        28.695652173913043
                                    ],
                                    "yaxis": "y4"
                                },
                                {
                                    "line": {
                                        "color": "red",
                                        "width": 2
                                    },
                                    "mode": "lines+markers",
                                    "name": "Agent Integration in AI-SCM",
                                    "type": "scatter",
                                    "x": [
                                        1995,
                                        1996,
                                        1997,
                                        1998,
                                        1999,
                                        2000,
                                        2001,
                                        2002,
                                        2003,
                                        2004,
                                        2005,
                                        2006,
                                        2007,
                                        2008,
                                        2009,
                                        2010,
                                        2011,
                                        2012,
                                        2013,
                                        2014,
                                        2015,
                                        2016,
                                        2017,
                                        2018,
                                        2019,
                                        2020,
                                        2021,
                                        2022,
                                        2023,
                                        2024
                                    ],
                                    "xaxis": "x4",
                                    "y": [
                                        33.33333333333333,
                                        57.14285714285714,
                                        62.5,
                                        33.33333333333333,
                                        64.28571428571429,
                                        87.5,
                                        100,
                                        90.625,
                                        82.5,
                                        79.48717948717949,
                                        85,
                                        91.66666666666666,
                                        88.09523809523809,
                                        84.90566037735849,
                                        88.23529411764706,
                                        83.33333333333334,
                                        76.36363636363637,
                                        71.42857142857143,
                                        69.44444444444444,
                                        73.68421052631578,
                                        82.05128205128204,
                                        60.71428571428571,
                                        75.60975609756098,
                                        69.6969696969697,
                                        71.9298245614035,
                                        68.83116883116884,
                                        59,
                                        61.60714285714286,
                                        57.2463768115942,
                                        60.73619631901841
                                    ],
                                    "yaxis": "y4"
                                },
                                {
                                    "fill": "tonexty",
                                    "line": {
                                        "color": "purple",
                                        "width": 3
                                    },
                                    "mode": "lines+markers",
                                    "name": "AI Agents in SCM Publications",
                                    "type": "scatter",
                                    "x": [
                                        1995,
                                        1996,
                                        1997,
                                        1998,
                                        1999,
                                        2000,
                                        2001,
                                        2002,
                                        2003,
                                        2004,
                                        2005,
                                        2006,
                                        2007,
                                        2008,
                                        2009,
                                        2010,
                                        2011,
                                        2012,
                                        2013,
                                        2014,
                                        2015,
                                        2016,
                                        2017,
                                        2018,
                                        2019,
                                        2020,
                                        2021,
                                        2022,
                                        2023,
                                        2024
                                    ],
                                    "xaxis": "x5",
                                    "y": [
                                        3,
                                        4,
                                        10,
                                        3,
                                        9,
                                        21,
                                        23,
                                        29,
                                        33,
                                        31,
                                        34,
                                        44,
                                        37,
                                        45,
                                        45,
                                        30,
                                        42,
                                        25,
                                        25,
                                        28,
                                        32,
                                        17,
                                        31,
                                        23,
                                        41,
                                        53,
                                        59,
                                        69,
                                        79,
                                        99
                                    ],
                                    "yaxis": "y5"
                                },
                                {
                                    "domain": {
                                        "x": [
                                            0.55,
                                            1
                                        ],
                                        "y": [
                                            0,
                                            0.22222222222222224
                                        ]
                                    },
                                    "hole": 0.3,
                                    "labels": [
                                        "AI Agents in SCM",
                                        "Traditional Agent-SCM",
                                        "Pure AI-SCM",
                                        "Other Research Areas"
                                    ],
                                    "name": "Research Distribution",
                                    "type": "pie",
                                    "values": [
                                        1082,
                                        5722,
                                        437,
                                        30988
                                    ]
                                }
                            ],
                            "layout": {
                                "annotations": [
                                    {
                                        "font": {
                                            "size": 16
                                        },
                                        "showarrow": false,
                                        "text": "Strategic Intersections Overview",
                                        "x": 0.225,
                                        "xanchor": "center",
                                        "xref": "paper",
                                        "y": 1,
                                        "yanchor": "bottom",
                                        "yref": "paper"
                                    },
                                    {
                                        "font": {
                                            "size": 16
                                        },
                                        "showarrow": false,
                                        "text": "AI Agents in SCM: Period Evolution",
                                        "x": 0.775,
                                        "xanchor": "center",
                                        "xref": "paper",
                                        "y": 1,
                                        "yanchor": "bottom",
                                        "yref": "paper"
                                    },
                                    {
                                        "font": {
                                            "size": 16
                                        },
                                        "showarrow": false,
                                        "text": "Growth Rates by Intersection (2020-24 vs 2015-19)",
                                        "x": 0.225,
                                        "xanchor": "center",
                                        "xref": "paper",
                                        "y": 0.6111111111111112,
                                        "yanchor": "bottom",
                                        "yref": "paper"
                                    },
                                    {
                                        "font": {
                                            "size": 16
                                        },
                                        "showarrow": false,
                                        "text": "AI vs Agent Integration in SCM Over Time",
                                        "x": 0.775,
                                        "xanchor": "center",
                                        "xref": "paper",
                                        "y": 0.6111111111111112,
                                        "yanchor": "bottom",
                                        "yref": "paper"
                                    },
                                    {
                                        "font": {
                                            "size": 16
                                        },
                                        "showarrow": false,
                                        "text": "Research Domain Convergence Timeline",
                                        "x": 0.225,
                                        "xanchor": "center",
                                        "xref": "paper",
                                        "y": 0.22222222222222224,
                                        "yanchor": "bottom",
                                        "yref": "paper"
                                    },
                                    {
                                        "font": {
                                            "size": 16
                                        },
                                        "showarrow": false,
                                        "text": "Research Domain Distribution",
                                        "x": 0.775,
                                        "xanchor": "center",
                                        "xref": "paper",
                                        "y": 0.22222222222222224,
                                        "yanchor": "bottom",
                                        "yref": "paper"
                                    }
                                ],
                                "font": {
                                    "size": 12
                                },
                                "height": 1400,
                                "showlegend": true,
                                "template": {
                                    "data": {
                                        "bar": [
                                            {
                                                "error_x": {
                                                    "color": "#2a3f5f"
                                                },
                                                "error_y": {
                                                    "color": "#2a3f5f"
                                                },
                                                "marker": {
                                                    "line": {
                                                        "color": "#E5ECF6",
                                                        "width": 0.5
                                                    },
                                                    "pattern": {
                                                        "fillmode": "overlay",
                                                        "size": 10,
                                                        "solidity": 0.2
                                                    }
                                                },
                                                "type": "bar"
                                            }
                                        ],
                                        "barpolar": [
                                            {
                                                "marker": {
                                                    "line": {
                                                        "color": "#E5ECF6",
                                                        "width": 0.5
                                                    },
                                                    "pattern": {
                                                        "fillmode": "overlay",
                                                        "size": 10,
                                                        "solidity": 0.2
                                                    }
                                                },
                                                "type": "barpolar"
                                            }
                                        ],
                                        "carpet": [
                                            {
                                                "aaxis": {
                                                    "endlinecolor": "#2a3f5f",
                                                    "gridcolor": "white",
                                                    "linecolor": "white",
                                                    "minorgridcolor": "white",
                                                    "startlinecolor": "#2a3f5f"
                                                },
                                                "baxis": {
                                                    "endlinecolor": "#2a3f5f",
                                                    "gridcolor": "white",
                                                    "linecolor": "white",
                                                    "minorgridcolor": "white",
                                                    "startlinecolor": "#2a3f5f"
                                                },
                                                "type": "carpet"
                                            }
                                        ],
                                        "choropleth": [
                                            {
                                                "colorbar": {
                                                    "outlinewidth": 0,
                                                    "ticks": ""
                                                },
                                                "type": "choropleth"
                                            }
                                        ],
                                        "contour": [
                                            {
                                                "colorbar": {
                                                    "outlinewidth": 0,
                                                    "ticks": ""
                                                },
                                                "colorscale": [
                                                    [
                                                        0,
                                                        "#0d0887"
                                                    ],
                                                    [
                                                        0.1111111111111111,
                                                        "#46039f"
                                                    ],
                                                    [
                                                        0.2222222222222222,
                                                        "#7201a8"
                                                    ],
                                                    [
                                                        0.3333333333333333,
                                                        "#9c179e"
                                                    ],
                                                    [
                                                        0.4444444444444444,
                                                        "#bd3786"
                                                    ],
                                                    [
                                                        0.5555555555555556,
                                                        "#d8576b"
                                                    ],
                                                    [
                                                        0.6666666666666666,
                                                        "#ed7953"
                                                    ],
                                                    [
                                                        0.7777777777777778,
                                                        "#fb9f3a"
                                                    ],
                                                    [
                                                        0.8888888888888888,
                                                        "#fdca26"
                                                    ],
                                                    [
                                                        1,
                                                        "#f0f921"
                                                    ]
                                                ],
                                                "type": "contour"
                                            }
                                        ],
                                        "contourcarpet": [
                                            {
                                                "colorbar": {
                                                    "outlinewidth": 0,
                                                    "ticks": ""
                                                },
                                                "type": "contourcarpet"
                                            }
                                        ],
                                        "heatmap": [
                                            {
                                                "colorbar": {
                                                    "outlinewidth": 0,
                                                    "ticks": ""
                                                },
                                                "colorscale": [
                                                    [
                                                        0,
                                                        "#0d0887"
                                                    ],
                                                    [
                                                        0.1111111111111111,
                                                        "#46039f"
                                                    ],
                                                    [
                                                        0.2222222222222222,
                                                        "#7201a8"
                                                    ],
                                                    [
                                                        0.3333333333333333,
                                                        "#9c179e"
                                                    ],
                                                    [
                                                        0.4444444444444444,
                                                        "#bd3786"
                                                    ],
                                                    [
                                                        0.5555555555555556,
                                                        "#d8576b"
                                                    ],
                                                    [
                                                        0.6666666666666666,
                                                        "#ed7953"
                                                    ],
                                                    [
                                                        0.7777777777777778,
                                                        "#fb9f3a"
                                                    ],
                                                    [
                                                        0.8888888888888888,
                                                        "#fdca26"
                                                    ],
                                                    [
                                                        1,
                                                        "#f0f921"
                                                    ]
                                                ],
                                                "type": "heatmap"
                                            }
                                        ],
                                        "heatmapgl": [
                                            {
                                                "colorbar": {
                                                    "outlinewidth": 0,
                                                    "ticks": ""
                                                },
                                                "colorscale": [
                                                    [
                                                        0,
                                                        "#0d0887"
                                                    ],
                                                    [
                                                        0.1111111111111111,
                                                        "#46039f"
                                                    ],
                                                    [
                                                        0.2222222222222222,
                                                        "#7201a8"
                                                    ],
                                                    [
                                                        0.3333333333333333,
                                                        "#9c179e"
                                                    ],
                                                    [
                                                        0.4444444444444444,
                                                        "#bd3786"
                                                    ],
                                                    [
                                                        0.5555555555555556,
                                                        "#d8576b"
                                                    ],
                                                    [
                                                        0.6666666666666666,
                                                        "#ed7953"
                                                    ],
                                                    [
                                                        0.7777777777777778,
                                                        "#fb9f3a"
                                                    ],
                                                    [
                                                        0.8888888888888888,
                                                        "#fdca26"
                                                    ],
                                                    [
                                                        1,
                                                        "#f0f921"
                                                    ]
                                                ],
                                                "type": "heatmapgl"
                                            }
                                        ],
                                        "histogram": [
                                            {
                                                "marker": {
                                                    "pattern": {
                                                        "fillmode": "overlay",
                                                        "size": 10,
                                                        "solidity": 0.2
                                                    }
                                                },
                                                "type": "histogram"
                                            }
                                        ],
                                        "histogram2d": [
                                            {
                                                "colorbar": {
                                                    "outlinewidth": 0,
                                                    "ticks": ""
                                                },
                                                "colorscale": [
                                                    [
                                                        0,
                                                        "#0d0887"
                                                    ],
                                                    [
                                                        0.1111111111111111,
                                                        "#46039f"
                                                    ],
                                                    [
                                                        0.2222222222222222,
                                                        "#7201a8"
                                                    ],
                                                    [
                                                        0.3333333333333333,
                                                        "#9c179e"
                                                    ],
                                                    [
                                                        0.4444444444444444,
                                                        "#bd3786"
                                                    ],
                                                    [
                                                        0.5555555555555556,
                                                        "#d8576b"
                                                    ],
                                                    [
                                                        0.6666666666666666,
                                                        "#ed7953"
                                                    ],
                                                    [
                                                        0.7777777777777778,
                                                        "#fb9f3a"
                                                    ],
                                                    [
                                                        0.8888888888888888,
                                                        "#fdca26"
                                                    ],
                                                    [
                                                        1,
                                                        "#f0f921"
                                                    ]
                                                ],
                                                "type": "histogram2d"
                                            }
                                        ],
                                        "histogram2dcontour": [
                                            {
                                                "colorbar": {
                                                    "outlinewidth": 0,
                                                    "ticks": ""
                                                },
                                                "colorscale": [
                                                    [
                                                        0,
                                                        "#0d0887"
                                                    ],
                                                    [
                                                        0.1111111111111111,
                                                        "#46039f"
                                                    ],
                                                    [
                                                        0.2222222222222222,
                                                        "#7201a8"
                                                    ],
                                                    [
                                                        0.3333333333333333,
                                                        "#9c179e"
                                                    ],
                                                    [
                                                        0.4444444444444444,
                                                        "#bd3786"
                                                    ],
                                                    [
                                                        0.5555555555555556,
                                                        "#d8576b"
                                                    ],
                                                    [
                                                        0.6666666666666666,
                                                        "#ed7953"
                                                    ],
                                                    [
                                                        0.7777777777777778,
                                                        "#fb9f3a"
                                                    ],
                                                    [
                                                        0.8888888888888888,
                                                        "#fdca26"
                                                    ],
                                                    [
                                                        1,
                                                        "#f0f921"
                                                    ]
                                                ],
                                                "type": "histogram2dcontour"
                                            }
                                        ],
                                        "mesh3d": [
                                            {
                                                "colorbar": {
                                                    "outlinewidth": 0,
                                                    "ticks": ""
                                                },
                                                "type": "mesh3d"
                                            }
                                        ],
                                        "parcoords": [
                                            {
                                                "line": {
                                                    "colorbar": {
                                                        "outlinewidth": 0,
                                                        "ticks": ""
                                                    }
                                                },
                                                "type": "parcoords"
                                            }
                                        ],
                                        "pie": [
                                            {
                                                "automargin": true,
                                                "type": "pie"
                                            }
                                        ],
                                        "scatter": [
                                            {
                                                "fillpattern": {
                                                    "fillmode": "overlay",
                                                    "size": 10,
                                                    "solidity": 0.2
                                                },
                                                "type": "scatter"
                                            }
                                        ],
                                        "scatter3d": [
                                            {
                                                "line": {
                                                    "colorbar": {
                                                        "outlinewidth": 0,
                                                        "ticks": ""
                                                    }
                                                },
                                                "marker": {
                                                    "colorbar": {
                                                        "outlinewidth": 0,
                                                        "ticks": ""
                                                    }
                                                },
                                                "type": "scatter3d"
                                            }
                                        ],
                                        "scattercarpet": [
                                            {
                                                "marker": {
                                                    "colorbar": {
                                                        "outlinewidth": 0,
                                                        "ticks": ""
                                                    }
                                                },
                                                "type": "scattercarpet"
                                            }
                                        ],
                                        "scattergeo": [
                                            {
                                                "marker": {
                                                    "colorbar": {
                                                        "outlinewidth": 0,
                                                        "ticks": ""
                                                    }
                                                },
                                                "type": "scattergeo"
                                            }
                                        ],
                                        "scattergl": [
                                            {
                                                "marker": {
                                                    "colorbar": {
                                                        "outlinewidth": 0,
                                                        "ticks": ""
                                                    }
                                                },
                                                "type": "scattergl"
                                            }
                                        ],
                                        "scattermapbox": [
                                            {
                                                "marker": {
                                                    "colorbar": {
                                                        "outlinewidth": 0,
                                                        "ticks": ""
                                                    }
                                                },
                                                "type": "scattermapbox"
                                            }
                                        ],
                                        "scatterpolar": [
                                            {
                                                "marker": {
                                                    "colorbar": {
                                                        "outlinewidth": 0,
                                                        "ticks": ""
                                                    }
                                                },
                                                "type": "scatterpolar"
                                            }
                                        ],
                                        "scatterpolargl": [
                                            {
                                                "marker": {
                                                    "colorbar": {
                                                        "outlinewidth": 0,
                                                        "ticks": ""
                                                    }
                                                },
                                                "type": "scatterpolargl"
                                            }
                                        ],
                                        "scatterternary": [
                                            {
                                                "marker": {
                                                    "colorbar": {
                                                        "outlinewidth": 0,
                                                        "ticks": ""
                                                    }
                                                },
                                                "type": "scatterternary"
                                            }
                                        ],
                                        "surface": [
                                            {
                                                "colorbar": {
                                                    "outlinewidth": 0,
                                                    "ticks": ""
                                                },
                                                "colorscale": [
                                                    [
                                                        0,
                                                        "#0d0887"
                                                    ],
                                                    [
                                                        0.1111111111111111,
                                                        "#46039f"
                                                    ],
                                                    [
                                                        0.2222222222222222,
                                                        "#7201a8"
                                                    ],
                                                    [
                                                        0.3333333333333333,
                                                        "#9c179e"
                                                    ],
                                                    [
                                                        0.4444444444444444,
                                                        "#bd3786"
                                                    ],
                                                    [
                                                        0.5555555555555556,
                                                        "#d8576b"
                                                    ],
                                                    [
                                                        0.6666666666666666,
                                                        "#ed7953"
                                                    ],
                                                    [
                                                        0.7777777777777778,
                                                        "#fb9f3a"
                                                    ],
                                                    [
                                                        0.8888888888888888,
                                                        "#fdca26"
                                                    ],
                                                    [
                                                        1,
                                                        "#f0f921"
                                                    ]
                                                ],
                                                "type": "surface"
                                            }
                                        ],
                                        "table": [
                                            {
                                                "cells": {
                                                    "fill": {
                                                        "color": "#EBF0F8"
                                                    },
                                                    "line": {
                                                        "color": "white"
                                                    }
                                                },
                                                "header": {
                                                    "fill": {
                                                        "color": "#C8D4E3"
                                                    },
                                                    "line": {
                                                        "color": "white"
                                                    }
                                                },
                                                "type": "table"
                                            }
                                        ]
                                    },
                                    "layout": {
                                        "annotationdefaults": {
                                            "arrowcolor": "#2a3f5f",
                                            "arrowhead": 0,
                                            "arrowwidth": 1
                                        },
                                        "autotypenumbers": "strict",
                                        "coloraxis": {
                                            "colorbar": {
                                                "outlinewidth": 0,
                                                "ticks": ""
                                            }
                                        },
                                        "colorscale": {
                                            "diverging": [
                                                [
                                                    0,
                                                    "#8e0152"
                                                ],
                                                [
                                                    0.1,
                                                    "#c51b7d"
                                                ],
                                                [
                                                    0.2,
                                                    "#de77ae"
                                                ],
                                                [
                                                    0.3,
                                                    "#f1b6da"
                                                ],
                                                [
                                                    0.4,
                                                    "#fde0ef"
                                                ],
                                                [
                                                    0.5,
                                                    "#f7f7f7"
                                                ],
                                                [
                                                    0.6,
                                                    "#e6f5d0"
                                                ],
                                                [
                                                    0.7,
                                                    "#b8e186"
                                                ],
                                                [
                                                    0.8,
                                                    "#7fbc41"
                                                ],
                                                [
                                                    0.9,
                                                    "#4d9221"
                                                ],
                                                [
                                                    1,
                                                    "#276419"
                                                ]
                                            ],
                                            "sequential": [
                                                [
                                                    0,
                                                    "#0d0887"
                                                ],
                                                [
                                                    0.1111111111111111,
                                                    "#46039f"
                                                ],
                                                [
                                                    0.2222222222222222,
                                                    "#7201a8"
                                                ],
                                                [
                                                    0.3333333333333333,
                                                    "#9c179e"
                                                ],
                                                [
                                                    0.4444444444444444,
                                                    "#bd3786"
                                                ],
                                                [
                                                    0.5555555555555556,
                                                    "#d8576b"
                                                ],
                                                [
                                                    0.6666666666666666,
                                                    "#ed7953"
                                                ],
                                                [
                                                    0.7777777777777778,
                                                    "#fb9f3a"
                                                ],
                                                [
                                                    0.8888888888888888,
                                                    "#fdca26"
                                                ],
                                                [
                                                    1,
                                                    "#f0f921"
                                                ]
                                            ],
                                            "sequentialminus": [
                                                [
                                                    0,
                                                    "#0d0887"
                                                ],
                                                [
                                                    0.1111111111111111,
                                                    "#46039f"
                                                ],
                                                [
                                                    0.2222222222222222,
                                                    "#7201a8"
                                                ],
                                                [
                                                    0.3333333333333333,
                                                    "#9c179e"
                                                ],
                                                [
                                                    0.4444444444444444,
                                                    "#bd3786"
                                                ],
                                                [
                                                    0.5555555555555556,
                                                    "#d8576b"
                                                ],
                                                [
                                                    0.6666666666666666,
                                                    "#ed7953"
                                                ],
                                                [
                                                    0.7777777777777778,
                                                    "#fb9f3a"
                                                ],
                                                [
                                                    0.8888888888888888,
                                                    "#fdca26"
                                                ],
                                                [
                                                    1,
                                                    "#f0f921"
                                                ]
                                            ]
                                        },
                                        "colorway": [
                                            "#636efa",
                                            "#EF553B",
                                            "#00cc96",
                                            "#ab63fa",
                                            "#FFA15A",
                                            "#19d3f3",
                                            "#FF6692",
                                            "#B6E880",
                                            "#FF97FF",
                                            "#FECB52"
                                        ],
                                        "font": {
                                            "color": "#2a3f5f"
                                        },
                                        "geo": {
                                            "bgcolor": "white",
                                            "lakecolor": "white",
                                            "landcolor": "#E5ECF6",
                                            "showlakes": true,
                                            "showland": true,
                                            "subunitcolor": "white"
                                        },
                                        "hoverlabel": {
                                            "align": "left"
                                        },
                                        "hovermode": "closest",
                                        "mapbox": {
                                            "style": "light"
                                        },
                                        "paper_bgcolor": "white",
                                        "plot_bgcolor": "#E5ECF6",
                                        "polar": {
                                            "angularaxis": {
                                                "gridcolor": "white",
                                                "linecolor": "white",
                                                "ticks": ""
                                            },
                                            "bgcolor": "#E5ECF6",
                                            "radialaxis": {
                                                "gridcolor": "white",
                                                "linecolor": "white",
                                                "ticks": ""
                                            }
                                        },
                                        "scene": {
                                            "xaxis": {
                                                "backgroundcolor": "#E5ECF6",
                                                "gridcolor": "white",
                                                "gridwidth": 2,
                                                "linecolor": "white",
                                                "showbackground": true,
                                                "ticks": "",
                                                "zerolinecolor": "white"
                                            },
                                            "yaxis": {
                                                "backgroundcolor": "#E5ECF6",
                                                "gridcolor": "white",
                                                "gridwidth": 2,
                                                "linecolor": "white",
                                                "showbackground": true,
                                                "ticks": "",
                                                "zerolinecolor": "white"
                                            },
                                            "zaxis": {
                                                "backgroundcolor": "#E5ECF6",
                                                "gridcolor": "white",
                                                "gridwidth": 2,
                                                "linecolor": "white",
                                                "showbackground": true,
                                                "ticks": "",
                                                "zerolinecolor": "white"
                                            }
                                        },
                                        "shapedefaults": {
                                            "line": {
                                                "color": "#2a3f5f"
                                            }
                                        },
                                        "ternary": {
                                            "aaxis": {
                                                "gridcolor": "white",
                                                "linecolor": "white",
                                                "ticks": ""
                                            },
                                            "baxis": {
                                                "gridcolor": "white",
                                                "linecolor": "white",
                                                "ticks": ""
                                            },
                                            "bgcolor": "#E5ECF6",
                                            "caxis": {
                                                "gridcolor": "white",
                                                "linecolor": "white",
                                                "ticks": ""
                                            }
                                        },
                                        "title": {
                                            "x": 0.05
                                        },
                                        "xaxis": {
                                            "automargin": true,
                                            "gridcolor": "white",
                                            "linecolor": "white",
                                            "ticks": "",
                                            "title": {
                                                "standoff": 15
                                            },
                                            "zerolinecolor": "white",
                                            "zerolinewidth": 2
                                        },
                                        "yaxis": {
                                            "automargin": true,
                                            "gridcolor": "white",
                                            "linecolor": "white",
                                            "ticks": "",
                                            "title": {
                                                "standoff": 15
                                            },
                                            "zerolinecolor": "white",
                                            "zerolinewidth": 2
                                        }
                                    }
                                },
                                "title": {
                                    "text": "AI Agents in Logistics: Strategic Research Analysis Dashboard"
                                },
                                "xaxis": {
                                    "anchor": "y",
                                    "domain": [
                                        0,
                                        0.45
                                    ]
                                },
                                "xaxis2": {
                                    "anchor": "y2",
                                    "domain": [
                                        0.55,
                                        1
                                    ]
                                },
                                "xaxis3": {
                                    "anchor": "y3",
                                    "domain": [
                                        0,
                                        0.45
                                    ],
                                    "ticktext": [
                                        "Agent+\nSupply Chain",
                                        "AI+\nSupply Chain",
                                        "Agent+\nAI",
                                        "Agent+\nAI+\nSupply Chain",
                                        "Agent+\nSCM (Non-AI)",
                                        "AI+\nSCM (Non-Agent)"
                                    ],
                                    "tickvals": [
                                        0,
                                        1,
                                        2,
                                        3,
                                        4,
                                        5
                                    ]
                                },
                                "xaxis4": {
                                    "anchor": "y4",
                                    "domain": [
                                        0.55,
                                        1
                                    ]
                                },
                                "xaxis5": {
                                    "anchor": "y5",
                                    "domain": [
                                        0,
                                        0.45
                                    ]
                                },
                                "yaxis": {
                                    "anchor": "x",
                                    "domain": [
                                        0.7777777777777778,
                                        1
                                    ]
                                },
                                "yaxis2": {
                                    "anchor": "x2",
                                    "domain": [
                                        0.7777777777777778,
                                        1
                                    ]
                                },
                                "yaxis3": {
                                    "anchor": "x3",
                                    "domain": [
                                        0.3888888888888889,
                                        0.6111111111111112
                                    ],
                                    "title": {
                                        "text": "Growth Rate (%)"
                                    }
                                },
                                "yaxis4": {
                                    "anchor": "x4",
                                    "domain": [
                                        0.3888888888888889,
                                        0.6111111111111112
                                    ],
                                    "title": {
                                        "text": "Integration Percentage (%)"
                                    }
                                },
                                "yaxis5": {
                                    "anchor": "x5",
                                    "domain": [
                                        0,
                                        0.22222222222222224
                                    ],
                                    "title": {
                                        "text": "Number of Publications"
                                    }
                                }
                            }
                        },
                        "text/html": [
                            "<div>                            <div id=\"20523c9a-7d13-4b5b-8af7-2894a827fcda\" class=\"plotly-graph-div\" style=\"height:1400px; width:100%;\"></div>            <script type=\"text/javascript\">                require([\"plotly\"], function(Plotly) {                    window.PLOTLYENV=window.PLOTLYENV || {};                                    if (document.getElementById(\"20523c9a-7d13-4b5b-8af7-2894a827fcda\")) {                    Plotly.newPlot(                        \"20523c9a-7d13-4b5b-8af7-2894a827fcda\",                        [{\"marker\":{\"color\":[\"#1f77b4\",\"#ff7f0e\",\"#2ca02c\",\"#d62728\",\"#9467bd\",\"#8c564b\"]},\"name\":\"Publications\",\"x\":[\"Agent + Supply Chain\",\"AI + Supply Chain\",\"Agent + AI\",\"Agent + AI + Supply Chain\",\"Agent + SCM (Non-AI)\",\"AI + SCM (Non-Agent)\"],\"y\":[6804,1519,2268,1082,5722,437],\"type\":\"bar\",\"xaxis\":\"x\",\"yaxis\":\"y\"},{\"marker\":{\"color\":\"lightcoral\"},\"name\":\"AI Agents in SCM\",\"x\":[\"early\",\"emergence\",\"growth\",\"acceleration\"],\"y\":[166,355,144,359],\"type\":\"bar\",\"xaxis\":\"x2\",\"yaxis\":\"y2\"},{\"marker\":{\"color\":[\"green\",\"green\",\"green\",\"green\",\"green\",\"green\"]},\"name\":\"Growth Rate %\",\"text\":[\"+28.9%\",\"+198.0%\",\"+132.7%\",\"+149.3%\",\"+13.6%\",\"+327.8%\"],\"textposition\":\"auto\",\"x\":[0,1,2,3,4,5],\"y\":[28.861154446177846,197.97979797979798,132.73273273273273,149.30555555555557,13.620386643233742,327.77777777777777],\"type\":\"bar\",\"xaxis\":\"x3\",\"yaxis\":\"y3\"},{\"line\":{\"color\":\"blue\",\"width\":2},\"mode\":\"lines+markers\",\"name\":\"AI Integration in Agent-SCM\",\"x\":[1995,1996,1997,1998,1999,2000,2001,2002,2003,2004,2005,2006,2007,2008,2009,2010,2011,2012,2013,2014,2015,2016,2017,2018,2019,2020,2021,2022,2023,2024],\"y\":[13.636363636363635,11.428571428571429,27.027027027027028,5.660377358490567,13.846153846153847,22.58064516129032,19.82758620689655,19.463087248322147,17.46031746031746,14.903846153846153,15.246636771300448,14.715719063545151,14.015151515151514,16.18705035971223,17.24137931034483,9.966777408637874,13.548387096774196,8.992805755395683,9.578544061302683,11.023622047244094,12.260536398467432,8.585858585858585,12.863070539419086,8.333333333333332,13.398692810457517,15.634218289085547,18.26625386996904,20.65868263473054,25.401929260450164,28.695652173913043],\"type\":\"scatter\",\"xaxis\":\"x4\",\"yaxis\":\"y4\"},{\"line\":{\"color\":\"red\",\"width\":2},\"mode\":\"lines+markers\",\"name\":\"Agent Integration in AI-SCM\",\"x\":[1995,1996,1997,1998,1999,2000,2001,2002,2003,2004,2005,2006,2007,2008,2009,2010,2011,2012,2013,2014,2015,2016,2017,2018,2019,2020,2021,2022,2023,2024],\"y\":[33.33333333333333,57.14285714285714,62.5,33.33333333333333,64.28571428571429,87.5,100.0,90.625,82.5,79.48717948717949,85.0,91.66666666666666,88.09523809523809,84.90566037735849,88.23529411764706,83.33333333333334,76.36363636363637,71.42857142857143,69.44444444444444,73.68421052631578,82.05128205128204,60.71428571428571,75.60975609756098,69.6969696969697,71.9298245614035,68.83116883116884,59.0,61.60714285714286,57.2463768115942,60.73619631901841],\"type\":\"scatter\",\"xaxis\":\"x4\",\"yaxis\":\"y4\"},{\"fill\":\"tonexty\",\"line\":{\"color\":\"purple\",\"width\":3},\"mode\":\"lines+markers\",\"name\":\"AI Agents in SCM Publications\",\"x\":[1995,1996,1997,1998,1999,2000,2001,2002,2003,2004,2005,2006,2007,2008,2009,2010,2011,2012,2013,2014,2015,2016,2017,2018,2019,2020,2021,2022,2023,2024],\"y\":[3,4,10,3,9,21,23,29,33,31,34,44,37,45,45,30,42,25,25,28,32,17,31,23,41,53,59,69,79,99],\"type\":\"scatter\",\"xaxis\":\"x5\",\"yaxis\":\"y5\"},{\"hole\":0.3,\"labels\":[\"AI Agents in SCM\",\"Traditional Agent-SCM\",\"Pure AI-SCM\",\"Other Research Areas\"],\"name\":\"Research Distribution\",\"values\":[1082,5722,437,30988],\"type\":\"pie\",\"domain\":{\"x\":[0.55,1.0],\"y\":[0.0,0.22222222222222224]}}],                        {\"template\":{\"data\":{\"histogram2dcontour\":[{\"type\":\"histogram2dcontour\",\"colorbar\":{\"outlinewidth\":0,\"ticks\":\"\"},\"colorscale\":[[0.0,\"#0d0887\"],[0.1111111111111111,\"#46039f\"],[0.2222222222222222,\"#7201a8\"],[0.3333333333333333,\"#9c179e\"],[0.4444444444444444,\"#bd3786\"],[0.5555555555555556,\"#d8576b\"],[0.6666666666666666,\"#ed7953\"],[0.7777777777777778,\"#fb9f3a\"],[0.8888888888888888,\"#fdca26\"],[1.0,\"#f0f921\"]]}],\"choropleth\":[{\"type\":\"choropleth\",\"colorbar\":{\"outlinewidth\":0,\"ticks\":\"\"}}],\"histogram2d\":[{\"type\":\"histogram2d\",\"colorbar\":{\"outlinewidth\":0,\"ticks\":\"\"},\"colorscale\":[[0.0,\"#0d0887\"],[0.1111111111111111,\"#46039f\"],[0.2222222222222222,\"#7201a8\"],[0.3333333333333333,\"#9c179e\"],[0.4444444444444444,\"#bd3786\"],[0.5555555555555556,\"#d8576b\"],[0.6666666666666666,\"#ed7953\"],[0.7777777777777778,\"#fb9f3a\"],[0.8888888888888888,\"#fdca26\"],[1.0,\"#f0f921\"]]}],\"heatmap\":[{\"type\":\"heatmap\",\"colorbar\":{\"outlinewidth\":0,\"ticks\":\"\"},\"colorscale\":[[0.0,\"#0d0887\"],[0.1111111111111111,\"#46039f\"],[0.2222222222222222,\"#7201a8\"],[0.3333333333333333,\"#9c179e\"],[0.4444444444444444,\"#bd3786\"],[0.5555555555555556,\"#d8576b\"],[0.6666666666666666,\"#ed7953\"],[0.7777777777777778,\"#fb9f3a\"],[0.8888888888888888,\"#fdca26\"],[1.0,\"#f0f921\"]]}],\"heatmapgl\":[{\"type\":\"heatmapgl\",\"colorbar\":{\"outlinewidth\":0,\"ticks\":\"\"},\"colorscale\":[[0.0,\"#0d0887\"],[0.1111111111111111,\"#46039f\"],[0.2222222222222222,\"#7201a8\"],[0.3333333333333333,\"#9c179e\"],[0.4444444444444444,\"#bd3786\"],[0.5555555555555556,\"#d8576b\"],[0.6666666666666666,\"#ed7953\"],[0.7777777777777778,\"#fb9f3a\"],[0.8888888888888888,\"#fdca26\"],[1.0,\"#f0f921\"]]}],\"contourcarpet\":[{\"type\":\"contourcarpet\",\"colorbar\":{\"outlinewidth\":0,\"ticks\":\"\"}}],\"contour\":[{\"type\":\"contour\",\"colorbar\":{\"outlinewidth\":0,\"ticks\":\"\"},\"colorscale\":[[0.0,\"#0d0887\"],[0.1111111111111111,\"#46039f\"],[0.2222222222222222,\"#7201a8\"],[0.3333333333333333,\"#9c179e\"],[0.4444444444444444,\"#bd3786\"],[0.5555555555555556,\"#d8576b\"],[0.6666666666666666,\"#ed7953\"],[0.7777777777777778,\"#fb9f3a\"],[0.8888888888888888,\"#fdca26\"],[1.0,\"#f0f921\"]]}],\"surface\":[{\"type\":\"surface\",\"colorbar\":{\"outlinewidth\":0,\"ticks\":\"\"},\"colorscale\":[[0.0,\"#0d0887\"],[0.1111111111111111,\"#46039f\"],[0.2222222222222222,\"#7201a8\"],[0.3333333333333333,\"#9c179e\"],[0.4444444444444444,\"#bd3786\"],[0.5555555555555556,\"#d8576b\"],[0.6666666666666666,\"#ed7953\"],[0.7777777777777778,\"#fb9f3a\"],[0.8888888888888888,\"#fdca26\"],[1.0,\"#f0f921\"]]}],\"mesh3d\":[{\"type\":\"mesh3d\",\"colorbar\":{\"outlinewidth\":0,\"ticks\":\"\"}}],\"scatter\":[{\"fillpattern\":{\"fillmode\":\"overlay\",\"size\":10,\"solidity\":0.2},\"type\":\"scatter\"}],\"parcoords\":[{\"type\":\"parcoords\",\"line\":{\"colorbar\":{\"outlinewidth\":0,\"ticks\":\"\"}}}],\"scatterpolargl\":[{\"type\":\"scatterpolargl\",\"marker\":{\"colorbar\":{\"outlinewidth\":0,\"ticks\":\"\"}}}],\"bar\":[{\"error_x\":{\"color\":\"#2a3f5f\"},\"error_y\":{\"color\":\"#2a3f5f\"},\"marker\":{\"line\":{\"color\":\"#E5ECF6\",\"width\":0.5},\"pattern\":{\"fillmode\":\"overlay\",\"size\":10,\"solidity\":0.2}},\"type\":\"bar\"}],\"scattergeo\":[{\"type\":\"scattergeo\",\"marker\":{\"colorbar\":{\"outlinewidth\":0,\"ticks\":\"\"}}}],\"scatterpolar\":[{\"type\":\"scatterpolar\",\"marker\":{\"colorbar\":{\"outlinewidth\":0,\"ticks\":\"\"}}}],\"histogram\":[{\"marker\":{\"pattern\":{\"fillmode\":\"overlay\",\"size\":10,\"solidity\":0.2}},\"type\":\"histogram\"}],\"scattergl\":[{\"type\":\"scattergl\",\"marker\":{\"colorbar\":{\"outlinewidth\":0,\"ticks\":\"\"}}}],\"scatter3d\":[{\"type\":\"scatter3d\",\"line\":{\"colorbar\":{\"outlinewidth\":0,\"ticks\":\"\"}},\"marker\":{\"colorbar\":{\"outlinewidth\":0,\"ticks\":\"\"}}}],\"scattermapbox\":[{\"type\":\"scattermapbox\",\"marker\":{\"colorbar\":{\"outlinewidth\":0,\"ticks\":\"\"}}}],\"scatterternary\":[{\"type\":\"scatterternary\",\"marker\":{\"colorbar\":{\"outlinewidth\":0,\"ticks\":\"\"}}}],\"scattercarpet\":[{\"type\":\"scattercarpet\",\"marker\":{\"colorbar\":{\"outlinewidth\":0,\"ticks\":\"\"}}}],\"carpet\":[{\"aaxis\":{\"endlinecolor\":\"#2a3f5f\",\"gridcolor\":\"white\",\"linecolor\":\"white\",\"minorgridcolor\":\"white\",\"startlinecolor\":\"#2a3f5f\"},\"baxis\":{\"endlinecolor\":\"#2a3f5f\",\"gridcolor\":\"white\",\"linecolor\":\"white\",\"minorgridcolor\":\"white\",\"startlinecolor\":\"#2a3f5f\"},\"type\":\"carpet\"}],\"table\":[{\"cells\":{\"fill\":{\"color\":\"#EBF0F8\"},\"line\":{\"color\":\"white\"}},\"header\":{\"fill\":{\"color\":\"#C8D4E3\"},\"line\":{\"color\":\"white\"}},\"type\":\"table\"}],\"barpolar\":[{\"marker\":{\"line\":{\"color\":\"#E5ECF6\",\"width\":0.5},\"pattern\":{\"fillmode\":\"overlay\",\"size\":10,\"solidity\":0.2}},\"type\":\"barpolar\"}],\"pie\":[{\"automargin\":true,\"type\":\"pie\"}]},\"layout\":{\"autotypenumbers\":\"strict\",\"colorway\":[\"#636efa\",\"#EF553B\",\"#00cc96\",\"#ab63fa\",\"#FFA15A\",\"#19d3f3\",\"#FF6692\",\"#B6E880\",\"#FF97FF\",\"#FECB52\"],\"font\":{\"color\":\"#2a3f5f\"},\"hovermode\":\"closest\",\"hoverlabel\":{\"align\":\"left\"},\"paper_bgcolor\":\"white\",\"plot_bgcolor\":\"#E5ECF6\",\"polar\":{\"bgcolor\":\"#E5ECF6\",\"angularaxis\":{\"gridcolor\":\"white\",\"linecolor\":\"white\",\"ticks\":\"\"},\"radialaxis\":{\"gridcolor\":\"white\",\"linecolor\":\"white\",\"ticks\":\"\"}},\"ternary\":{\"bgcolor\":\"#E5ECF6\",\"aaxis\":{\"gridcolor\":\"white\",\"linecolor\":\"white\",\"ticks\":\"\"},\"baxis\":{\"gridcolor\":\"white\",\"linecolor\":\"white\",\"ticks\":\"\"},\"caxis\":{\"gridcolor\":\"white\",\"linecolor\":\"white\",\"ticks\":\"\"}},\"coloraxis\":{\"colorbar\":{\"outlinewidth\":0,\"ticks\":\"\"}},\"colorscale\":{\"sequential\":[[0.0,\"#0d0887\"],[0.1111111111111111,\"#46039f\"],[0.2222222222222222,\"#7201a8\"],[0.3333333333333333,\"#9c179e\"],[0.4444444444444444,\"#bd3786\"],[0.5555555555555556,\"#d8576b\"],[0.6666666666666666,\"#ed7953\"],[0.7777777777777778,\"#fb9f3a\"],[0.8888888888888888,\"#fdca26\"],[1.0,\"#f0f921\"]],\"sequentialminus\":[[0.0,\"#0d0887\"],[0.1111111111111111,\"#46039f\"],[0.2222222222222222,\"#7201a8\"],[0.3333333333333333,\"#9c179e\"],[0.4444444444444444,\"#bd3786\"],[0.5555555555555556,\"#d8576b\"],[0.6666666666666666,\"#ed7953\"],[0.7777777777777778,\"#fb9f3a\"],[0.8888888888888888,\"#fdca26\"],[1.0,\"#f0f921\"]],\"diverging\":[[0,\"#8e0152\"],[0.1,\"#c51b7d\"],[0.2,\"#de77ae\"],[0.3,\"#f1b6da\"],[0.4,\"#fde0ef\"],[0.5,\"#f7f7f7\"],[0.6,\"#e6f5d0\"],[0.7,\"#b8e186\"],[0.8,\"#7fbc41\"],[0.9,\"#4d9221\"],[1,\"#276419\"]]},\"xaxis\":{\"gridcolor\":\"white\",\"linecolor\":\"white\",\"ticks\":\"\",\"title\":{\"standoff\":15},\"zerolinecolor\":\"white\",\"automargin\":true,\"zerolinewidth\":2},\"yaxis\":{\"gridcolor\":\"white\",\"linecolor\":\"white\",\"ticks\":\"\",\"title\":{\"standoff\":15},\"zerolinecolor\":\"white\",\"automargin\":true,\"zerolinewidth\":2},\"scene\":{\"xaxis\":{\"backgroundcolor\":\"#E5ECF6\",\"gridcolor\":\"white\",\"linecolor\":\"white\",\"showbackground\":true,\"ticks\":\"\",\"zerolinecolor\":\"white\",\"gridwidth\":2},\"yaxis\":{\"backgroundcolor\":\"#E5ECF6\",\"gridcolor\":\"white\",\"linecolor\":\"white\",\"showbackground\":true,\"ticks\":\"\",\"zerolinecolor\":\"white\",\"gridwidth\":2},\"zaxis\":{\"backgroundcolor\":\"#E5ECF6\",\"gridcolor\":\"white\",\"linecolor\":\"white\",\"showbackground\":true,\"ticks\":\"\",\"zerolinecolor\":\"white\",\"gridwidth\":2}},\"shapedefaults\":{\"line\":{\"color\":\"#2a3f5f\"}},\"annotationdefaults\":{\"arrowcolor\":\"#2a3f5f\",\"arrowhead\":0,\"arrowwidth\":1},\"geo\":{\"bgcolor\":\"white\",\"landcolor\":\"#E5ECF6\",\"subunitcolor\":\"white\",\"showland\":true,\"showlakes\":true,\"lakecolor\":\"white\"},\"title\":{\"x\":0.05},\"mapbox\":{\"style\":\"light\"}}},\"xaxis\":{\"anchor\":\"y\",\"domain\":[0.0,0.45]},\"yaxis\":{\"anchor\":\"x\",\"domain\":[0.7777777777777778,1.0]},\"xaxis2\":{\"anchor\":\"y2\",\"domain\":[0.55,1.0]},\"yaxis2\":{\"anchor\":\"x2\",\"domain\":[0.7777777777777778,1.0]},\"xaxis3\":{\"anchor\":\"y3\",\"domain\":[0.0,0.45],\"tickvals\":[0,1,2,3,4,5],\"ticktext\":[\"Agent+\\nSupply Chain\",\"AI+\\nSupply Chain\",\"Agent+\\nAI\",\"Agent+\\nAI+\\nSupply Chain\",\"Agent+\\nSCM (Non-AI)\",\"AI+\\nSCM (Non-Agent)\"]},\"yaxis3\":{\"anchor\":\"x3\",\"domain\":[0.3888888888888889,0.6111111111111112],\"title\":{\"text\":\"Growth Rate (%)\"}},\"xaxis4\":{\"anchor\":\"y4\",\"domain\":[0.55,1.0]},\"yaxis4\":{\"anchor\":\"x4\",\"domain\":[0.3888888888888889,0.6111111111111112],\"title\":{\"text\":\"Integration Percentage (%)\"}},\"xaxis5\":{\"anchor\":\"y5\",\"domain\":[0.0,0.45]},\"yaxis5\":{\"anchor\":\"x5\",\"domain\":[0.0,0.22222222222222224],\"title\":{\"text\":\"Number of Publications\"}},\"annotations\":[{\"font\":{\"size\":16},\"showarrow\":false,\"text\":\"Strategic Intersections Overview\",\"x\":0.225,\"xanchor\":\"center\",\"xref\":\"paper\",\"y\":1.0,\"yanchor\":\"bottom\",\"yref\":\"paper\"},{\"font\":{\"size\":16},\"showarrow\":false,\"text\":\"AI Agents in SCM: Period Evolution\",\"x\":0.775,\"xanchor\":\"center\",\"xref\":\"paper\",\"y\":1.0,\"yanchor\":\"bottom\",\"yref\":\"paper\"},{\"font\":{\"size\":16},\"showarrow\":false,\"text\":\"Growth Rates by Intersection (2020-24 vs 2015-19)\",\"x\":0.225,\"xanchor\":\"center\",\"xref\":\"paper\",\"y\":0.6111111111111112,\"yanchor\":\"bottom\",\"yref\":\"paper\"},{\"font\":{\"size\":16},\"showarrow\":false,\"text\":\"AI vs Agent Integration in SCM Over Time\",\"x\":0.775,\"xanchor\":\"center\",\"xref\":\"paper\",\"y\":0.6111111111111112,\"yanchor\":\"bottom\",\"yref\":\"paper\"},{\"font\":{\"size\":16},\"showarrow\":false,\"text\":\"Research Domain Convergence Timeline\",\"x\":0.225,\"xanchor\":\"center\",\"xref\":\"paper\",\"y\":0.22222222222222224,\"yanchor\":\"bottom\",\"yref\":\"paper\"},{\"font\":{\"size\":16},\"showarrow\":false,\"text\":\"Research Domain Distribution\",\"x\":0.775,\"xanchor\":\"center\",\"xref\":\"paper\",\"y\":0.22222222222222224,\"yanchor\":\"bottom\",\"yref\":\"paper\"}],\"title\":{\"text\":\"AI Agents in Logistics: Strategic Research Analysis Dashboard\"},\"font\":{\"size\":12},\"height\":1400,\"showlegend\":true},                        {\"responsive\": true}                    ).then(function(){\n",
                            "                            \n",
                            "var gd = document.getElementById('20523c9a-7d13-4b5b-8af7-2894a827fcda');\n",
                            "var x = new MutationObserver(function (mutations, observer) {{\n",
                            "        var display = window.getComputedStyle(gd).display;\n",
                            "        if (!display || display === 'none') {{\n",
                            "            console.log([gd, 'removed!']);\n",
                            "            Plotly.purge(gd);\n",
                            "            observer.disconnect();\n",
                            "        }}\n",
                            "}});\n",
                            "\n",
                            "// Listen for the removal of the full notebook cells\n",
                            "var notebookContainer = gd.closest('#notebook-container');\n",
                            "if (notebookContainer) {{\n",
                            "    x.observe(notebookContainer, {childList: true});\n",
                            "}}\n",
                            "\n",
                            "// Listen for the clearing of the current output cell\n",
                            "var outputEl = gd.closest('.output');\n",
                            "if (outputEl) {{\n",
                            "    x.observe(outputEl, {childList: true});\n",
                            "}}\n",
                            "\n",
                            "                        })                };                });            </script>        </div>"
                        ]
                    },
                    "metadata": {},
                    "output_type": "display_data"
                },
                {
                    "name": "stdout",
                    "output_type": "stream",
                    "text": [
                        "✅ Strategic dashboard saved: ../reports/strategic_intersection_dashboard.html\n",
                        "📈 Creating matplotlib summary plots...\n",
                        "✅ Summary plots saved: ../reports/comprehensive_analysis_summary.png\n"
                    ]
                },
                {
                    "data": {
                        "image/png": "[encoded data removed]",
                        "text/plain": [
                            "<Figure size 1800x1200 with 6 Axes>"
                        ]
                    },
                    "metadata": {},
                    "output_type": "display_data"
                },
                {
                    "name": "stdout",
                    "output_type": "stream",
                    "text": [
                        "📝 Generating strategic insights report...\n",
                        "✅ Strategic report saved: ../reports/strategic_insights_report.md\n",
                        "\n",
                        "================================================================================\n",
                        "📊 RESEARCH ANALYSIS SUMMARY\n",
                        "================================================================================\n",
                        "📊 **Publication Volume by Domain:**\n",
                        "   Agent + Supply Chain     : 6,804 publications (17.8%)\n",
                        "   AI + Supply Chain        : 1,519 publications ( 4.0%)\n",
                        "   Agent + AI               : 2,268 publications ( 5.9%)\n",
                        "   Agent + AI + Supply Chain: 1,082 publications ( 2.8%)\n",
                        "   Agent + SCM (Non-AI)     : 5,722 publications (15.0%)\n",
                        "   AI + SCM (Non-Agent)     :   437 publications ( 1.1%)\n",
                        "\n",
                        "📈 **Research Growth Analysis (2020-24 vs 2015-19):**\n",
                        "   AI + SCM (Non-Agent)     : 🚀 +327.8%\n",
                        "   AI + Supply Chain        : 🚀 +198.0%\n",
                        "   Agent + AI + Supply Chain: 🚀 +149.3%\n",
                        "   Agent + AI               : 🚀 +132.7%\n",
                        "   Agent + Supply Chain     : 📊  +28.9%\n",
                        "   Agent + SCM (Non-AI)     : 📊  +13.6%\n",
                        "\n",
                        "🎯 **Core Research Domain:**\n",
                        "   AI Agents in SCM (2020-2024): 359 publications\n",
                        "   Annual publication rate: 71.8 publications/year\n",
                        "   Peak publication year: 2024\n",
                        "\n",
                        "📁 **Output Files Generated:**\n",
                        "   • Baseline Dashboard: baseline_analysis_dashboard.html\n",
                        "   • Strategic Dashboard: strategic_intersection_dashboard.html\n",
                        "   • Summary Plots: comprehensive_analysis_summary.png\n",
                        "   • Strategic Report: strategic_insights_report.md\n",
                        "================================================================================\n"
                    ]
                }
            ],
            "source": [
                "# Updated terminology for academic context\n",
                "def create_intersection_temporal_visualization(intersection_results, ai_agent_scm_evolution):\n",
                "    \"\"\"Create comprehensive temporal visualizations for intersection analysis\"\"\"\n",
                "    \n",
                "    # Create a comprehensive dashboard with multiple subplots\n",
                "    fig = make_subplots(\n",
                "        rows=3, cols=2,\n",
                "        subplot_titles=[\n",
                "            'Strategic Intersections Overview',\n",
                "            'AI Agents in SCM: Period Evolution',\n",
                "            'Growth Rates by Intersection (2020-24 vs 2015-19)',\n",
                "            'AI vs Agent Integration in SCM Over Time',\n",
                "            'Research Domain Convergence Timeline',\n",
                "            'Research Domain Distribution'\n",
                "        ],\n",
                "        specs=[\n",
                "            [{'type': 'bar'}, {'type': 'bar'}],\n",
                "            [{'type': 'bar'}, {'type': 'scatter'}],\n",
                "            [{'type': 'scatter'}, {'type': 'pie'}]\n",
                "        ]\n",
                "    )\n",
                "    \n",
                "    # 1. Strategic Intersections Overview\n",
                "    if intersection_results:\n",
                "        intersection_names = [data['name'] for data in intersection_results.values()]\n",
                "        intersection_counts = [data['count'] for data in intersection_results.values()]\n",
                "        \n",
                "        fig.add_trace(\n",
                "            go.Bar(\n",
                "                x=intersection_names,\n",
                "                y=intersection_counts,\n",
                "                name='Publications',\n",
                "                marker_color=['#1f77b4', '#ff7f0e', '#2ca02c', '#d62728', '#9467bd', '#8c564b']\n",
                "            ),\n",
                "            row=1, col=1\n",
                "        )\n",
                "    \n",
                "    # 2. AI Agents in SCM: Period Evolution\n",
                "    if ai_agent_scm_evolution and 'period_analysis' in ai_agent_scm_evolution:\n",
                "        periods = list(ai_agent_scm_evolution['period_analysis'].keys())\n",
                "        period_totals = [ai_agent_scm_evolution['period_analysis'][p]['total_articles'] for p in periods]\n",
                "        \n",
                "        fig.add_trace(\n",
                "            go.Bar(\n",
                "                x=periods,\n",
                "                y=period_totals,\n",
                "                name='AI Agents in SCM',\n",
                "                marker_color='lightcoral'\n",
                "            ),\n",
                "            row=1, col=2\n",
                "        )\n",
                "    \n",
                "    # 3. Growth Rates by Intersection\n",
                "    if intersection_results:\n",
                "        growth_data = [(data['name'], data['temporal']['recent_growth']) \n",
                "                      for data in intersection_results.values() \n",
                "                      if data['temporal'] and 'recent_growth' in data['temporal'] and data['temporal']['recent_growth'] is not None]\n",
                "        \n",
                "        if growth_data:\n",
                "            names, growth_rates = zip(*growth_data)\n",
                "            colors = ['green' if x > 0 else 'red' for x in growth_rates]\n",
                "            \n",
                "            fig.add_trace(\n",
                "                go.Bar(\n",
                "                    x=list(range(len(names))),\n",
                "                    y=growth_rates,\n",
                "                    name='Growth Rate %',\n",
                "                    marker_color=colors,\n",
                "                    text=[f\"{rate:+.1f}%\" for rate in growth_rates],\n",
                "                    textposition='auto'\n",
                "                ),\n",
                "                row=2, col=1\n",
                "            )\n",
                "            \n",
                "            # Update x-axis labels for growth rates\n",
                "            fig.update_xaxes(\n",
                "                tickvals=list(range(len(names))),\n",
                "                ticktext=[name.replace(' + ', '+\\n') for name in names],\n",
                "                row=2, col=1\n",
                "            )\n",
                "    \n",
                "    # 4. AI vs Agent Integration in SCM Over Time\n",
                "    if ai_agent_scm_evolution and 'evolution_data' in ai_agent_scm_evolution:\n",
                "        years = sorted(ai_agent_scm_evolution['evolution_data'].keys())\n",
                "        ai_penetration = [ai_agent_scm_evolution['evolution_data'][y]['ai_penetration'] for y in years]\n",
                "        agent_penetration = [ai_agent_scm_evolution['evolution_data'][y]['agent_penetration'] for y in years]\n",
                "        \n",
                "        fig.add_trace(\n",
                "            go.Scatter(\n",
                "                x=years,\n",
                "                y=ai_penetration,\n",
                "                mode='lines+markers',\n",
                "                name='AI Integration in Agent-SCM',\n",
                "                line=dict(color='blue', width=2)\n",
                "            ),\n",
                "            row=2, col=2\n",
                "        )\n",
                "        \n",
                "        fig.add_trace(\n",
                "            go.Scatter(\n",
                "                x=years,\n",
                "                y=agent_penetration,\n",
                "                mode='lines+markers',\n",
                "                name='Agent Integration in AI-SCM',\n",
                "                line=dict(color='red', width=2)\n",
                "            ),\n",
                "            row=2, col=2\n",
                "        )\n",
                "    \n",
                "    # 5. Research Domain Convergence Timeline\n",
                "    if ai_agent_scm_evolution and 'evolution_data' in ai_agent_scm_evolution:\n",
                "        years = sorted(ai_agent_scm_evolution['evolution_data'].keys())\n",
                "        core_articles = [ai_agent_scm_evolution['evolution_data'][y]['ai_agent_scm'] for y in years]\n",
                "        \n",
                "        fig.add_trace(\n",
                "            go.Scatter(\n",
                "                x=years,\n",
                "                y=core_articles,\n",
                "                mode='lines+markers',\n",
                "                name='AI Agents in SCM Publications',\n",
                "                line=dict(color='purple', width=3),\n",
                "                fill='tonexty'\n",
                "            ),\n",
                "            row=3, col=1\n",
                "        )\n",
                "    \n",
                "    # 6. Research Domain Distribution\n",
                "    if intersection_results and 'agent_ai_scm' in intersection_results:\n",
                "        domain_segments = [\n",
                "            'AI Agents in SCM',\n",
                "            'Traditional Agent-SCM', \n",
                "            'Pure AI-SCM',\n",
                "            'Other Research Areas'\n",
                "        ]\n",
                "        \n",
                "        total_publications = 38229  # This should be passed as parameter in real implementation\n",
                "        domain_values = [\n",
                "            intersection_results['agent_ai_scm']['count'],\n",
                "            intersection_results['pure_agent_scm']['count'],\n",
                "            intersection_results['pure_ai_scm']['count'],\n",
                "            total_publications - (\n",
                "                intersection_results['agent_ai_scm']['count'] + \n",
                "                intersection_results['pure_agent_scm']['count'] + \n",
                "                intersection_results['pure_ai_scm']['count']\n",
                "            )\n",
                "        ]\n",
                "        \n",
                "        fig.add_trace(\n",
                "            go.Pie(\n",
                "                labels=domain_segments,\n",
                "                values=domain_values,\n",
                "                name=\"Research Distribution\",\n",
                "                hole=0.3\n",
                "            ),\n",
                "            row=3, col=2\n",
                "        )\n",
                "    \n",
                "    # Update layout\n",
                "    fig.update_layout(\n",
                "        height=1400,\n",
                "        title_text=\"AI Agents in Logistics: Strategic Research Analysis Dashboard\",\n",
                "        showlegend=True,\n",
                "        font=dict(size=12)\n",
                "    )\n",
                "    \n",
                "    # Update y-axis labels for growth rates\n",
                "    fig.update_yaxes(title_text=\"Growth Rate (%)\", row=2, col=1)\n",
                "    fig.update_yaxes(title_text=\"Integration Percentage (%)\", row=2, col=2)\n",
                "    fig.update_yaxes(title_text=\"Number of Publications\", row=3, col=1)\n",
                "    \n",
                "    return fig\n",
                "\n",
                "def create_comprehensive_visualization_suite(analysis_results, evolution_results=None, intersection_results=None, ai_agent_scm_evolution=None):\n",
                "    \"\"\"Create both baseline and strategic visualization dashboards\"\"\"\n",
                "    \n",
                "    dashboards = {}\n",
                "    \n",
                "    # 1. BASELINE DASHBOARD\n",
                "    if analysis_results:\n",
                "        baseline_fig = make_subplots(\n",
                "            rows=3, cols=2,\n",
                "            subplot_titles=[\n",
                "                'Publications by Category (Baseline)',\n",
                "                'Agent-AI Evolution Over Time',\n",
                "                'Category Distribution',\n",
                "                'Agent-AI Connection Rate',\n",
                "                'Recent Trends Comparison',\n",
                "                'Data Quality Overview'\n",
                "            ],\n",
                "            specs=[\n",
                "                [{'type': 'bar'}, {'type': 'scatter'}],\n",
                "                [{'type': 'pie'}, {'type': 'scatter'}],\n",
                "                [{'type': 'scatter'}, {'type': 'bar'}]\n",
                "            ]\n",
                "        )\n",
                "        \n",
                "        # Baseline analysis\n",
                "        categories = list(analysis_results['by_category'].keys())\n",
                "        counts = [analysis_results['by_category'][cat]['total'] for cat in categories]\n",
                "        \n",
                "        # Category overview\n",
                "        baseline_fig.add_trace(\n",
                "            go.Bar(name='Publications', x=categories, y=counts, marker_color='lightblue'),\n",
                "            row=1, col=1\n",
                "        )\n",
                "        \n",
                "        # Distribution pie chart\n",
                "        baseline_fig.add_trace(\n",
                "            go.Pie(labels=categories, values=counts, name=\"Category Distribution\"),\n",
                "            row=2, col=1\n",
                "        )\n",
                "        \n",
                "        # Data coverage analysis\n",
                "        if 'field_coverage' in analysis_results:\n",
                "            fields = list(analysis_results['field_coverage'].keys())\n",
                "            coverage_pcts = [analysis_results['field_coverage'][f]['coverage_pct'] for f in fields]\n",
                "            \n",
                "            baseline_fig.add_trace(\n",
                "                go.Bar(x=fields, y=coverage_pcts, name='Field Coverage %', marker_color='orange'),\n",
                "                row=3, col=2\n",
                "            )\n",
                "        \n",
                "        # Temporal evolution\n",
                "        if evolution_results and 'year_analysis' in evolution_results:\n",
                "            years = sorted(evolution_results['year_analysis'].keys())\n",
                "            agent_counts = [evolution_results['year_analysis'][y]['agent_articles'] for y in years]\n",
                "            ai_counts = [evolution_results['year_analysis'][y]['ai_articles'] for y in years]\n",
                "            ratios = [evolution_results['year_analysis'][y]['agent_ai_ratio'] * 100 for y in years]\n",
                "            \n",
                "            # Agent vs AI over time\n",
                "            baseline_fig.add_trace(\n",
                "                go.Scatter(x=years, y=agent_counts, mode='lines+markers', name='Agent Articles', line=dict(color='red')),\n",
                "                row=1, col=2\n",
                "            )\n",
                "            baseline_fig.add_trace(\n",
                "                go.Scatter(x=years, y=ai_counts, mode='lines+markers', name='AI Articles', line=dict(color='blue')),\n",
                "                row=1, col=2\n",
                "            )\n",
                "            \n",
                "            # Connection rate over time\n",
                "            baseline_fig.add_trace(\n",
                "                go.Scatter(x=years, y=ratios, mode='lines+markers', name='Agent-AI Connection %', \n",
                "                          line=dict(color='green', width=3)),\n",
                "                row=2, col=2\n",
                "            )\n",
                "            \n",
                "            # Recent trends (2015+)\n",
                "            recent_years = [y for y in years if y >= 2015]\n",
                "            recent_agent = [evolution_results['year_analysis'][y]['agent_articles'] for y in recent_years]\n",
                "            recent_ai = [evolution_results['year_analysis'][y]['ai_articles'] for y in recent_years]\n",
                "            \n",
                "            baseline_fig.add_trace(\n",
                "                go.Scatter(x=recent_years, y=recent_agent, mode='lines+markers', name='Recent Agent Trend', \n",
                "                          line=dict(color='darkred', dash='dash')),\n",
                "                row=3, col=1\n",
                "            )\n",
                "            baseline_fig.add_trace(\n",
                "                go.Scatter(x=recent_years, y=recent_ai, mode='lines+markers', name='Recent AI Trend', \n",
                "                          line=dict(color='darkblue', dash='dash')),\n",
                "                row=3, col=1\n",
                "            )\n",
                "        \n",
                "        baseline_fig.update_layout(\n",
                "            height=1200,\n",
                "            title_text=\"Baseline Research Analysis Dashboard\",\n",
                "            showlegend=True\n",
                "        )\n",
                "        \n",
                "        dashboards['baseline'] = baseline_fig\n",
                "    \n",
                "    # 2. STRATEGIC DASHBOARD\n",
                "    if intersection_results and ai_agent_scm_evolution:\n",
                "        strategic_fig = create_intersection_temporal_visualization(intersection_results, ai_agent_scm_evolution)\n",
                "        dashboards['strategic'] = strategic_fig\n",
                "    \n",
                "    return dashboards\n",
                "\n",
                "def create_matplotlib_summary(analysis_results, evolution_results=None, intersection_results=None, ai_agent_scm_evolution=None):\n",
                "    \"\"\"Create comprehensive matplotlib summary with academic terminology\"\"\"\n",
                "    \n",
                "    fig, axes = plt.subplots(2, 3, figsize=(18, 12))\n",
                "    fig.suptitle('AI Agents in Logistics: Research Domain Analysis', fontsize=16, fontweight='bold')\n",
                "    \n",
                "    # Plot 1: Category Overview\n",
                "    if analysis_results:\n",
                "        categories = list(analysis_results['by_category'].keys())\n",
                "        counts = [analysis_results['by_category'][cat]['total'] for cat in categories]\n",
                "        \n",
                "        axes[0, 0].bar(categories, counts, color='skyblue', alpha=0.8)\n",
                "        axes[0, 0].set_title('Publications by Category\\n(Baseline Analysis)')\n",
                "        axes[0, 0].tick_params(axis='x', rotation=45)\n",
                "        axes[0, 0].grid(True, alpha=0.3)\n",
                "    \n",
                "    # Plot 2: Agent-AI Evolution\n",
                "    if evolution_results and 'year_analysis' in evolution_results:\n",
                "        years = sorted(evolution_results['year_analysis'].keys())\n",
                "        agent_counts = [evolution_results['year_analysis'][y]['agent_articles'] for y in years]\n",
                "        ai_counts = [evolution_results['year_analysis'][y]['ai_articles'] for y in years]\n",
                "        \n",
                "        axes[0, 1].plot(years, agent_counts, 'r-o', label='Agent Articles', markersize=4)\n",
                "        axes[0, 1].plot(years, ai_counts, 'b-s', label='AI Articles', markersize=4)\n",
                "        axes[0, 1].set_title('Agent vs AI Evolution\\n(30-Year View)')\n",
                "        axes[0, 1].set_xlabel('Year')\n",
                "        axes[0, 1].set_ylabel('Articles')\n",
                "        axes[0, 1].legend()\n",
                "        axes[0, 1].grid(True, alpha=0.3)\n",
                "    \n",
                "    # Plot 3: Strategic Intersections\n",
                "    if intersection_results:\n",
                "        intersection_names = [data['name'] for data in intersection_results.values()]\n",
                "        intersection_counts = [data['count'] for data in intersection_results.values()]\n",
                "        \n",
                "        axes[0, 2].barh(intersection_names, intersection_counts, \n",
                "                       color=['#1f77b4', '#ff7f0e', '#2ca02c', '#d62728', '#9467bd', '#8c564b'])\n",
                "        axes[0, 2].set_title('Strategic Intersections\\n(Research Domain Positioning)')\n",
                "        axes[0, 2].grid(True, alpha=0.3)\n",
                "    \n",
                "    # Plot 4: Growth Rates\n",
                "    if intersection_results:\n",
                "        growth_data = [(data['name'], data['temporal']['recent_growth']) \n",
                "                      for data in intersection_results.values() \n",
                "                      if data['temporal'] and 'recent_growth' in data['temporal'] and data['temporal']['recent_growth'] is not None]\n",
                "        \n",
                "        if growth_data:\n",
                "            names, growth_rates = zip(*growth_data)\n",
                "            colors = ['green' if x > 0 else 'red' for x in growth_rates]\n",
                "            \n",
                "            axes[1, 0].bar(range(len(names)), growth_rates, color=colors, alpha=0.7)\n",
                "            axes[1, 0].set_title('Growth Rates\\n(2020-24 vs 2015-19)')\n",
                "            axes[1, 0].set_ylabel('Growth %')\n",
                "            axes[1, 0].set_xticks(range(len(names)))\n",
                "            axes[1, 0].set_xticklabels([name.replace(' + ', '+\\n') for name in names], rotation=45, ha='right')\n",
                "            axes[1, 0].grid(True, alpha=0.3)\n",
                "            axes[1, 0].axhline(y=0, color='black', linestyle='-', alpha=0.5)\n",
                "    \n",
                "    # Plot 5: AI Agents in SCM Periods\n",
                "    if ai_agent_scm_evolution and 'period_analysis' in ai_agent_scm_evolution:\n",
                "        periods = list(ai_agent_scm_evolution['period_analysis'].keys())\n",
                "        period_totals = [ai_agent_scm_evolution['period_analysis'][p]['total_articles'] for p in periods]\n",
                "        \n",
                "        axes[1, 1].bar(periods, period_totals, color='lightcoral', alpha=0.8)\n",
                "        axes[1, 1].set_title('AI Agents in SCM\\nEvolution by Period')\n",
                "        axes[1, 1].set_ylabel('Total Articles')\n",
                "        axes[1, 1].grid(True, alpha=0.3)\n",
                "    \n",
                "    # Plot 6: Research Domain Distribution\n",
                "    if intersection_results and 'agent_ai_scm' in intersection_results:\n",
                "        domain_data = [\n",
                "            ('AI Agents in SCM', intersection_results['agent_ai_scm']['count']),\n",
                "            ('Traditional Agent-SCM', intersection_results['pure_agent_scm']['count']),\n",
                "            ('Pure AI-SCM', intersection_results['pure_ai_scm']['count'])\n",
                "        ]\n",
                "        \n",
                "        labels, values = zip(*domain_data)\n",
                "        colors = ['#ff9999', '#66b3ff', '#99ff99']\n",
                "        \n",
                "        axes[1, 2].pie(values, labels=labels, colors=colors, autopct='%1.1f%%', startangle=90)\n",
                "        axes[1, 2].set_title('Research Domain Distribution\\n(Publication Volume)')\n",
                "    \n",
                "    plt.tight_layout()\n",
                "    return fig\n",
                "\n",
                "def generate_strategic_insights_report(intersection_results, ai_agent_scm_evolution):\n",
                "    \"\"\"Generate detailed strategic insights report with academic terminology\"\"\"\n",
                "    \n",
                "    report = []\n",
                "    report.append(\"# Strategic Intersection Analysis: AI Agents in Logistics Research\")\n",
                "    report.append(f\"*Analysis Date: {datetime.now().strftime('%Y-%m-%d')}*\\n\")\n",
                "    \n",
                "    # Executive Summary\n",
                "    report.append(\"## Executive Summary\")\n",
                "    \n",
                "    if 'agent_ai_scm' in intersection_results:\n",
                "        core_count = intersection_results['agent_ai_scm']['count']\n",
                "        core_pct = intersection_results['agent_ai_scm']['percentage']\n",
                "        \n",
                "        report.append(f\"- **Core Research Domain**: AI Agents in Supply Chain Management represents {core_count:,} publications ({core_pct:.1f}% of total corpus)\")\n",
                "        \n",
                "        if intersection_results['agent_ai_scm']['temporal'] and 'recent_growth' in intersection_results['agent_ai_scm']['temporal']:\n",
                "            growth = intersection_results['agent_ai_scm']['temporal']['recent_growth']\n",
                "            report.append(f\"- **Research Growth**: {growth:+.1f}% increase in publication volume (2020-2024 vs 2015-2019)\")\n",
                "    \n",
                "    # Research Landscape Analysis\n",
                "    report.append(\"\\n## Research Landscape Analysis\")\n",
                "    \n",
                "    report.append(\"### Research Domain Distribution:\")\n",
                "    for key, data in intersection_results.items():\n",
                "        if key not in ['agent_ai_scm']:\n",
                "            report.append(f\"- **{data['name']}**: {data['count']:,} publications ({data['percentage']:.1f}%)\")\n",
                "            if data['temporal'] and 'recent_growth' in data['temporal'] and data['temporal']['recent_growth'] is not None:\n",
                "                growth = data['temporal']['recent_growth']\n",
                "                trend = \"📈\" if growth > 50 else \"📊\" if growth > 0 else \"📉\"\n",
                "                report.append(f\"  - Recent publication growth: {trend} {growth:+.1f}%\")\n",
                "    \n",
                "    # Technology Adoption Analysis\n",
                "    if 'agent_scm' in intersection_results and 'ai_scm' in intersection_results and 'agent_ai_scm' in intersection_results:\n",
                "        agent_scm_total = intersection_results['agent_scm']['count']\n",
                "        ai_scm_total = intersection_results['ai_scm']['count'] \n",
                "        ai_agent_scm = intersection_results['agent_ai_scm']['count']\n",
                "        \n",
                "        ai_adoption = (ai_agent_scm / agent_scm_total) * 100\n",
                "        agent_adoption = (ai_agent_scm / ai_scm_total) * 100\n",
                "        \n",
                "        report.append(f\"\\n### Cross-Domain Research Integration:\")\n",
                "        report.append(f\"- **AI Integration in Agent-based SCM Research**: {ai_adoption:.1f}%\")\n",
                "        report.append(f\"- **Agent Concepts in AI-driven SCM Research**: {agent_adoption:.1f}%\")\n",
                "    \n",
                "    # Period Analysis\n",
                "    if ai_agent_scm_evolution and 'period_analysis' in ai_agent_scm_evolution:\n",
                "        report.append(f\"\\n### Evolution by Research Period:\")\n",
                "        for period, data in ai_agent_scm_evolution['period_analysis'].items():\n",
                "            report.append(f\"- **{period.title()} Period**: {data['total_articles']:,} publications ({data['avg_per_year']:.1f} per year)\")\n",
                "    \n",
                "    # Key Findings\n",
                "    report.append(f\"\\n## Key Research Insights\")\n",
                "    report.append(f\"1. **Domain Convergence**: The intersection of AI, agent concepts, and supply chain research represents a rapidly growing field\")\n",
                "    report.append(f\"2. **Research Acceleration**: Recent years show significant acceleration in interdisciplinary research\")\n",
                "    report.append(f\"3. **Integration Patterns**: AI concepts are being increasingly adopted in agent-based SCM research\")\n",
                "    \n",
                "    return \"\\n\".join(report)\n",
                "\n",
                "# Execute comprehensive visualization suite\n",
                "if 'analysis_results' in globals() and 'intersection_results' in globals():\n",
                "    print(\"\\n🎯 Creating comprehensive visualization suite...\")\n",
                "    \n",
                "    # Create both baseline and strategic dashboards\n",
                "    dashboard_suite = create_comprehensive_visualization_suite(\n",
                "        analysis_results,\n",
                "        evolution_results if 'evolution_results' in globals() else None,\n",
                "        intersection_results if 'intersection_results' in globals() else None,\n",
                "        ai_agent_scm_evolution if 'ai_agent_scm_evolution' in globals() else None\n",
                "    )\n",
                "    \n",
                "    # Save and display dashboards\n",
                "    reports_dir = data_dir.parent / 'reports'\n",
                "    reports_dir.mkdir(exist_ok=True)\n",
                "    \n",
                "    if 'baseline' in dashboard_suite:\n",
                "        print(\"📊 Displaying baseline dashboard...\")\n",
                "        dashboard_suite['baseline'].show()\n",
                "        \n",
                "        baseline_path = reports_dir / 'baseline_analysis_dashboard.html'\n",
                "        dashboard_suite['baseline'].write_html(str(baseline_path))\n",
                "        print(f\"✅ Baseline dashboard saved: {baseline_path}\")\n",
                "    \n",
                "    if 'strategic' in dashboard_suite:\n",
                "        print(\"🎯 Displaying strategic dashboard...\")\n",
                "        dashboard_suite['strategic'].show()\n",
                "        \n",
                "        strategic_path = reports_dir / 'strategic_intersection_dashboard.html'\n",
                "        dashboard_suite['strategic'].write_html(str(strategic_path))\n",
                "        print(f\"✅ Strategic dashboard saved: {strategic_path}\")\n",
                "    \n",
                "    # Create comprehensive matplotlib summary\n",
                "    print(\"📈 Creating matplotlib summary plots...\")\n",
                "    summary_fig = create_matplotlib_summary(\n",
                "        analysis_results,\n",
                "        evolution_results if 'evolution_results' in globals() else None,\n",
                "        intersection_results if 'intersection_results' in globals() else None,\n",
                "        ai_agent_scm_evolution if 'ai_agent_scm_evolution' in globals() else None\n",
                "    )\n",
                "    \n",
                "    # Save matplotlib figure\n",
                "    summary_path = reports_dir / 'comprehensive_analysis_summary.png'\n",
                "    summary_fig.savefig(summary_path, dpi=300, bbox_inches='tight', facecolor='white')\n",
                "    print(f\"✅ Summary plots saved: {summary_path}\")\n",
                "    \n",
                "    # Display the figure\n",
                "    plt.show()\n",
                "    \n",
                "    # Generate strategic insights report\n",
                "    if 'ai_agent_scm_evolution' in globals():\n",
                "        print(\"📝 Generating strategic insights report...\")\n",
                "        strategic_report = generate_strategic_insights_report(intersection_results, ai_agent_scm_evolution)\n",
                "        \n",
                "        report_path = reports_dir / 'strategic_insights_report.md'\n",
                "        with open(report_path, 'w', encoding='utf-8') as f:\n",
                "            f.write(strategic_report)\n",
                "        print(f\"✅ Strategic report saved: {report_path}\")\n",
                "    \n",
                "    # Summary of all outputs\n",
                "    print(\"\\n\" + \"=\"*80)\n",
                "    print(\"📊 RESEARCH ANALYSIS SUMMARY\")\n",
                "    print(\"=\"*80)\n",
                "    \n",
                "    if 'intersection_results' in globals():\n",
                "        print(f\"📊 **Publication Volume by Domain:**\")\n",
                "        for key, data in intersection_results.items():\n",
                "            print(f\"   {data['name']:25}: {data['count']:5,} publications ({data['percentage']:4.1f}%)\")\n",
                "        \n",
                "        print(f\"\\n📈 **Research Growth Analysis (2020-24 vs 2015-19):**\")\n",
                "        growth_metrics = []\n",
                "        for key, data in intersection_results.items():\n",
                "            if data['temporal'] and 'recent_growth' in data['temporal'] and data['temporal']['recent_growth'] is not None:\n",
                "                growth_metrics.append((data['name'], data['temporal']['recent_growth']))\n",
                "        \n",
                "        growth_metrics.sort(key=lambda x: x[1], reverse=True)\n",
                "        for name, growth in growth_metrics:\n",
                "            trend_icon = \"🚀\" if growth > 100 else \"📈\" if growth > 50 else \"📊\" if growth > 0 else \"📉\"\n",
                "            print(f\"   {name:25}: {trend_icon} {growth:+6.1f}%\")\n",
                "        \n",
                "        print(f\"\\n🎯 **Core Research Domain:**\")\n",
                "        if 'ai_agent_scm_evolution' in globals():\n",
                "            recent_total = sum(ai_agent_scm_evolution['evolution_data'][year]['ai_agent_scm'] \n",
                "                             for year in range(2020, 2025) \n",
                "                             if year in ai_agent_scm_evolution['evolution_data'])\n",
                "            print(f\"   AI Agents in SCM (2020-2024): {recent_total:,} publications\")\n",
                "            print(f\"   Annual publication rate: {recent_total/5:.1f} publications/year\")\n",
                "            print(f\"   Peak publication year: {ai_agent_scm_evolution['peak_year']}\")\n",
                "    \n",
                "    print(f\"\\n📁 **Output Files Generated:**\")\n",
                "    print(f\"   • Baseline Dashboard: baseline_analysis_dashboard.html\")\n",
                "    print(f\"   • Strategic Dashboard: strategic_intersection_dashboard.html\") \n",
                "    print(f\"   • Summary Plots: comprehensive_analysis_summary.png\")\n",
                "    print(f\"   • Strategic Report: strategic_insights_report.md\")\n",
                "    print(\"=\"*80)\n",
                "\n",
                "else:\n",
                "    print(\"❌ Cannot create visualization suite - required analysis results not available\")\n",
                "    print(\"   Make sure 'analysis_results' and 'intersection_results' are defined\")"
            ]
        },
        {
            "cell_type": "markdown",
            "id": "72b788c4",
            "metadata": {},
            "source": [
                "## Key Strategic Insights from Our Analysis\n",
                "\n",
                "\n",
                "🎯 Research Domain Validation\n",
                "- Our core focus area (AI Agents in SCM) shows 149.3% growth, which strongly validates this as an emerging and rapidly expanding field. With 1,082 publications (2.8% of total), it's at the perfect intersection of established and emerging.\n",
                "\n",
                "\n",
                "📈 Technology Convergence Patterns\n",
                "- AI Integration: AI + SCM shows explosive 327.8% growth, indicating the field is ripe for agent-based approaches\n",
                "- Agent Foundation: Traditional Agent + SCM has a solid base (6,804 publications) but modest growth (28.9%)\n",
                "- Convergence Acceleration: The 71.8 publications/year rate in 2020-2024 vs historical averages shows clear momentum\n"
            ]
        },
        {
            "cell_type": "markdown",
            "metadata": {},
            "source": [
                "## 7. Generate Complimentary Analysis Report"
            ]
        },
        {
            "cell_type": "code",
            "execution_count": 15,
            "metadata": {},
            "outputs": [
                {
                    "name": "stdout",
                    "output_type": "stream",
                    "text": [
                        "🔄 Generating complementary baseline analysis report...\n",
                        "✅ Baseline analysis report saved: ../reports/baseline_analysis_report.md\n",
                        "\n",
                        "📖 Generated Report Files:\n",
                        "============================================================\n",
                        "🎯 Strategic Report:\n",
                        "   📁 ../reports/strategic_insights_report.md\n",
                        "   💡 Right-click in VS Code Explorer → 'Open Preview'\n",
                        "\n",
                        "📊 Baseline Report:\n",
                        "   📁 ../reports/baseline_analysis_report.md\n",
                        "   💡 Right-click in VS Code Explorer → 'Open Preview'\n",
                        "\n",
                        "📋 **Quick Preview - Strategic Report:**\n",
                        "==================================================\n",
                        "# Strategic Intersection Analysis: AI Agents in Logistics Research\n",
                        "*Analysis Date: 2025-06-05*\n",
                        "\n",
                        "## Executive Summary\n",
                        "- **Core Research Domain**: AI Agents in Supply Chain Management represents 1,082 publications (2.8% of total corpus)\n",
                        "- **Research Growth**: +149.3% increase in publication volume (2020-2024 vs 2015-2019)\n",
                        "\n",
                        "## Research Landscape Analysis\n",
                        "### Research Domain Distribution:\n",
                        "- **Agent + Supply Chain**: 6,804 publications (17.8%)\n",
                        "  - Recent publication growth: 📊 +28.9%\n",
                        "- **AI + Supply Chain**: 1,519 publications (4.0%)\n",
                        "  - Recent publication growth: 📈 +198.0%\n",
                        "- **Agent + AI**: 2,268 publications (5.9%)\n",
                        "  - Recent publication growth: 📈 +132.7%\n",
                        "- **Agent + SCM (Non-AI)**: 5,722 publications (15.0%)\n",
                        "  - Recent publication growth: 📊 +13.6%\n",
                        "- **AI + SCM (Non-Agent)**: 437 publications (1.1%)\n",
                        "  - Recent publication growth: 📈 +327.8%\n",
                        "\n",
                        "### Cross-Domain Research Integration:\n",
                        "- **AI Integration in Agent-based SCM Research**: 15.9%\n",
                        "- **Agent Concepts in AI-driven SCM Research**: 71.2%\n",
                        "\n",
                        "#...\n",
                        "\n",
                        "📋 **Quick Preview - Baseline Report:**\n",
                        "==================================================\n",
                        "# OpenAlex Publications Analysis Report\n",
                        "*Generated on: 2025-06-05 19:42:58*\n",
                        "\n",
                        "## Executive Summary\n",
                        "- **Total Publications Analyzed**: 38,229\n",
                        "- **Supply_Chain Publications**: 11,409 (29.8%)\n",
                        "- **Agency Publications**: 4,423 (11.6%)\n",
                        "- **Ai_Llm Publications**: 4,383 (11.5%)\n",
                        "- **Agent_Terms Publications**: 11,374 (29.8%)\n",
                        "\n",
                        "## Detailed Analysis by Category\n",
                        "\n",
                        "### Supply Chain Publications\n",
                        "- **Total**: 11,409 publications (29.8% of dataset)\n",
                        "- **Subcategory Breakdown**:\n",
                        "  - Core: 10,163 articles (26.6%)\n",
                        "    - Sample terms: supply chain, inventory management, distribution, procurement, logistics\n",
                        "  - Operations: 3,604 articles (9.4%)\n",
                        "    - Sample terms: operations management, just-in-time\n",
                        "  - Technology: 220 articles (0.6%)\n",
                        "    - Sample terms: TMS, ERP\n",
                        "\n",
                        "### Agency Publications\n",
                        "- **Total**: 4,423 publications (11.6% of dataset)\n",
                        "- **Subcategory Breakdown**:\n",
                        "  - Theory: 445 articles (1.2%)\n",
                        "    - Sample terms: adverse selection, principal-agent, agency theory, moral hazard\n",
                        "  - Modeling: 2,297 articles (...\n",
                        "\n",
                        "📁 **All Generated Files in /reports/:**\n",
                        "==================================================\n",
                        "   📄 keyword_temporal_analysis_development_report.md (15.0 KB)\n",
                        "   📄 baseline_analysis_dashboard.html (3547.7 KB)\n",
                        "   📄 strategic_insights_report.md (1.6 KB)\n",
                        "   📄 keyword_analysis_development_report.md (16.1 KB)\n",
                        "   📄 comprehensive_analysis_summary.png (653.5 KB)\n",
                        "   📄 project_development_status_report.md (15.2 KB)\n",
                        "   📄 baseline_analysis_report.md (3.1 KB)\n",
                        "   📄 strategic_intersection_dashboard.html (3548.6 KB)\n",
                        "\n",
                        "================================================================================\n",
                        "📋 COMPLETE ANALYSIS SUITE GENERATED\n",
                        "================================================================================\n",
                        "📊 **Baseline Analysis**: Detailed category breakdowns, subcategory analysis\n",
                        "🎯 **Strategic Analysis**: Intersection focus, growth trends, market positioning\n",
                        "📈 **Interactive Dashboards**: Plotly visualizations for presentation\n",
                        "🖼️  **Static Plots**: High-resolution matplotlib figures\n",
                        "\n",
                        "💡 **To view reports**: Use VS Code's Markdown Preview or open files directly\n",
                        "================================================================================\n"
                    ]
                }
            ],
            "source": [
                "# Generate the complementary baseline analysis report\n",
                "if 'analysis_results' in globals():\n",
                "    print(\"🔄 Generating complementary baseline analysis report...\")\n",
                "    \n",
                "    def generate_analysis_report(analysis_results, evolution_results=None, df=None):\n",
                "        \"\"\"Generate a comprehensive markdown report\"\"\"\n",
                "        \n",
                "        report = []\n",
                "        report.append(\"# OpenAlex Publications Analysis Report\")\n",
                "        report.append(f\"*Generated on: {datetime.now().strftime('%Y-%m-%d %H:%M:%S')}*\\n\")\n",
                "        \n",
                "        # Executive Summary\n",
                "        report.append(\"## Executive Summary\")\n",
                "        total = analysis_results['total_publications']\n",
                "        report.append(f\"- **Total Publications Analyzed**: {total:,}\")\n",
                "        \n",
                "        for category, data in analysis_results['by_category'].items():\n",
                "            report.append(f\"- **{category.title()} Publications**: {data['total']:,} ({data['percentage']:.1f}%)\")\n",
                "        \n",
                "        # Detailed Category Analysis\n",
                "        report.append(\"\\n## Detailed Analysis by Category\")\n",
                "        \n",
                "        for category, data in analysis_results['by_category'].items():\n",
                "            report.append(f\"\\n### {category.title().replace('_', ' ')} Publications\")\n",
                "            report.append(f\"- **Total**: {data['total']:,} publications ({data['percentage']:.1f}% of dataset)\")\n",
                "            report.append(f\"- **Subcategory Breakdown**:\")\n",
                "            \n",
                "            for subcat, subdata in data['subcategories'].items():\n",
                "                count = subdata['count']\n",
                "                pct = subdata['percentage']\n",
                "                report.append(f\"  - {subcat.title()}: {count:,} articles ({pct:.1f}%)\")\n",
                "                \n",
                "                # Add sample terms if available\n",
                "                if 'sample_terms' in subdata and subdata['sample_terms']:\n",
                "                    terms_str = ', '.join(subdata['sample_terms'][:5])\n",
                "                    report.append(f\"    - Sample terms: {terms_str}\")\n",
                "        \n",
                "        # Temporal Analysis\n",
                "        if evolution_results:\n",
                "            report.append(\"\\n## Temporal Evolution Analysis\")\n",
                "            \n",
                "            summary = evolution_results['summary']\n",
                "            report.append(f\"- **Analysis Period**: {summary['year_range'][0]}-{summary['year_range'][1]}\")\n",
                "            report.append(f\"- **Agent-related Publications**: {summary['total_agent_articles']:,}\")\n",
                "            report.append(f\"- **AI-related Publications**: {summary['total_ai_articles']:,}\")\n",
                "            report.append(f\"- **Agent+AI Publications**: {summary['total_agent_ai_articles']:,}\")\n",
                "            \n",
                "            # Key trends\n",
                "            report.append(\"\\n### Key Trends (2020-2024)\")\n",
                "            recent_years = [y for y in evolution_results['year_analysis'].keys() if y >= 2020]\n",
                "            \n",
                "            if recent_years:\n",
                "                report.append(\"| Year | Agent Articles | AI Articles | Agent+AI | Connection Rate |\")\n",
                "                report.append(\"|------|----------------|-------------|----------|-----------------|\")\n",
                "                \n",
                "                for year in sorted(recent_years):\n",
                "                    data = evolution_results['year_analysis'][year]\n",
                "                    ratio = data['agent_ai_ratio'] * 100\n",
                "                    report.append(f\"| {year} | {data['agent_articles']:,} | {data['ai_articles']:,} | {data['agent_ai_articles']:,} | {ratio:.1f}% |\")\n",
                "        \n",
                "        # Intersection Analysis\n",
                "        report.append(\"\\n## Category Intersections\")\n",
                "        categories = list(analysis_results['matching_articles'].keys())\n",
                "        \n",
                "        report.append(\"| Category 1 | Category 2 | Intersection | Percentage |\")\n",
                "        report.append(\"|------------|------------|--------------|------------|\")\n",
                "        \n",
                "        for i, cat1 in enumerate(categories):\n",
                "            for cat2 in categories[i+1:]:\n",
                "                set1 = set(analysis_results['matching_articles'][cat1])\n",
                "                set2 = set(analysis_results['matching_articles'][cat2])\n",
                "                intersection = len(set1 & set2)\n",
                "                \n",
                "                if intersection > 0:\n",
                "                    pct = (intersection / total) * 100\n",
                "                    report.append(f\"| {cat1.title().replace('_', ' ')} | {cat2.title().replace('_', ' ')} | {intersection:,} | {pct:.2f}% |\")\n",
                "        \n",
                "        # Recommendations\n",
                "        report.append(\"\\n## Key Findings & Recommendations\")\n",
                "        \n",
                "        # Find dominant categories\n",
                "        sorted_cats = sorted(analysis_results['by_category'].items(), \n",
                "                            key=lambda x: x[1]['total'], reverse=True)\n",
                "        \n",
                "        report.append(f\"1. **Dominant Research Area**: {sorted_cats[0][0].title().replace('_', ' ')} represents the largest category with {sorted_cats[0][1]['total']:,} publications\")\n",
                "        \n",
                "        if evolution_results:\n",
                "            # Find growth trends\n",
                "            recent_data = {year: data for year, data in evolution_results['year_analysis'].items() if year >= 2020}\n",
                "            if len(recent_data) >= 2:\n",
                "                years = sorted(recent_data.keys())\n",
                "                ai_growth = recent_data[years[-1]]['ai_articles'] - recent_data[years[0]]['ai_articles']\n",
                "                report.append(f\"2. **AI Research Growth**: AI-related publications showed {'positive' if ai_growth > 0 else 'negative'} growth in recent years\")\n",
                "        \n",
                "        # Check supply chain relevance\n",
                "        sc_relevant = analysis_results['by_category'].get('supply_chain', {}).get('total', 0)\n",
                "        sc_percentage = (sc_relevant / total) * 100\n",
                "        \n",
                "        if sc_percentage < 10:\n",
                "            report.append(f\"3. **Supply Chain Relevance**: Only {sc_percentage:.1f}% of publications are supply chain-related. Consider refining search criteria for better relevance.\")\n",
                "        else:\n",
                "            report.append(f\"3. **Supply Chain Relevance**: {sc_percentage:.1f}% of publications are supply chain-related, indicating good dataset relevance.\")\n",
                "        \n",
                "        return \"\\n\".join(report)\n",
                "    \n",
                "    # Generate the report\n",
                "    report_content = generate_analysis_report(\n",
                "        analysis_results,\n",
                "        evolution_results if 'evolution_results' in globals() else None,\n",
                "        df\n",
                "    )\n",
                "    \n",
                "    # Save report\n",
                "    reports_dir = data_dir.parent / 'reports'\n",
                "    report_path = reports_dir / 'baseline_analysis_report.md'\n",
                "    \n",
                "    with open(report_path, 'w', encoding='utf-8') as f:\n",
                "        f.write(report_content)\n",
                "    \n",
                "    print(f\"✅ Baseline analysis report saved: {report_path}\")\n",
                "    \n",
                "    # Display file paths for manual viewing in VS Code\n",
                "    print(\"\\n📖 Generated Report Files:\")\n",
                "    print(\"=\"*60)\n",
                "    \n",
                "    strategic_report_path = reports_dir / 'strategic_insights_report.md'\n",
                "    baseline_report_path = reports_dir / 'baseline_analysis_report.md'\n",
                "    \n",
                "    print(f\"🎯 Strategic Report:\")\n",
                "    print(f\"   📁 {strategic_report_path}\")\n",
                "    print(f\"   💡 Right-click in VS Code Explorer → 'Open Preview'\")\n",
                "    \n",
                "    print(f\"\\n📊 Baseline Report:\")  \n",
                "    print(f\"   📁 {baseline_report_path}\")\n",
                "    print(f\"   💡 Right-click in VS Code Explorer → 'Open Preview'\")\n",
                "    \n",
                "    # Also display the content of both reports for immediate viewing\n",
                "    print(f\"\\n📋 **Quick Preview - Strategic Report:**\")\n",
                "    print(\"=\"*50)\n",
                "    with open(strategic_report_path, 'r', encoding='utf-8') as f:\n",
                "        strategic_content = f.read()\n",
                "    print(strategic_content[:1000] + \"...\" if len(strategic_content) > 1000 else strategic_content)\n",
                "    \n",
                "    print(f\"\\n📋 **Quick Preview - Baseline Report:**\")\n",
                "    print(\"=\"*50)\n",
                "    print(report_content[:1000] + \"...\" if len(report_content) > 1000 else report_content)\n",
                "    \n",
                "    # List all generated files\n",
                "    print(f\"\\n📁 **All Generated Files in /reports/:**\")\n",
                "    print(\"=\"*50)\n",
                "    for report_file in reports_dir.glob(\"*\"):\n",
                "        if report_file.is_file():\n",
                "            size_kb = report_file.stat().st_size / 1024\n",
                "            print(f\"   📄 {report_file.name} ({size_kb:.1f} KB)\")\n",
                "    \n",
                "    print(\"\\n\" + \"=\"*80)\n",
                "    print(\"📋 COMPLETE ANALYSIS SUITE GENERATED\")\n",
                "    print(\"=\"*80)\n",
                "    print(\"📊 **Baseline Analysis**: Detailed category breakdowns, subcategory analysis\")\n",
                "    print(\"🎯 **Strategic Analysis**: Intersection focus, growth trends, market positioning\")\n",
                "    print(\"📈 **Interactive Dashboards**: Plotly visualizations for presentation\")\n",
                "    print(\"🖼️  **Static Plots**: High-resolution matplotlib figures\")\n",
                "    print(\"\\n💡 **To view reports**: Use VS Code's Markdown Preview or open files directly\")\n",
                "    print(\"=\"*80)\n",
                "    \n",
                "else:\n",
                "    print(\"❌ Cannot generate baseline report - analysis results not available\")"
            ]
        }
    ],
    "metadata": {
        "kernelspec": {
            "display_name": "tsi",
            "language": "python",
            "name": "python3"
        },
        "language_info": {
            "codemirror_mode": {
                "name": "ipython",
                "version": 3
            },
            "file_extension": ".py",
            "mimetype": "text/x-python",
            "name": "python",
            "nbconvert_exporter": "python",
            "pygments_lexer": "ipython3",
            "version": "3.11.8"
        }
    },
    "nbformat": 4,
    "nbformat_minor": 5
}
