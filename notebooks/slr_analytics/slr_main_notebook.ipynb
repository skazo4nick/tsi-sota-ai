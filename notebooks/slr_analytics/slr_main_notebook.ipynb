{
  "cells": [
    {
      "cell_type": "markdown",
      "metadata": {},
      "source": "# SLR Data Acquisition and Analysis Notebook\n\nThis notebook orchestrates the process of fetching, processing, and analyzing publication data for the \"Agentic AI in SCM\" Systematic Literature Review."
    },
    {
      "cell_type": "code",
      "execution_count": null,
      "metadata": {},
      "outputs": [],
      "source": "# Imports and Setup\nimport sys\nimport os\n\n# Add slr_core to Python path (adjust if your notebook is elsewhere or slr_core is installed)\n# This assumes the notebook is in notebooks/slr_analytics/ and slr_core is at the project root\nmodule_path = os.path.abspath(os.path.join(os.path.dirname(__file__), '..', '..'))\nif module_path not in sys.path:\n    sys.path.append(module_path)\n\nfrom slr_core.data_acquirer import DataAcquirer\nfrom slr_core.data_processor import DataProcessor\n# from slr_core.keyword_analyzer import KeywordAnalyzer # Placeholder for later\n# from slr_core.semantic_analyzer import SemanticAnalyzer # Placeholder for later\n# from slr_core.visualizer import Visualizer # Placeholder for later\nfrom slr_core.config_manager import ConfigManager\n\nprint(\"Modules imported.\")"
    },
    {
      "cell_type": "markdown",
      "metadata": {},
      "source": "## 1. Configuration\n\nLoad configuration settings using `ConfigManager`. \nThis will load from `config/slr_config.yaml` and allow access to environment variables for API keys."
    },
    {
      "cell_type": "code",
      "execution_count": null,
      "metadata": {},
      "outputs": [],
      "source": "# Initialize Configuration Manager\nconfig_mgr = ConfigManager()\nprint(\"ConfigManager initialized.\")\n# Example: Access a config value\nprint(f\"Using raw data directory: {config_mgr.get('data_paths.raw_data_dir')}\")\n\n# Initialize Data Acquirer and Processor with ConfigManager\ndata_acquirer = DataAcquirer(config_manager=config_mgr)\nprint(\"DataAcquirer initialized.\")\n\ndata_processor = DataProcessor(config_manager=config_mgr)\nprint(\"DataProcessor initialized.\")"
    },
    {
      "cell_type": "markdown",
      "metadata": {},
      "source": "## 2. Data Acquisition\n\nFetch data from academic APIs."
    },
    {
      "cell_type": "code",
      "execution_count": null,
      "metadata": {},
      "outputs": [],
      "source": "# Define search parameters (load from config with local overrides if needed)\ndefault_params = config_mgr.default_search_params\n\nsearch_query = default_params.get(\"query\", \"agentic AI in Supply Chain Management\") # Default query if not in YAML\nstart_year = default_params.get(\"start_year\", 2021)\nend_year = default_params.get(\"end_year\", 2023) \nmax_results_per_source = default_params.get(\"max_results_per_source\", 10)\n\n# Optional: Allow overriding specific parameters in the cell for quick tests\n# start_year = 2020 \n# search_query = \"different query for this run\"\n\n# Fetch data\nprint(f\"Fetching data for query: '{search_query}' from {start_year}-{end_year} (max_results_per_source: {max_results_per_source})...\")\nall_fetched_data = data_acquirer.fetch_all_sources(\n    query=search_query,\n    start_year=start_year,\n    end_year=end_year,\n    max_results_per_source=max_results_per_source\n)\n\n# Display some results\nfor source, results in all_fetched_data.items():\n    print(f\"--- Results from {source} ({len(results)} articles) ---\")\n    if results:\n        for i, paper in enumerate(results[:2]): # Print first 2 results from each source\n            print(f\"  Paper {i+1}: {paper.get('title', 'N/A')}\")\n            if paper.get('doi'):\n                print(f\"     DOI: {paper.get('doi')}\")\n    else:\n        print(\"  No results found or an error occurred.\")\n        \nprint(\"\\nData acquisition test complete.\")"
    },
    {
      "cell_type": "markdown",
      "metadata": {},
      "source": "## 3. Data Processing and Structuring\n\nProcess the raw fetched data to standardize formats, clean, and deduplicate."
    },
    {
      "cell_type": "code",
      "execution_count": null,
      "metadata": {},
      "outputs": [],
      "source": "# Process the fetched data\n# 'all_fetched_data' is the output from the Data Acquisition step (Cell 6)\n# DataProcessor 'data_processor' is initialized in Cell 4\nif 'all_fetched_data' in locals() and all_fetched_data:\n    print(\"\\nProcessing fetched data...\")\n    processed_df = data_processor.process_raw_data(all_fetched_data)\n    \n    if not processed_df.empty:\n        print(\"\\n--- Sample of Processed DataFrame ---\")\n        print(processed_df.head())\n        print(f\"\\nShape of processed DataFrame: {processed_df.shape}\")\n        print(f\"\\nColumns: {processed_df.columns.tolist()}\")\n        \n        # Save the processed data\n        processed_filename = config_mgr.get(\"data_paths.processed_articles_file\", \"slr_processed_articles.csv\")\n        processed_file_path = data_processor.save_processed_data(processed_df, filename=processed_filename)\n        if processed_file_path:\n            print(f\"Processed data saved to: {processed_file_path}\")\n        else:\n            print(\"Failed to save processed data.\")\n    else:\n        print(\"No data was processed, or the resulting DataFrame is empty.\")\nelse:\n    print(\"No fetched data available to process. Please run the Data Acquisition step first.\")"
    }
  ],
  "metadata": {
    "kernelspec": {
      "display_name": "Python 3",
      "language": "python",
      "name": "python3"
    },
    "language_info": {
      "codemirror_mode": {
        "name": "ipython",
        "version": 3
      },
      "file_extension": ".py",
      "mimetype": "text/x-python",
      "name": "python",
      "nbconvert_exporter": "python",
      "pygments_lexer": "ipython3",
      "version": "3.11"
    }
  },
  "nbformat": 4,
  "nbformat_minor": 5
}
